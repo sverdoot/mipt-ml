{
  "nbformat": 4,
  "nbformat_minor": 0,
  "metadata": {
    "anaconda-cloud": {},
    "kernelspec": {
      "name": "python3",
      "display_name": "Python 3"
    },
    "language_info": {
      "codemirror_mode": {
        "name": "ipython",
        "version": 3
      },
      "file_extension": ".py",
      "mimetype": "text/x-python",
      "name": "python",
      "nbconvert_exporter": "python",
      "pygments_lexer": "ipython3",
      "version": "3.6.4"
    },
    "colab": {
      "name": "Lab2_DL_part2.ipynb",
      "provenance": [],
      "collapsed_sections": [],
      "toc_visible": true
    },
    "accelerator": "GPU"
  },
  "cells": [
    {
      "cell_type": "markdown",
      "metadata": {
        "id": "lQ4zqTVazPOa"
      },
      "source": [
        "## Lab 3"
      ]
    },
    {
      "cell_type": "markdown",
      "metadata": {
        "id": "-jR2KIjPzPOd"
      },
      "source": [
        "### Part 2. Almost Shakespeare (2.0 points)\n",
        "\n",
        "В этой части задания мы научимся генерировать текст с помощью нейронных сетей. Конкретнее, обучим нейронную сеть на сонетах Шекспира и попросим нейросеть написать свой сонет.\n",
        "\n",
        "Генерация текста обычно включает в себя следующие шаги:\n",
        "    \n",
        "1. Загрузка данных.\n",
        "2. Создание словарей слов/символов.\n",
        "3. Препроцессинг данных.\n",
        "4. Обучение модели (нейросети).\n",
        "5. Генерация нового текста.\n"
      ]
    },
    {
      "cell_type": "markdown",
      "metadata": {
        "id": "5-nmjtGjzPOi"
      },
      "source": [
        "#### Часть 1. Предобработка данных"
      ]
    },
    {
      "cell_type": "markdown",
      "metadata": {
        "id": "vZ84OetPzPOk"
      },
      "source": [
        "Для начала загрузим данные. Файл с сонетами Шекспира доступен по [ссылке](http://www.gutenberg.org/ebooks/1041?msg=welcome_stranger). Кроме того, он находится рядом с этим ноутбуком (`sonnetes.txt`).\n",
        "\n",
        "Базовая предобработка уже сделана: текст состоит непосредственно из поэм Шекспира и названий/номеров глав, все техническая информация удалена."
      ]
    },
    {
      "cell_type": "code",
      "metadata": {
        "id": "OBbc85YOzPOm"
      },
      "source": [
        "import string"
      ],
      "execution_count": null,
      "outputs": []
    },
    {
      "cell_type": "code",
      "metadata": {
        "id": "EuBQbnpbzPOq"
      },
      "source": [
        "with open('sonnets.txt', 'r') as iofile:\n",
        "    text = iofile.readlines()\n",
        "    \n",
        "TEXT_START = 45\n",
        "TEXT_END = -368\n",
        "text = text[TEXT_START:TEXT_END]\n",
        "assert len(text) == 2616"
      ],
      "execution_count": null,
      "outputs": []
    },
    {
      "cell_type": "markdown",
      "metadata": {
        "id": "E4IKA_GYzPOt"
      },
      "source": [
        "Так как в этот раз мы хотим научиться предсказывать текст, понизим сложность задачи и приведем текст к нижнему регистру.\n",
        "\n",
        "В настоящий момент переменная `text` представляет собой список из строк. Объедините все строки в одну и приведите к нижнему регистру. "
      ]
    },
    {
      "cell_type": "code",
      "metadata": {
        "id": "avjVX-b-zPOu",
        "colab": {
          "base_uri": "https://localhost:8080/",
          "height": 34
        },
        "outputId": "985c66e3-f165-425d-c416-fea284da2ea5"
      },
      "source": [
        "# Объедините все строки в одну и приведите к нижнему регистру.\n",
        "# Результат запишите в переменную text.\n",
        "\n",
        "text = (''.join(text)).lower()\n",
        "\n",
        "assert len(text) == 100225, 'Are you sure you have concatenated all the strings?'\n",
        "assert not any([x in set(text) for x in string.ascii_uppercase]), 'Uppercase letters are present'\n",
        "print('Отлично!')"
      ],
      "execution_count": null,
      "outputs": [
        {
          "output_type": "stream",
          "text": [
            "Отлично!\n"
          ],
          "name": "stdout"
        }
      ]
    },
    {
      "cell_type": "markdown",
      "metadata": {
        "id": "BeURhzvZzPOy"
      },
      "source": [
        "Выделите множество всех символов, с которыми нам довелось встретиться в переменную `tokens`."
      ]
    },
    {
      "cell_type": "code",
      "metadata": {
        "id": "SJ_oPYSizPOz"
      },
      "source": [
        "tokens = sorted(set(text))"
      ],
      "execution_count": null,
      "outputs": []
    },
    {
      "cell_type": "markdown",
      "metadata": {
        "id": "5kQ0kdgYzPO2"
      },
      "source": [
        "Постройте словарь `token_to_idx` вида <символ>: <индекс> и словарь `idx_to_token` вида <индекс>: <символ>."
      ]
    },
    {
      "cell_type": "code",
      "metadata": {
        "id": "3Sk57zihzPO3"
      },
      "source": [
        "# словарь вида <индекс>:<символ>\n",
        "id_to_token = {t:i for t, i in enumerate(tokens)}\n",
        "\n",
        "# словарь вида <символ>:<индекс>\n",
        "token_to_id = {i:t for t, i in id_to_token.items()}"
      ],
      "execution_count": null,
      "outputs": []
    },
    {
      "cell_type": "markdown",
      "metadata": {
        "id": "fxIO7il1zPO6"
      },
      "source": [
        "*Комментарий: т.к. у нас всего 38 различных токенов, в этот раз воспользуемся one-hot encoding'ом.*\n"
      ]
    },
    {
      "cell_type": "markdown",
      "metadata": {
        "id": "8YIeakaRzPO7"
      },
      "source": [
        "## Построение модели."
      ]
    },
    {
      "cell_type": "markdown",
      "metadata": {
        "id": "toV_nFvjzPO8"
      },
      "source": [
        "Теперь наша задача - создать и обучить рекуррентную нейронную сеть, которая сможет генерировать что-то похожее на поэзию Шекспира.\n",
        "\n",
        "Для начала воспользуемся классической RNN, аналогичной построенной на семинаре. "
      ]
    },
    {
      "cell_type": "code",
      "metadata": {
        "id": "0FGbvnj6zPO9"
      },
      "source": [
        "import torch\n",
        "from torch import nn\n",
        "import torch.nn.functional as F\n",
        "\n",
        "class RNN(nn.Module):\n",
        "    \"\"\"\n",
        "    Implement the scheme above as torch module\n",
        "    \"\"\"\n",
        "    def __init__(self, num_tokens=len(tokens), embedding_size=128, rnn_num_units=1024):\n",
        "        super(self.__class__,self).__init__()\n",
        "        self.num_units = rnn_num_units\n",
        "        \n",
        "        self.embedding = nn.Embedding(num_tokens, embedding_size)\n",
        "        self.rnn_update = nn.Linear(embedding_size + rnn_num_units, rnn_num_units)\n",
        "        self.rnn_to_logits = nn.Linear(rnn_num_units, num_tokens)\n",
        "        \n",
        "    def forward(self, x, h_prev, temperature=1):\n",
        "        \"\"\"\n",
        "        This method computes h_next(x, h_prev) and log P(x_next | h_next)\n",
        "        We'll call it repeatedly to produce the whole sequence.\n",
        "        \n",
        "        :param x: batch of character ids, containing vector of int64\n",
        "        :param h_prev: previous rnn hidden states, containing matrix [batch, rnn_num_units] of float32\n",
        "        \"\"\"\n",
        "        # get vector embedding of x\n",
        "        x_emb = self.embedding(x)\n",
        "        \n",
        "        # compute next hidden state using self.rnn_update\n",
        "        # hint: use torch.cat(..., dim=...) for concatenation\n",
        "        x_and_h = torch.cat([x_emb, h_prev], dim=-1)#YOUR CODE HERE\n",
        "        h_next = self.rnn_update(x_and_h)#YOUR CODE HERE\n",
        "        \n",
        "        h_next = torch.tanh(h_next)#YOUR CODE HERE\n",
        "        \n",
        "        assert h_next.size() == h_prev.size()\n",
        "        \n",
        "        #compute logits for next character probs\n",
        "        logits = self.rnn_to_logits(h_next)#YOUR CODE\n",
        "        \n",
        "        return h_next, F.log_softmax(logits / temperature, -1)\n",
        "    \n",
        "    def initial_state(self, batch_size):\n",
        "        \"\"\" return rnn state before it processes first input (aka h0) \"\"\"\n",
        "        return torch.zeros(batch_size, self.num_units, requires_grad=True)"
      ],
      "execution_count": null,
      "outputs": []
    },
    {
      "cell_type": "code",
      "metadata": {
        "id": "U6aIeAYhYB6r"
      },
      "source": [
        "from torch.utils.data import DataLoader\n",
        "\n",
        "ids = [token_to_id[t] for t in text]\n",
        "prefix_len = 100\n",
        "samples = [torch.LongTensor(ids[i*prefix_len:(i+1)*prefix_len]) for i in range(len(ids)//prefix_len)]\n",
        "batcher = DataLoader(samples, batch_size=32)"
      ],
      "execution_count": null,
      "outputs": []
    },
    {
      "cell_type": "code",
      "metadata": {
        "id": "LxsGtFr0TeMC"
      },
      "source": [
        "def rnn_loop(rnn, batch_ix):\n",
        "    \"\"\"\n",
        "    Computes log P(next_character) for all time-steps in names_ix\n",
        "    :param names_ix: an int32 matrix of shape [batch, time], output of to_matrix(names)\n",
        "    \"\"\"\n",
        "    batch_size, max_length = batch_ix.size()\n",
        "    hid_state = rnn.initial_state(batch_size).to(device)\n",
        "    logprobs = []\n",
        "\n",
        "    for x_t in batch_ix.transpose(0,1):\n",
        "        hid_state, logp_next = rnn(x_t, hid_state)  # <-- here we call your one-step code\n",
        "        logprobs.append(logp_next)\n",
        "        \n",
        "    return torch.stack(logprobs, dim=1)"
      ],
      "execution_count": null,
      "outputs": []
    },
    {
      "cell_type": "code",
      "metadata": {
        "id": "TdhtngEjoOkb",
        "colab": {
          "base_uri": "https://localhost:8080/",
          "height": 34
        },
        "outputId": "1c639ef4-ba2c-4310-d067-506dee6a7ad1"
      },
      "source": [
        "device = torch.device(\"cuda\" if torch.cuda.is_available() else \"cpu\")\n",
        "print(device)"
      ],
      "execution_count": null,
      "outputs": [
        {
          "output_type": "stream",
          "text": [
            "cuda\n"
          ],
          "name": "stdout"
        }
      ]
    },
    {
      "cell_type": "code",
      "metadata": {
        "id": "pReVS5ZgT-SL"
      },
      "source": [
        "from IPython.display import clear_output\n",
        "from random import sample\n",
        "import numpy as np\n",
        "from matplotlib import pyplot as plt\n",
        "\n",
        "rnn = RNN().to(device)\n",
        "opt = torch.optim.Adam(rnn.parameters(), lr = 0.001)\n",
        "history = []\n",
        "n_epoch = 150"
      ],
      "execution_count": null,
      "outputs": []
    },
    {
      "cell_type": "code",
      "metadata": {
        "id": "Arpsj7lZbOvU",
        "colab": {
          "base_uri": "https://localhost:8080/",
          "height": 265
        },
        "outputId": "b2cd4a97-c6a1-49cb-de8e-96248f93576c"
      },
      "source": [
        "for ep in range(n_epoch):\n",
        "    for i, batch_ix in enumerate(batcher):\n",
        "      batch_ix = torch.LongTensor(batch_ix).to(device)\n",
        "      #print(batch_ix.size())\n",
        "      logp_seq = rnn_loop(rnn, batch_ix)\n",
        "\n",
        "      predictions_logp = logp_seq[:, :-1]\n",
        "      actual_next_tokens = batch_ix[:, 1:]\n",
        "\n",
        "      logp_next = torch.gather(predictions_logp, dim=2, index=actual_next_tokens[:,:,None])\n",
        "\n",
        "      loss = -logp_next.mean()\n",
        "      loss.backward()\n",
        "      opt.step()\n",
        "      opt.zero_grad()\n",
        "      #scheduler.step(loss.item())\n",
        "      \n",
        "      history.append(loss.data.cpu().numpy())\n",
        "    clear_output(True)\n",
        "    plt.plot(history,label='loss')\n",
        "    plt.legend()\n",
        "    plt.show()\n",
        "\n",
        "assert np.mean(history[:10]) > np.mean(history[-10:]), \"RNN didn't converge.\""
      ],
      "execution_count": null,
      "outputs": [
        {
          "output_type": "display_data",
          "data": {
            "image/png": "[encoded data removed]",
            "text/plain": [
              "<Figure size 432x288 with 1 Axes>"
            ]
          },
          "metadata": {
            "tags": []
          }
        }
      ]
    },
    {
      "cell_type": "markdown",
      "metadata": {
        "id": "t8NfJsFBzPPA"
      },
      "source": [
        "Постройте график функции потерь в зависимости от номера эпохи."
      ]
    },
    {
      "cell_type": "code",
      "metadata": {
        "id": "RRxw0aS1zPPB",
        "colab": {
          "base_uri": "https://localhost:8080/",
          "height": 370
        },
        "outputId": "5a785f03-7766-420d-d7c5-fe56f70e165b"
      },
      "source": [
        "plt.plot([np.mean(history[i*len(batcher):(i+1)*len(batcher)]) for i in range(n_epoch+1)])"
      ],
      "execution_count": null,
      "outputs": [
        {
          "output_type": "stream",
          "text": [
            "/usr/local/lib/python3.6/dist-packages/numpy/core/fromnumeric.py:3257: RuntimeWarning: Mean of empty slice.\n",
            "  out=out, **kwargs)\n",
            "/usr/local/lib/python3.6/dist-packages/numpy/core/_methods.py:161: RuntimeWarning: invalid value encountered in double_scalars\n",
            "  ret = ret.dtype.type(ret / rcount)\n"
          ],
          "name": "stderr"
        },
        {
          "output_type": "execute_result",
          "data": {
            "text/plain": [
              "[<matplotlib.lines.Line2D at 0x7f3b72174f28>]"
            ]
          },
          "metadata": {
            "tags": []
          },
          "execution_count": 12
        },
        {
          "output_type": "display_data",
          "data": {
            "image/png": "[encoded data removed]",
            "text/plain": [
              "<Figure size 432x288 with 1 Axes>"
            ]
          },
          "metadata": {
            "tags": []
          }
        }
      ]
    },
    {
      "cell_type": "code",
      "metadata": {
        "id": "dOaHOOxg7XTo",
        "colab": {
          "base_uri": "https://localhost:8080/",
          "height": 34
        },
        "outputId": "f09714d3-ae67-48e0-8319-5ff77d09245b"
      },
      "source": [
        "print(np.mean(history[-len(batcher)]))"
      ],
      "execution_count": null,
      "outputs": [
        {
          "output_type": "stream",
          "text": [
            "0.053912703\n"
          ],
          "name": "stdout"
        }
      ]
    },
    {
      "cell_type": "code",
      "metadata": {
        "id": "rOfqHuNVfx8S"
      },
      "source": [
        "def generate_text(length=100, temperature=1):\n",
        "    hid_state = rnn.initial_state(1).to(device)\n",
        "    past = sample(tokens, 1)\n",
        "    #past = list(text[:15])\n",
        "    for i in range(length):\n",
        "         x = torch.LongTensor([token_to_id[past[-1]]]).to(device)\n",
        "         hid_state, logit = rnn(x, hid_state, temperature=temperature)\n",
        "         past.append(id_to_token[torch.multinomial(torch.exp(logit), 1)[0].item()])\n",
        "    return ''.join(past)"
      ],
      "execution_count": null,
      "outputs": []
    },
    {
      "cell_type": "code",
      "metadata": {
        "id": "97P1DRZnzPPH",
        "colab": {
          "base_uri": "https://localhost:8080/",
          "height": 459
        },
        "outputId": "6756aeb1-4c08-499c-f66a-c7b487aa978e"
      },
      "source": [
        "# Пример сгенерированного текста. Функция `generate_text` отсутствует в коде выше. Реализуйте ее самостоятельно.\n",
        "print(generate_text(length=1000, temperature=0.2))"
      ],
      "execution_count": null,
      "outputs": [
        {
          "output_type": "stream",
          "text": [
            "! what a happy title do i find,\n",
            "  happy to have thy love, happy to die!\n",
            "    but what's so blessed-face,\n",
            "  sweet beauty hath no name, no holy bower,\n",
            "  but is profan'd, if not lives in disgrace with fortune and men's eyes\n",
            "  i all alone beweep my outcast strangely pass,\n",
            "  and scarcely greet me with that muse,\n",
            "  stirr'd by a painted beauty to his verse,\n",
            "  who hast by waning grown, and therein show'st\n",
            "  thy beauty grow,\n",
            "    the pain be mine own desert,\n",
            "  and hang more praise upon deceased i\n",
            "  than niggard truth upon shadow of your beauty show,\n",
            "  the other as your bounty die aud the judgment of my heart is tied?\n",
            "  why should my heart think that a several plot,\n",
            "  which my jede live:\n",
            "  against this coming end you should prepare,\n",
            "  and your sweet semblance to some other pattern to succeeds.\n",
            "\n",
            "  cxxxvii\n",
            "\n",
            "  thou blind fool, love, what dost thou use\n",
            "  so great a sum of sums, your charter is store;\n",
            "  buy terms divine in selling hours of dross;\n",
            "  within by that i prove,\n",
            "    love's fire heats water for\n"
          ],
          "name": "stdout"
        }
      ]
    },
    {
      "cell_type": "markdown",
      "metadata": {
        "id": "NzIE_WlczPPK"
      },
      "source": [
        "### Более поэтичная модель\n",
        "\n",
        "Теперь давайте воспользуемся LSTM слоем вместо классической RNN и сравним результаты."
      ]
    },
    {
      "cell_type": "markdown",
      "metadata": {
        "id": "l8K1ebfFzPPK"
      },
      "source": [
        "Снова постройте график функции потерь от числа эпох. Стал ли финальный loss лучше?"
      ]
    },
    {
      "cell_type": "code",
      "metadata": {
        "id": "HwR-k7w_zPPL"
      },
      "source": [
        "import torch\n",
        "from torch import nn\n",
        "import torch.nn.functional as F\n",
        "\n",
        "class LSTM(nn.Module):\n",
        "    \"\"\"\n",
        "    Implement the scheme above as torch module\n",
        "    \"\"\"\n",
        "    def __init__(self, num_tokens=len(tokens), embedding_size=128, rnn_num_units=1024):\n",
        "        super(self.__class__,self).__init__()\n",
        "        self.num_units = rnn_num_units\n",
        "        \n",
        "        self.embedding = nn.Embedding(num_tokens, embedding_size)\n",
        "        self.lstm = nn.LSTM(embedding_size, rnn_num_units, batch_first=True)\n",
        "        self.rnn_update = nn.Linear(embedding_size + rnn_num_units, rnn_num_units)\n",
        "        self.rnn_to_logits = nn.Linear(rnn_num_units, num_tokens)\n",
        "        \n",
        "    def forward(self, x, h_prev, temperature=1):\n",
        "        \"\"\"\n",
        "        This method computes h_next(x, h_prev) and log P(x_next | h_next)\n",
        "        We'll call it repeatedly to produce the whole sequence.\n",
        "        \n",
        "        :param x: batch of character ids, containing vector of int64\n",
        "        :param h_prev: previous rnn hidden states, containing matrix [batch, rnn_num_units] of float32\n",
        "        \"\"\"\n",
        "        # get vector embedding of x\n",
        "        x_emb = self.embedding(x).unsqueeze(1)\n",
        "        \n",
        "        # compute next hidden state using self.rnn_update\n",
        "        # hint: use torch.cat(..., dim=...) for concatenation\n",
        "        #x_and_h = torch.cat([x_emb, h_prev], dim=-1)#YOUR CODE HERE\n",
        "        x, (h, c) = self.lstm(x_emb, h_prev)#YOUR CODE HERE\n",
        "        \n",
        "        #compute logits for next character probs\n",
        "        logits = self.rnn_to_logits(x[:, -1])#YOUR CODE\n",
        "        \n",
        "        return (h, c), F.log_softmax(logits / temperature, -1)\n",
        "    \n",
        "    def initial_state(self, batch_size):\n",
        "        \"\"\" return rnn state before it processes first input (aka h0) \"\"\"\n",
        "        return (torch.zeros(1, batch_size, self.num_units, requires_grad=True), \n",
        "                     torch.zeros(1, batch_size, self.num_units, requires_grad=True))"
      ],
      "execution_count": null,
      "outputs": []
    },
    {
      "cell_type": "code",
      "metadata": {
        "id": "W6C2Ap_iwacY"
      },
      "source": [
        "lstm = LSTM().to(device)\n",
        "opt = torch.optim.Adam(lstm.parameters(), lr = 0.001)\n",
        "history = []\n",
        "n_epoch = 100"
      ],
      "execution_count": null,
      "outputs": []
    },
    {
      "cell_type": "code",
      "metadata": {
        "id": "994Mn7b-w22a"
      },
      "source": [
        "def rnn_loop(rnn, batch_ix):\n",
        "    \"\"\"\n",
        "    Computes log P(next_character) for all time-steps in names_ix\n",
        "    :param names_ix: an int32 matrix of shape [batch, time], output of to_matrix(names)\n",
        "    \"\"\"\n",
        "    batch_size, max_length = batch_ix.size()\n",
        "    hid_state = rnn.initial_state(batch_size)\n",
        "    if isinstance(hid_state, tuple):\n",
        "       hid_state = (hid_state[0].to(device), hid_state[1].to(device))\n",
        "    else:\n",
        "      hid_state = hid_state.to(device).unsqueeze(-1)\n",
        "    logprobs = []\n",
        "\n",
        "    for x_t in batch_ix.transpose(0,1):\n",
        "        hid_state, logp_next = rnn(x_t, hid_state)  # <-- here we call your one-step code\n",
        "        logprobs.append(logp_next)\n",
        "        \n",
        "    return torch.stack(logprobs, dim=1)"
      ],
      "execution_count": null,
      "outputs": []
    },
    {
      "cell_type": "code",
      "metadata": {
        "id": "u4xffbl5wxEs",
        "colab": {
          "base_uri": "https://localhost:8080/",
          "height": 622
        },
        "outputId": "0fff6744-991d-4e6d-e424-99d643ae7207"
      },
      "source": [
        "for ep in range(n_epoch):\n",
        "    for i, batch_ix in enumerate(batcher):\n",
        "      batch_ix = torch.LongTensor(batch_ix).to(device)\n",
        "      #print(batch_ix.size())\n",
        "      logp_seq = rnn_loop(lstm, batch_ix)\n",
        "\n",
        "      predictions_logp = logp_seq[:, :-1]\n",
        "      actual_next_tokens = batch_ix[:, 1:]\n",
        "\n",
        "      logp_next = torch.gather(predictions_logp, dim=2, index=actual_next_tokens[:,:,None])\n",
        "\n",
        "      loss = -logp_next.mean()\n",
        "      loss.backward()\n",
        "      opt.step()\n",
        "      opt.zero_grad()\n",
        "      #scheduler.step(loss.item())\n",
        "      \n",
        "      history.append(loss.data.cpu().numpy())\n",
        "    clear_output(True)\n",
        "    plt.plot(history,label='loss')\n",
        "    plt.legend()\n",
        "    plt.show()\n",
        "\n",
        "assert np.mean(history[:10]) > np.mean(history[-10:]), \"RNN didn't converge.\""
      ],
      "execution_count": null,
      "outputs": [
        {
          "output_type": "display_data",
          "data": {
            "image/png": "[encoded data removed]",
            "text/plain": [
              "<Figure size 432x288 with 1 Axes>"
            ]
          },
          "metadata": {
            "tags": []
          }
        },
        {
          "output_type": "error",
          "ename": "KeyboardInterrupt",
          "evalue": "ignored",
          "traceback": [
            "\u001b[0;31m---------------------------------------------------------------------------\u001b[0m",
            "\u001b[0;31mKeyboardInterrupt\u001b[0m                         Traceback (most recent call last)",
            "\u001b[0;32m<ipython-input-19-6e26b86ced83>\u001b[0m in \u001b[0;36m<module>\u001b[0;34m()\u001b[0m\n\u001b[1;32m      3\u001b[0m       \u001b[0mbatch_ix\u001b[0m \u001b[0;34m=\u001b[0m \u001b[0mtorch\u001b[0m\u001b[0;34m.\u001b[0m\u001b[0mLongTensor\u001b[0m\u001b[0;34m(\u001b[0m\u001b[0mbatch_ix\u001b[0m\u001b[0;34m)\u001b[0m\u001b[0;34m.\u001b[0m\u001b[0mto\u001b[0m\u001b[0;34m(\u001b[0m\u001b[0mdevice\u001b[0m\u001b[0;34m)\u001b[0m\u001b[0;34m\u001b[0m\u001b[0;34m\u001b[0m\u001b[0m\n\u001b[1;32m      4\u001b[0m       \u001b[0;31m#print(batch_ix.size())\u001b[0m\u001b[0;34m\u001b[0m\u001b[0;34m\u001b[0m\u001b[0;34m\u001b[0m\u001b[0m\n\u001b[0;32m----> 5\u001b[0;31m       \u001b[0mlogp_seq\u001b[0m \u001b[0;34m=\u001b[0m \u001b[0mrnn_loop\u001b[0m\u001b[0;34m(\u001b[0m\u001b[0mlstm\u001b[0m\u001b[0;34m,\u001b[0m \u001b[0mbatch_ix\u001b[0m\u001b[0;34m)\u001b[0m\u001b[0;34m\u001b[0m\u001b[0;34m\u001b[0m\u001b[0m\n\u001b[0m\u001b[1;32m      6\u001b[0m \u001b[0;34m\u001b[0m\u001b[0m\n\u001b[1;32m      7\u001b[0m       \u001b[0mpredictions_logp\u001b[0m \u001b[0;34m=\u001b[0m \u001b[0mlogp_seq\u001b[0m\u001b[0;34m[\u001b[0m\u001b[0;34m:\u001b[0m\u001b[0;34m,\u001b[0m \u001b[0;34m:\u001b[0m\u001b[0;34m-\u001b[0m\u001b[0;36m1\u001b[0m\u001b[0;34m]\u001b[0m\u001b[0;34m\u001b[0m\u001b[0;34m\u001b[0m\u001b[0m\n",
            "\u001b[0;32m<ipython-input-18-2d1931545dd8>\u001b[0m in \u001b[0;36mrnn_loop\u001b[0;34m(rnn, batch_ix)\u001b[0m\n\u001b[1;32m     13\u001b[0m \u001b[0;34m\u001b[0m\u001b[0m\n\u001b[1;32m     14\u001b[0m     \u001b[0;32mfor\u001b[0m \u001b[0mx_t\u001b[0m \u001b[0;32min\u001b[0m \u001b[0mbatch_ix\u001b[0m\u001b[0;34m.\u001b[0m\u001b[0mtranspose\u001b[0m\u001b[0;34m(\u001b[0m\u001b[0;36m0\u001b[0m\u001b[0;34m,\u001b[0m\u001b[0;36m1\u001b[0m\u001b[0;34m)\u001b[0m\u001b[0;34m:\u001b[0m\u001b[0;34m\u001b[0m\u001b[0;34m\u001b[0m\u001b[0m\n\u001b[0;32m---> 15\u001b[0;31m         \u001b[0mhid_state\u001b[0m\u001b[0;34m,\u001b[0m \u001b[0mlogp_next\u001b[0m \u001b[0;34m=\u001b[0m \u001b[0mrnn\u001b[0m\u001b[0;34m(\u001b[0m\u001b[0mx_t\u001b[0m\u001b[0;34m,\u001b[0m \u001b[0mhid_state\u001b[0m\u001b[0;34m)\u001b[0m  \u001b[0;31m# <-- here we call your one-step code\u001b[0m\u001b[0;34m\u001b[0m\u001b[0;34m\u001b[0m\u001b[0m\n\u001b[0m\u001b[1;32m     16\u001b[0m         \u001b[0mlogprobs\u001b[0m\u001b[0;34m.\u001b[0m\u001b[0mappend\u001b[0m\u001b[0;34m(\u001b[0m\u001b[0mlogp_next\u001b[0m\u001b[0;34m)\u001b[0m\u001b[0;34m\u001b[0m\u001b[0;34m\u001b[0m\u001b[0m\n\u001b[1;32m     17\u001b[0m \u001b[0;34m\u001b[0m\u001b[0m\n",
            "\u001b[0;32m/usr/local/lib/python3.6/dist-packages/torch/nn/modules/module.py\u001b[0m in \u001b[0;36m__call__\u001b[0;34m(self, *input, **kwargs)\u001b[0m\n\u001b[1;32m    539\u001b[0m             \u001b[0mresult\u001b[0m \u001b[0;34m=\u001b[0m \u001b[0mself\u001b[0m\u001b[0;34m.\u001b[0m\u001b[0m_slow_forward\u001b[0m\u001b[0;34m(\u001b[0m\u001b[0;34m*\u001b[0m\u001b[0minput\u001b[0m\u001b[0;34m,\u001b[0m \u001b[0;34m**\u001b[0m\u001b[0mkwargs\u001b[0m\u001b[0;34m)\u001b[0m\u001b[0;34m\u001b[0m\u001b[0;34m\u001b[0m\u001b[0m\n\u001b[1;32m    540\u001b[0m         \u001b[0;32melse\u001b[0m\u001b[0;34m:\u001b[0m\u001b[0;34m\u001b[0m\u001b[0;34m\u001b[0m\u001b[0m\n\u001b[0;32m--> 541\u001b[0;31m             \u001b[0mresult\u001b[0m \u001b[0;34m=\u001b[0m \u001b[0mself\u001b[0m\u001b[0;34m.\u001b[0m\u001b[0mforward\u001b[0m\u001b[0;34m(\u001b[0m\u001b[0;34m*\u001b[0m\u001b[0minput\u001b[0m\u001b[0;34m,\u001b[0m \u001b[0;34m**\u001b[0m\u001b[0mkwargs\u001b[0m\u001b[0;34m)\u001b[0m\u001b[0;34m\u001b[0m\u001b[0;34m\u001b[0m\u001b[0m\n\u001b[0m\u001b[1;32m    542\u001b[0m         \u001b[0;32mfor\u001b[0m \u001b[0mhook\u001b[0m \u001b[0;32min\u001b[0m \u001b[0mself\u001b[0m\u001b[0;34m.\u001b[0m\u001b[0m_forward_hooks\u001b[0m\u001b[0;34m.\u001b[0m\u001b[0mvalues\u001b[0m\u001b[0;34m(\u001b[0m\u001b[0;34m)\u001b[0m\u001b[0;34m:\u001b[0m\u001b[0;34m\u001b[0m\u001b[0;34m\u001b[0m\u001b[0m\n\u001b[1;32m    543\u001b[0m             \u001b[0mhook_result\u001b[0m \u001b[0;34m=\u001b[0m \u001b[0mhook\u001b[0m\u001b[0;34m(\u001b[0m\u001b[0mself\u001b[0m\u001b[0;34m,\u001b[0m \u001b[0minput\u001b[0m\u001b[0;34m,\u001b[0m \u001b[0mresult\u001b[0m\u001b[0;34m)\u001b[0m\u001b[0;34m\u001b[0m\u001b[0;34m\u001b[0m\u001b[0m\n",
            "\u001b[0;32m<ipython-input-16-f52b25e61266>\u001b[0m in \u001b[0;36mforward\u001b[0;34m(self, x, h_prev, temperature)\u001b[0m\n\u001b[1;32m     33\u001b[0m \u001b[0;34m\u001b[0m\u001b[0m\n\u001b[1;32m     34\u001b[0m         \u001b[0;31m#compute logits for next character probs\u001b[0m\u001b[0;34m\u001b[0m\u001b[0;34m\u001b[0m\u001b[0;34m\u001b[0m\u001b[0m\n\u001b[0;32m---> 35\u001b[0;31m         \u001b[0mlogits\u001b[0m \u001b[0;34m=\u001b[0m \u001b[0mself\u001b[0m\u001b[0;34m.\u001b[0m\u001b[0mrnn_to_logits\u001b[0m\u001b[0;34m(\u001b[0m\u001b[0mx\u001b[0m\u001b[0;34m[\u001b[0m\u001b[0;34m:\u001b[0m\u001b[0;34m,\u001b[0m \u001b[0;34m-\u001b[0m\u001b[0;36m1\u001b[0m\u001b[0;34m]\u001b[0m\u001b[0;34m)\u001b[0m\u001b[0;31m#YOUR CODE\u001b[0m\u001b[0;34m\u001b[0m\u001b[0;34m\u001b[0m\u001b[0m\n\u001b[0m\u001b[1;32m     36\u001b[0m \u001b[0;34m\u001b[0m\u001b[0m\n\u001b[1;32m     37\u001b[0m         \u001b[0;32mreturn\u001b[0m \u001b[0;34m(\u001b[0m\u001b[0mh\u001b[0m\u001b[0;34m,\u001b[0m \u001b[0mc\u001b[0m\u001b[0;34m)\u001b[0m\u001b[0;34m,\u001b[0m \u001b[0mF\u001b[0m\u001b[0;34m.\u001b[0m\u001b[0mlog_softmax\u001b[0m\u001b[0;34m(\u001b[0m\u001b[0mlogits\u001b[0m \u001b[0;34m/\u001b[0m \u001b[0mtemperature\u001b[0m\u001b[0;34m,\u001b[0m \u001b[0;34m-\u001b[0m\u001b[0;36m1\u001b[0m\u001b[0;34m)\u001b[0m\u001b[0;34m\u001b[0m\u001b[0;34m\u001b[0m\u001b[0m\n",
            "\u001b[0;32m/usr/local/lib/python3.6/dist-packages/torch/nn/modules/module.py\u001b[0m in \u001b[0;36m__call__\u001b[0;34m(self, *input, **kwargs)\u001b[0m\n\u001b[1;32m    539\u001b[0m             \u001b[0mresult\u001b[0m \u001b[0;34m=\u001b[0m \u001b[0mself\u001b[0m\u001b[0;34m.\u001b[0m\u001b[0m_slow_forward\u001b[0m\u001b[0;34m(\u001b[0m\u001b[0;34m*\u001b[0m\u001b[0minput\u001b[0m\u001b[0;34m,\u001b[0m \u001b[0;34m**\u001b[0m\u001b[0mkwargs\u001b[0m\u001b[0;34m)\u001b[0m\u001b[0;34m\u001b[0m\u001b[0;34m\u001b[0m\u001b[0m\n\u001b[1;32m    540\u001b[0m         \u001b[0;32melse\u001b[0m\u001b[0;34m:\u001b[0m\u001b[0;34m\u001b[0m\u001b[0;34m\u001b[0m\u001b[0m\n\u001b[0;32m--> 541\u001b[0;31m             \u001b[0mresult\u001b[0m \u001b[0;34m=\u001b[0m \u001b[0mself\u001b[0m\u001b[0;34m.\u001b[0m\u001b[0mforward\u001b[0m\u001b[0;34m(\u001b[0m\u001b[0;34m*\u001b[0m\u001b[0minput\u001b[0m\u001b[0;34m,\u001b[0m \u001b[0;34m**\u001b[0m\u001b[0mkwargs\u001b[0m\u001b[0;34m)\u001b[0m\u001b[0;34m\u001b[0m\u001b[0;34m\u001b[0m\u001b[0m\n\u001b[0m\u001b[1;32m    542\u001b[0m         \u001b[0;32mfor\u001b[0m \u001b[0mhook\u001b[0m \u001b[0;32min\u001b[0m \u001b[0mself\u001b[0m\u001b[0;34m.\u001b[0m\u001b[0m_forward_hooks\u001b[0m\u001b[0;34m.\u001b[0m\u001b[0mvalues\u001b[0m\u001b[0;34m(\u001b[0m\u001b[0;34m)\u001b[0m\u001b[0;34m:\u001b[0m\u001b[0;34m\u001b[0m\u001b[0;34m\u001b[0m\u001b[0m\n\u001b[1;32m    543\u001b[0m             \u001b[0mhook_result\u001b[0m \u001b[0;34m=\u001b[0m \u001b[0mhook\u001b[0m\u001b[0;34m(\u001b[0m\u001b[0mself\u001b[0m\u001b[0;34m,\u001b[0m \u001b[0minput\u001b[0m\u001b[0;34m,\u001b[0m \u001b[0mresult\u001b[0m\u001b[0;34m)\u001b[0m\u001b[0;34m\u001b[0m\u001b[0;34m\u001b[0m\u001b[0m\n",
            "\u001b[0;32m/usr/local/lib/python3.6/dist-packages/torch/nn/modules/linear.py\u001b[0m in \u001b[0;36mforward\u001b[0;34m(self, input)\u001b[0m\n\u001b[1;32m     85\u001b[0m \u001b[0;34m\u001b[0m\u001b[0m\n\u001b[1;32m     86\u001b[0m     \u001b[0;32mdef\u001b[0m \u001b[0mforward\u001b[0m\u001b[0;34m(\u001b[0m\u001b[0mself\u001b[0m\u001b[0;34m,\u001b[0m \u001b[0minput\u001b[0m\u001b[0;34m)\u001b[0m\u001b[0;34m:\u001b[0m\u001b[0;34m\u001b[0m\u001b[0;34m\u001b[0m\u001b[0m\n\u001b[0;32m---> 87\u001b[0;31m         \u001b[0;32mreturn\u001b[0m \u001b[0mF\u001b[0m\u001b[0;34m.\u001b[0m\u001b[0mlinear\u001b[0m\u001b[0;34m(\u001b[0m\u001b[0minput\u001b[0m\u001b[0;34m,\u001b[0m \u001b[0mself\u001b[0m\u001b[0;34m.\u001b[0m\u001b[0mweight\u001b[0m\u001b[0;34m,\u001b[0m \u001b[0mself\u001b[0m\u001b[0;34m.\u001b[0m\u001b[0mbias\u001b[0m\u001b[0;34m)\u001b[0m\u001b[0;34m\u001b[0m\u001b[0;34m\u001b[0m\u001b[0m\n\u001b[0m\u001b[1;32m     88\u001b[0m \u001b[0;34m\u001b[0m\u001b[0m\n\u001b[1;32m     89\u001b[0m     \u001b[0;32mdef\u001b[0m \u001b[0mextra_repr\u001b[0m\u001b[0;34m(\u001b[0m\u001b[0mself\u001b[0m\u001b[0;34m)\u001b[0m\u001b[0;34m:\u001b[0m\u001b[0;34m\u001b[0m\u001b[0;34m\u001b[0m\u001b[0m\n",
            "\u001b[0;32m/usr/local/lib/python3.6/dist-packages/torch/nn/functional.py\u001b[0m in \u001b[0;36mlinear\u001b[0;34m(input, weight, bias)\u001b[0m\n\u001b[1;32m   1368\u001b[0m     \u001b[0;32mif\u001b[0m \u001b[0minput\u001b[0m\u001b[0;34m.\u001b[0m\u001b[0mdim\u001b[0m\u001b[0;34m(\u001b[0m\u001b[0;34m)\u001b[0m \u001b[0;34m==\u001b[0m \u001b[0;36m2\u001b[0m \u001b[0;32mand\u001b[0m \u001b[0mbias\u001b[0m \u001b[0;32mis\u001b[0m \u001b[0;32mnot\u001b[0m \u001b[0;32mNone\u001b[0m\u001b[0;34m:\u001b[0m\u001b[0;34m\u001b[0m\u001b[0;34m\u001b[0m\u001b[0m\n\u001b[1;32m   1369\u001b[0m         \u001b[0;31m# fused op is marginally faster\u001b[0m\u001b[0;34m\u001b[0m\u001b[0;34m\u001b[0m\u001b[0;34m\u001b[0m\u001b[0m\n\u001b[0;32m-> 1370\u001b[0;31m         \u001b[0mret\u001b[0m \u001b[0;34m=\u001b[0m \u001b[0mtorch\u001b[0m\u001b[0;34m.\u001b[0m\u001b[0maddmm\u001b[0m\u001b[0;34m(\u001b[0m\u001b[0mbias\u001b[0m\u001b[0;34m,\u001b[0m \u001b[0minput\u001b[0m\u001b[0;34m,\u001b[0m \u001b[0mweight\u001b[0m\u001b[0;34m.\u001b[0m\u001b[0mt\u001b[0m\u001b[0;34m(\u001b[0m\u001b[0;34m)\u001b[0m\u001b[0;34m)\u001b[0m\u001b[0;34m\u001b[0m\u001b[0;34m\u001b[0m\u001b[0m\n\u001b[0m\u001b[1;32m   1371\u001b[0m     \u001b[0;32melse\u001b[0m\u001b[0;34m:\u001b[0m\u001b[0;34m\u001b[0m\u001b[0;34m\u001b[0m\u001b[0m\n\u001b[1;32m   1372\u001b[0m         \u001b[0moutput\u001b[0m \u001b[0;34m=\u001b[0m \u001b[0minput\u001b[0m\u001b[0;34m.\u001b[0m\u001b[0mmatmul\u001b[0m\u001b[0;34m(\u001b[0m\u001b[0mweight\u001b[0m\u001b[0;34m.\u001b[0m\u001b[0mt\u001b[0m\u001b[0;34m(\u001b[0m\u001b[0;34m)\u001b[0m\u001b[0;34m)\u001b[0m\u001b[0;34m\u001b[0m\u001b[0;34m\u001b[0m\u001b[0m\n",
            "\u001b[0;31mKeyboardInterrupt\u001b[0m: "
          ]
        }
      ]
    },
    {
      "cell_type": "code",
      "metadata": {
        "id": "PN-BM4us5Ukd",
        "colab": {
          "base_uri": "https://localhost:8080/",
          "height": 370
        },
        "outputId": "a6cc60a7-9425-4e92-b914-c6a05bc2e666"
      },
      "source": [
        "plt.plot([np.mean(history[i*len(batcher):(i+1)*len(batcher)]) for i in range(n_epoch+1)])"
      ],
      "execution_count": null,
      "outputs": [
        {
          "output_type": "stream",
          "text": [
            "/usr/local/lib/python3.6/dist-packages/numpy/core/fromnumeric.py:3257: RuntimeWarning: Mean of empty slice.\n",
            "  out=out, **kwargs)\n",
            "/usr/local/lib/python3.6/dist-packages/numpy/core/_methods.py:161: RuntimeWarning: invalid value encountered in double_scalars\n",
            "  ret = ret.dtype.type(ret / rcount)\n"
          ],
          "name": "stderr"
        },
        {
          "output_type": "execute_result",
          "data": {
            "text/plain": [
              "[<matplotlib.lines.Line2D at 0x7f3b71df2128>]"
            ]
          },
          "metadata": {
            "tags": []
          },
          "execution_count": 20
        },
        {
          "output_type": "display_data",
          "data": {
            "image/png": "[encoded data removed]",
            "text/plain": [
              "<Figure size 432x288 with 1 Axes>"
            ]
          },
          "metadata": {
            "tags": []
          }
        }
      ]
    },
    {
      "cell_type": "code",
      "metadata": {
        "id": "-lJXzr4V7hb1",
        "colab": {
          "base_uri": "https://localhost:8080/",
          "height": 34
        },
        "outputId": "e30216b3-3243-48a8-d118-15ec4c9e6577"
      },
      "source": [
        "print(np.mean(history[-len(batcher)]))"
      ],
      "execution_count": null,
      "outputs": [
        {
          "output_type": "stream",
          "text": [
            "0.04817187\n"
          ],
          "name": "stdout"
        }
      ]
    },
    {
      "cell_type": "code",
      "metadata": {
        "id": "xUrolCYB5tyG"
      },
      "source": [
        "def generate_text(length=100, temperature=1):\n",
        "    hid_state = lstm.initial_state(1)\n",
        "    hid_state = [x.to(device) for x in hid_state]\n",
        "    past = sample(tokens, 1)\n",
        "    #past = list(text[:15])\n",
        "    for i in range(length):\n",
        "         x = torch.LongTensor([token_to_id[past[-1]]]).to(device)\n",
        "         hid_state, logit = lstm(x, hid_state, temperature=temperature)\n",
        "         past.append(id_to_token[torch.multinomial(torch.exp(logit), 1)[0].item()])\n",
        "    return ''.join(past)"
      ],
      "execution_count": null,
      "outputs": []
    },
    {
      "cell_type": "markdown",
      "metadata": {
        "id": "TnPfD_kWzPPO"
      },
      "source": [
        "Сгенерируйте текст с помощью обученной сети для различных значений параметра `temperature`: `[0.1, 0.2, 0.5, 1.0, 2.0]` (\"температуры\" при генерации). Оцените результаты визуально, попробуйте их проинтерпретировать."
      ]
    },
    {
      "cell_type": "code",
      "metadata": {
        "id": "gZoBW6SuzPPP",
        "colab": {
          "base_uri": "https://localhost:8080/",
          "height": 1000
        },
        "outputId": "22fb5ed9-e815-4384-b92a-0e18bac73018"
      },
      "source": [
        "for t in [0.1, 0.2, 0.5, 1.0, 2.0]:\n",
        "    print(f'============= Temperature {t} ==============')\n",
        "    print(generate_text(length=1000, temperature=t))"
      ],
      "execution_count": null,
      "outputs": [
        {
          "output_type": "stream",
          "text": [
            "============= Temperature 0.1 ==============\n",
            "y will in thine?\n",
            "  shall will in others seem right gracious,\n",
            "  and in my will no fair acceptance shill,\n",
            "  to the sen a form upon desired change,\n",
            "  as i'll myself disgrace; knowing thy will, thy might,\n",
            "    when you live in this and much enrich thy book.\n",
            "\n",
            "  lxxviii\n",
            "\n",
            "  so oft have i invoked thee for my muse,\n",
            "  and found to slave thou would be forgot,\n",
            "  if thinking on me then should make you woe.\n",
            "    you to your beauteous blessings add a curse,\n",
            "    being fone, thou hast thy love, and thy dear virtue hate,\n",
            "  hate of my sin, grounded on sinful loving:\n",
            "  o! lest your soul and his well time's full will pring,\n",
            "  and worse of many now is thine alone:\n",
            "    their imagess you wilt thou that i wome comfort now are therefore to be strong,\n",
            "    that in the every oner hast calls thee to the heart\n",
            "  of bird, of flowers in odour and in hue,\n",
            "  could make me any summer's story tell,\n",
            "    and my thoughts, all thy beauty thou wilt thou art believe me,\n",
            "  looking with pretty ruth upon my pain.\n",
            "  and truly not the \n",
            "============= Temperature 0.2 ==============\n",
            "ve of heart.\n",
            "\n",
            "  xlvii\n",
            "\n",
            "  betwixt mine eye and heart a league is took,\n",
            "  and each doth good turns now, bettain,\n",
            "    and heavily from woe to woe tell o'er\n",
            "  the sad account of fore-bemoaned moan,\n",
            "    that on the hands of false subtleties that for my sinful earth,\n",
            "  my sinful earth these rebel powers array,\n",
            "  why dost thou use the bastar is thine own spent,\n",
            "  three thou art the world may see my pleasure:\n",
            "  so thing expressing, leaves out difference.\n",
            "  'fair, kind, and true,' is all my argument,\n",
            "  'fresh coner than that which on thy humour doth defect,\n",
            "  make blame my slave what should i do but tend,\n",
            "  upon the hours, and whose worth in death's dateless night,\n",
            "  and weep afresh love's love thou dost stay.\n",
            "  no matter then although my foot did sight,\n",
            "    and so should you, to love things nothing worths of thy sweet self grow'st.\n",
            "  if nature, sovereign mistress over wrack,\n",
            "  as thou be roses of all but one heart;\n",
            "  make base the lovely gaze where every eye doth dwell,\n",
            "  will play the watchman\n",
            "============= Temperature 0.5 ==============\n",
            "s for a map doth nature store,\n",
            "    to show false art what beauty was of yore.\n",
            "\n",
            "  lxix\n",
            "\n",
            "  those parts that love's for my lame bright,\n",
            "  how would thy shadow's form form happy show\n",
            "  to the clear day with that i forget me suffer,\n",
            "  a doth hath my abten is single new;\n",
            "    and him and slave what is already spent:\n",
            "    for as the wrongs that i was fortifey cape,\n",
            "    that i back to me that lave be me, and hopes to fears,\n",
            "  that i may change my mind enromes every where.\n",
            "    you to your beauteous blessings add a curse,\n",
            "    being fone, thou wilt be stol'n i fear,\n",
            "    for truth proves that to my contented anting in in this ill wrence.\n",
            "  be are men as consend a deather that please thee more:\n",
            "    to keep an adjunct to remember thee\n",
            "    were to import we make thou mayst in me behold\n",
            "  when yellow leaves, or none, or few, despite of space i would have express'd\n",
            "  even such a beauty as you master now.\n",
            "    yet be most proud of that is profan'd, if not lives in distraction of that ground;\n",
            "  which borrow'\n",
            "============= Temperature 1.0 ==============\n",
            "me, then tender'd their his cesses if jewelscrimetion all fortune's dearest grief,\n",
            "  thou best of dearest, and mine only care,\n",
            "  the injuries that to myself i do,\n",
            "  doing thee vantage, double-vantage me.\n",
            "    such is his summits i then heaven's sun staineth.\n",
            "    and heaving mes a form and pass actoon out\n",
            "  doth part his function and is partly blind,\n",
            "    slescing shape, what i may be stay be fair,\n",
            "  or if it were, from whence it dot\n",
            "  but when in thee times for good one out.\n",
            "\n",
            "  cxlv\n",
            "\n",
            "  those lips that love's own hand did make,\n",
            "  breath rnow no fair which to departest;\n",
            "  and that from michsing eyes of the way;\n",
            "  when what i seek, my weary travel's end,\n",
            "  doth teach that ease and that repose of thou art,\n",
            "  with others all too near that leffects,\n",
            "  as those two must not then use rigour in my jaill,\n",
            "    liking farmerts thou thou better in apray,\n",
            "  can life to have yet we must of your hapst thou to thee;\n",
            "    my glory bind and dold shall be thy amends\n",
            "  for thy neglect of truth in beauty dy'd?\n",
            "\n",
            "============= Temperature 2.0 ==============\n",
            "from mfin'd by their dugl.\n",
            "  but therefore look fast as wond:\n",
            "  making hatwer'd jouth on mine own write?\n",
            "    but is him have hor true rich hy wretch dimbudden places,\n",
            "  and sislawny, zrom that flowers kindow that thou still he tw.\n",
            "\n",
            "  v\n",
            "\n",
            "  thy callst a leave, how far hate;\n",
            "  now, notting you are too hunling grans!w;\n",
            "  leap; ty alone days mecriap yow are \n",
            "o sure wack soveling,\n",
            "  to bict is brend, and wion blamkents\n",
            "  come think on thee, dsails he to tuel my adjuy thy paze\n",
            ".\n",
            "\n",
            "  lxix\n",
            "\n",
            "  yet what be stor's not, thouns, in grewance oi aloned.\n",
            "  therefore a commine win of thy fair no (emed?\n",
            "  bown with that which i begray\n",
            "  thy worth they nar i leave -hamble lay;\n",
            "  a!! therefore mayst wifly oft preverted hanther wr,\n",
            " a?t goided hold to have what's knows ty wautiys pac,\n",
            "  since white hustial-hothfue handly dgcance.\n",
            "  o! nay, are reign, waking his loes-knifl,\n",
            "  calks my loft to pite love: where lwiliac) be that write!\n",
            "  o!\n",
            "  low shall dighatehthoith,  hath heart thrmselves th's ta.\n",
            "  'illute! wh\n"
          ],
          "name": "stdout"
        }
      ]
    },
    {
      "cell_type": "markdown",
      "metadata": {
        "id": "1bhJzJ3BzPPS"
      },
      "source": [
        "Здесь можно оставить свои рассуждения касательно интерпретации результатов.\n",
        "\n",
        "По идее при меньшей температуре текст должен быть менее разнообразный, из частых и простых слов, без сложных конструкций. А при большей температуре более шумный и разнообразный."
      ]
    },
    {
      "cell_type": "markdown",
      "metadata": {
        "id": "8Uoo94PuzPPT"
      },
      "source": [
        "#### Сохранение и загрузка модели\n",
        "\n",
        "Сохраните обученную модель на диск, затем загрузите ее и сгенерируйте текст. Примеры доступны по [ссылке](https://pytorch.org/tutorials/beginner/saving_loading_models.html])."
      ]
    },
    {
      "cell_type": "code",
      "metadata": {
        "id": "T-25tK5ozPPT",
        "colab": {
          "base_uri": "https://localhost:8080/",
          "height": 476
        },
        "outputId": "482c0104-1bd7-443f-9d86-4aa98205baae"
      },
      "source": [
        "torch.save(lstm.state_dict(), 'lstm_sd.pt')\n",
        "lstm.load_state_dict(torch.load('lstm_sd.pt'))\n",
        "print(generate_text(length=1000, temperature=0.1))"
      ],
      "execution_count": null,
      "outputs": [
        {
          "output_type": "stream",
          "text": [
            "pends upon that love of thine.\n",
            "  then need i not to fear the worst of wrongs,\n",
            "  when in the least of whoth they see\n",
            "  return of love, more blessed than living lips.\n",
            "    since saucy jacks so happy are in this,\n",
            "  and pursuit on his love hath made my foes,\n",
            "  that they elsewhere might dart their injuries:\n",
            "    yet do not so; but then it was nourish'd by.\n",
            "    this thou perceiv'st, why dost thou mayst upon make the strength of laws,\n",
            "    since why to love i can allege no cause.\n",
            "\n",
            "  l\n",
            "\n",
            "  how heavy do i joy thou art belov'd, i new aprov\n",
            "\n",
            "  xxiii\n",
            "\n",
            "  so all my love, to whom in vassaly beauty shill,\n",
            "  that heaven's air in this huge rondure hems.\n",
            "  o! let me, true in love, to thy sour like to conspare,\n",
            "  coreating thou this powerful might,\n",
            "  with insufficiency my heart to sway?\n",
            "  to make me give the lie to my true sightless every where.\n",
            "  o! let me both side his contine age,\n",
            "    stealing was i writ in my makenty criested story,\n",
            "  which have no correspondence with true sight;\n",
            "  or, if they have, which \n"
          ],
          "name": "stdout"
        }
      ]
    },
    {
      "cell_type": "code",
      "metadata": {
        "id": "xho7wCcRCv2V"
      },
      "source": [
        ""
      ],
      "execution_count": null,
      "outputs": []
    },
    {
      "cell_type": "markdown",
      "metadata": {
        "id": "bjzGeV69zPPW"
      },
      "source": [
        "Данная часть задания завершена."
      ]
    },
    {
      "cell_type": "markdown",
      "metadata": {
        "id": "YWiE81WzzPPX"
      },
      "source": [
        "#### Полезные ссылки\n",
        "1. <a href='http://karpathy.github.io/2015/05/21/rnn-effectiveness/'> Статья Андрея Карпатого про RNN. </a> В качестве примеров рассматриваются задачи генерации Шекспировских текстов, Latex формул, Linux Source Code и детских имен.\n",
        "2. <a href='https://github.com/karpathy/char-rnn'> Репозиторий с кодом по char-rnn </a> (тоже за авторством Андрея Карпатого)\n",
        "3. Полезный репозиторий по PyTorch: [ссылка](https://github.com/spro/practical-pytorch`)"
      ]
    }
  ]
}