{
  "nbformat": 4,
  "nbformat_minor": 0,
  "metadata": {
    "kernelspec": {
      "display_name": "Python 3",
      "language": "python",
      "name": "python3"
    },
    "language_info": {
      "codemirror_mode": {
        "name": "ipython",
        "version": 3
      },
      "file_extension": ".py",
      "mimetype": "text/x-python",
      "name": "python",
      "nbconvert_exporter": "python",
      "pygments_lexer": "ipython3",
      "version": "3.6.4"
    },
    "colab": {
      "name": "Lab2_Atari_A2C_Lagutin.ipynb",
      "provenance": [],
      "collapsed_sections": []
    },
    "accelerator": "GPU"
  },
  "cells": [
    {
      "cell_type": "markdown",
      "metadata": {
        "id": "JEGpDJze51gO"
      },
      "source": [
        "# Lab 3: Mastering A2C (and Kung-Fu)\n",
        "\n",
        "This part is based on [Practical RL week08 practice](https://github.com/yandexdataschool/Practical_RL/tree/master/week08_pomdp). All rights belong to original authors"
      ]
    },
    {
      "cell_type": "markdown",
      "metadata": {
        "id": "3tpxjYxk51gQ"
      },
      "source": [
        "__Please, note that supplementary files require tensorflow version 1.15.0 (while TF 2.0 is actually released now). Please downgrade your TF or create new environment.__"
      ]
    },
    {
      "cell_type": "code",
      "metadata": {
        "id": "Afk8-Slu51gR",
        "colab": {
          "base_uri": "https://localhost:8080/",
          "height": 1000
        },
        "outputId": "0fa6c657-55b4-416a-ff7c-e30207658ae0"
      },
      "source": [
        "# This versions shpuld work fine\n",
        "\n",
        "! pip install scipy==1.0.1\n",
        "! pip install tensorflow==1.15.0 --force-reinstall\n"
      ],
      "execution_count": null,
      "outputs": [
        {
          "output_type": "stream",
          "text": [
            "Requirement already satisfied: scipy==1.0.1 in /usr/local/lib/python3.6/dist-packages (1.0.1)\n",
            "Requirement already satisfied: numpy>=1.8.2 in /usr/local/lib/python3.6/dist-packages (from scipy==1.0.1) (1.18.4)\n",
            "Collecting tensorflow==1.15.0\n",
            "  Using cached https://files.pythonhosted.org/packages/3f/98/5a99af92fb911d7a88a0005ad55005f35b4c1ba8d75fba02df726cd936e6/tensorflow-1.15.0-cp36-cp36m-manylinux2010_x86_64.whl\n",
            "Processing /root/.cache/pip/wheels/5c/2e/7e/a1d4d4fcebe6c381f378ce7743a3ced3699feb89bcfbdadadd/gast-0.2.2-cp36-none-any.whl\n",
            "Collecting numpy<2.0,>=1.16.0\n",
            "  Using cached https://files.pythonhosted.org/packages/03/27/e35e7c6e6a52fab9fcc64fc2b20c6b516eba930bb02b10ace3b38200d3ab/numpy-1.18.4-cp36-cp36m-manylinux1_x86_64.whl\n",
            "Collecting google-pasta>=0.1.6\n",
            "  Using cached https://files.pythonhosted.org/packages/a3/de/c648ef6835192e6e2cc03f40b19eeda4382c49b5bafb43d88b931c4c74ac/google_pasta-0.2.0-py3-none-any.whl\n",
            "Collecting astor>=0.6.0\n",
            "  Using cached https://files.pythonhosted.org/packages/c3/88/97eef84f48fa04fbd6750e62dcceafba6c63c81b7ac1420856c8dcc0a3f9/astor-0.8.1-py2.py3-none-any.whl\n",
            "Collecting keras-applications>=1.0.8\n",
            "  Using cached https://files.pythonhosted.org/packages/71/e3/19762fdfc62877ae9102edf6342d71b28fbfd9dea3d2f96a882ce099b03f/Keras_Applications-1.0.8-py3-none-any.whl\n",
            "Collecting six>=1.10.0\n",
            "  Using cached https://files.pythonhosted.org/packages/ee/ff/48bde5c0f013094d729fe4b0316ba2a24774b3ff1c52d924a8a4cb04078a/six-1.15.0-py2.py3-none-any.whl\n",
            "Collecting tensorboard<1.16.0,>=1.15.0\n",
            "  Using cached https://files.pythonhosted.org/packages/1e/e9/d3d747a97f7188f48aa5eda486907f3b345cd409f0a0850468ba867db246/tensorboard-1.15.0-py3-none-any.whl\n",
            "Collecting opt-einsum>=2.3.2\n",
            "  Using cached https://files.pythonhosted.org/packages/63/a5/e6c07b08b934831ccb8c98ee335e66b7761c5754ee3cabfe4c11d0b1af28/opt_einsum-3.2.1-py3-none-any.whl\n",
            "Processing /root/.cache/pip/wheels/7c/06/54/bc84598ba1daf8f970247f550b175aaaee85f68b4b0c5ab2c6/termcolor-1.1.0-cp36-none-any.whl\n",
            "Processing /root/.cache/pip/wheels/b1/c2/ed/d62208260edbd3fa7156545c00ef966f45f2063d0a84f8208a/wrapt-1.12.1-cp36-cp36m-linux_x86_64.whl\n",
            "Collecting grpcio>=1.8.6\n",
            "  Using cached https://files.pythonhosted.org/packages/cd/04/2b67f0a3645481235d5547891fd0e45e384f1ae5676788f24a7c8735b4e9/grpcio-1.29.0-cp36-cp36m-manylinux2010_x86_64.whl\n",
            "Collecting keras-preprocessing>=1.0.5\n",
            "  Using cached https://files.pythonhosted.org/packages/79/4c/7c3275a01e12ef9368a892926ab932b33bb13d55794881e3573482b378a7/Keras_Preprocessing-1.1.2-py2.py3-none-any.whl\n",
            "Collecting wheel>=0.26\n",
            "  Using cached https://files.pythonhosted.org/packages/8c/23/848298cccf8e40f5bbb59009b32848a4c38f4e7f3364297ab3c3e2e2cd14/wheel-0.34.2-py2.py3-none-any.whl\n",
            "Processing /root/.cache/pip/wheels/8e/28/49/fad4e7f0b9a1227708cbbee4487ac8558a7334849cb81c813d/absl_py-0.9.0-cp36-none-any.whl\n",
            "Collecting protobuf>=3.6.1\n",
            "  Using cached https://files.pythonhosted.org/packages/c4/c1/300e675e55644f400b9e855c6a8189f3c9e4f41906a23954d15ebf59600f/protobuf-3.12.1-cp36-cp36m-manylinux1_x86_64.whl\n",
            "Collecting tensorflow-estimator==1.15.1\n",
            "  Using cached https://files.pythonhosted.org/packages/de/62/2ee9cd74c9fa2fa450877847ba560b260f5d0fb70ee0595203082dafcc9d/tensorflow_estimator-1.15.1-py2.py3-none-any.whl\n",
            "Collecting h5py\n",
            "  Using cached https://files.pythonhosted.org/packages/60/06/cafdd44889200e5438b897388f3075b52a8ef01f28a17366d91de0fa2d05/h5py-2.10.0-cp36-cp36m-manylinux1_x86_64.whl\n",
            "Collecting setuptools>=41.0.0\n",
            "  Using cached https://files.pythonhosted.org/packages/2c/c5/0d38afb961f83e0d51f319f7dc166195ebabc1ea3cb20a10a77f500f7156/setuptools-46.4.0-py3-none-any.whl\n",
            "Collecting markdown>=2.6.8\n",
            "  Using cached https://files.pythonhosted.org/packages/a4/63/eaec2bd025ab48c754b55e8819af0f6a69e2b1e187611dd40cbbe101ee7f/Markdown-3.2.2-py3-none-any.whl\n",
            "Collecting werkzeug>=0.11.15\n",
            "  Using cached https://files.pythonhosted.org/packages/cc/94/5f7079a0e00bd6863ef8f1da638721e9da21e5bacee597595b318f71d62e/Werkzeug-1.0.1-py2.py3-none-any.whl\n",
            "Collecting importlib-metadata; python_version < \"3.8\"\n",
            "  Using cached https://files.pythonhosted.org/packages/ad/e4/891bfcaf868ccabc619942f27940c77a8a4b45fd8367098955bb7e152fb1/importlib_metadata-1.6.0-py2.py3-none-any.whl\n",
            "Collecting zipp>=0.5\n",
            "  Using cached https://files.pythonhosted.org/packages/b2/34/bfcb43cc0ba81f527bc4f40ef41ba2ff4080e047acb0586b56b3d017ace4/zipp-3.1.0-py3-none-any.whl\n",
            "\u001b[31mERROR: umap-learn 0.4.3 has requirement scipy>=1.3.1, but you'll have scipy 1.0.1 which is incompatible.\u001b[0m\n",
            "\u001b[31mERROR: tensorflow-probability 0.10.0 has requirement gast>=0.3.2, but you'll have gast 0.2.2 which is incompatible.\u001b[0m\n",
            "\u001b[31mERROR: plotnine 0.6.0 has requirement scipy>=1.2.0, but you'll have scipy 1.0.1 which is incompatible.\u001b[0m\n",
            "\u001b[31mERROR: google-colab 1.0.0 has requirement six~=1.12.0, but you'll have six 1.15.0 which is incompatible.\u001b[0m\n",
            "\u001b[31mERROR: datascience 0.10.6 has requirement folium==0.2.1, but you'll have folium 0.8.3 which is incompatible.\u001b[0m\n",
            "\u001b[31mERROR: cvxpy 1.0.31 has requirement scipy>=1.1.0, but you'll have scipy 1.0.1 which is incompatible.\u001b[0m\n",
            "\u001b[31mERROR: albumentations 0.1.12 has requirement imgaug<0.2.7,>=0.2.5, but you'll have imgaug 0.2.9 which is incompatible.\u001b[0m\n",
            "Installing collected packages: gast, numpy, six, google-pasta, astor, h5py, keras-applications, setuptools, zipp, importlib-metadata, markdown, grpcio, wheel, absl-py, werkzeug, protobuf, tensorboard, opt-einsum, termcolor, wrapt, keras-preprocessing, tensorflow-estimator, tensorflow\n",
            "  Found existing installation: gast 0.2.2\n",
            "    Uninstalling gast-0.2.2:\n",
            "      Successfully uninstalled gast-0.2.2\n",
            "  Found existing installation: numpy 1.18.4\n",
            "    Uninstalling numpy-1.18.4:\n",
            "      Successfully uninstalled numpy-1.18.4\n",
            "  Found existing installation: six 1.15.0\n",
            "    Uninstalling six-1.15.0:\n",
            "      Successfully uninstalled six-1.15.0\n",
            "  Found existing installation: google-pasta 0.2.0\n",
            "    Uninstalling google-pasta-0.2.0:\n",
            "      Successfully uninstalled google-pasta-0.2.0\n",
            "  Found existing installation: astor 0.8.1\n",
            "    Uninstalling astor-0.8.1:\n",
            "      Successfully uninstalled astor-0.8.1\n",
            "  Found existing installation: h5py 2.10.0\n",
            "    Uninstalling h5py-2.10.0:\n",
            "      Successfully uninstalled h5py-2.10.0\n",
            "  Found existing installation: Keras-Applications 1.0.8\n",
            "    Uninstalling Keras-Applications-1.0.8:\n",
            "      Successfully uninstalled Keras-Applications-1.0.8\n",
            "  Found existing installation: setuptools 46.4.0\n",
            "    Uninstalling setuptools-46.4.0:\n",
            "      Successfully uninstalled setuptools-46.4.0\n",
            "  Found existing installation: zipp 3.1.0\n",
            "    Uninstalling zipp-3.1.0:\n",
            "      Successfully uninstalled zipp-3.1.0\n",
            "  Found existing installation: importlib-metadata 1.6.0\n",
            "    Uninstalling importlib-metadata-1.6.0:\n",
            "      Successfully uninstalled importlib-metadata-1.6.0\n",
            "  Found existing installation: Markdown 3.2.2\n",
            "    Uninstalling Markdown-3.2.2:\n",
            "      Successfully uninstalled Markdown-3.2.2\n",
            "  Found existing installation: grpcio 1.29.0\n",
            "    Uninstalling grpcio-1.29.0:\n",
            "      Successfully uninstalled grpcio-1.29.0\n",
            "  Found existing installation: wheel 0.34.2\n",
            "    Uninstalling wheel-0.34.2:\n",
            "      Successfully uninstalled wheel-0.34.2\n",
            "  Found existing installation: absl-py 0.9.0\n",
            "    Uninstalling absl-py-0.9.0:\n",
            "      Successfully uninstalled absl-py-0.9.0\n",
            "  Found existing installation: Werkzeug 1.0.1\n",
            "    Uninstalling Werkzeug-1.0.1:\n",
            "      Successfully uninstalled Werkzeug-1.0.1\n",
            "  Found existing installation: protobuf 3.12.1\n",
            "    Uninstalling protobuf-3.12.1:\n",
            "      Successfully uninstalled protobuf-3.12.1\n",
            "  Found existing installation: tensorboard 1.15.0\n",
            "    Uninstalling tensorboard-1.15.0:\n",
            "      Successfully uninstalled tensorboard-1.15.0\n",
            "  Found existing installation: opt-einsum 3.2.1\n",
            "    Uninstalling opt-einsum-3.2.1:\n",
            "      Successfully uninstalled opt-einsum-3.2.1\n",
            "  Found existing installation: termcolor 1.1.0\n",
            "    Uninstalling termcolor-1.1.0:\n",
            "      Successfully uninstalled termcolor-1.1.0\n",
            "  Found existing installation: wrapt 1.12.1\n",
            "    Uninstalling wrapt-1.12.1:\n",
            "      Successfully uninstalled wrapt-1.12.1\n",
            "  Found existing installation: Keras-Preprocessing 1.1.2\n",
            "    Uninstalling Keras-Preprocessing-1.1.2:\n",
            "      Successfully uninstalled Keras-Preprocessing-1.1.2\n",
            "  Found existing installation: tensorflow-estimator 1.15.1\n",
            "    Uninstalling tensorflow-estimator-1.15.1:\n",
            "      Successfully uninstalled tensorflow-estimator-1.15.1\n",
            "  Found existing installation: tensorflow 1.15.0\n",
            "    Uninstalling tensorflow-1.15.0:\n",
            "      Successfully uninstalled tensorflow-1.15.0\n",
            "Successfully installed absl-py-0.9.0 astor-0.8.1 gast-0.2.2 google-pasta-0.2.0 grpcio-1.29.0 h5py-2.10.0 importlib-metadata-1.6.0 keras-applications-1.0.8 keras-preprocessing-1.1.2 markdown-3.2.2 numpy-1.18.4 opt-einsum-3.2.1 protobuf-3.12.1 setuptools-46.4.0 six-1.15.0 tensorboard-1.15.0 tensorflow-1.15.0 tensorflow-estimator-1.15.1 termcolor-1.1.0 werkzeug-1.0.1 wheel-0.34.2 wrapt-1.12.1 zipp-3.1.0\n"
          ],
          "name": "stdout"
        },
        {
          "output_type": "display_data",
          "data": {
            "application/vnd.colab-display-data+json": {
              "pip_warning": {
                "packages": [
                  "google",
                  "grpc",
                  "numpy",
                  "pkg_resources",
                  "six"
                ]
              }
            }
          },
          "metadata": {
            "tags": []
          }
        }
      ]
    },
    {
      "cell_type": "code",
      "metadata": {
        "id": "MgtZ0YSp51gY",
        "colab": {
          "base_uri": "https://localhost:8080/",
          "height": 431
        },
        "outputId": "9d6b0327-03ca-422f-9ede-67bfb2e1b594"
      },
      "source": [
        "from __future__ import print_function, division\n",
        "from IPython.core import display\n",
        "import matplotlib.pyplot as plt\n",
        "%matplotlib inline\n",
        "import numpy as np\n",
        "\n",
        "# if you're running in colab\n",
        "!wget https://raw.githubusercontent.com/yandexdataschool/Practical_RL/0ccb0673965dd650d9b284e1ec90c2bfd82c8a94/week08_pomdp/atari_util.py\n",
        "!wget https://raw.githubusercontent.com/yandexdataschool/Practical_RL/0ccb0673965dd650d9b284e1ec90c2bfd82c8a94/week08_pomdp/env_pool.py\n",
        "\n",
        "# If you are running on a server, launch xvfb to record game videos\n",
        "# Please make sure you have xvfb installed\n",
        "import os\n",
        "if type(os.environ.get(\"DISPLAY\")) is not str or len(os.environ.get(\"DISPLAY\")) == 0:\n",
        "    !bash ../xvfb start\n",
        "    os.environ['DISPLAY'] = ':1'"
      ],
      "execution_count": null,
      "outputs": [
        {
          "output_type": "stream",
          "text": [
            "--2020-05-21 16:15:34--  https://raw.githubusercontent.com/yandexdataschool/Practical_RL/0ccb0673965dd650d9b284e1ec90c2bfd82c8a94/week08_pomdp/atari_util.py\n",
            "Resolving raw.githubusercontent.com (raw.githubusercontent.com)... 151.101.0.133, 151.101.64.133, 151.101.128.133, ...\n",
            "Connecting to raw.githubusercontent.com (raw.githubusercontent.com)|151.101.0.133|:443... connected.\n",
            "HTTP request sent, awaiting response... 200 OK\n",
            "Length: 2271 (2.2K) [text/plain]\n",
            "Saving to: ‘atari_util.py.2’\n",
            "\n",
            "\ratari_util.py.2       0%[                    ]       0  --.-KB/s               \ratari_util.py.2     100%[===================>]   2.22K  --.-KB/s    in 0s      \n",
            "\n",
            "2020-05-21 16:15:34 (57.5 MB/s) - ‘atari_util.py.2’ saved [2271/2271]\n",
            "\n",
            "--2020-05-21 16:15:36--  https://raw.githubusercontent.com/yandexdataschool/Practical_RL/0ccb0673965dd650d9b284e1ec90c2bfd82c8a94/week08_pomdp/env_pool.py\n",
            "Resolving raw.githubusercontent.com (raw.githubusercontent.com)... 151.101.0.133, 151.101.64.133, 151.101.128.133, ...\n",
            "Connecting to raw.githubusercontent.com (raw.githubusercontent.com)|151.101.0.133|:443... connected.\n",
            "HTTP request sent, awaiting response... 200 OK\n",
            "Length: 4198 (4.1K) [text/plain]\n",
            "Saving to: ‘env_pool.py.2’\n",
            "\n",
            "env_pool.py.2       100%[===================>]   4.10K  --.-KB/s    in 0s      \n",
            "\n",
            "2020-05-21 16:15:36 (57.6 MB/s) - ‘env_pool.py.2’ saved [4198/4198]\n",
            "\n",
            "bash: ../xvfb: No such file or directory\n"
          ],
          "name": "stdout"
        }
      ]
    },
    {
      "cell_type": "markdown",
      "metadata": {
        "id": "rm5eH22q51ge"
      },
      "source": [
        "### Kung-Fu, recurrent style\n",
        "\n",
        "In this notebook we'll once again train RL agent for for atari [KungFuMaster](https://gym.openai.com/envs/KungFuMaster-v0/), this time using recurrent neural networks.\n",
        "\n",
        "![http://www.retroland.com/wp-content/uploads/2011/07/King-Fu-Master.jpg](http://www.retroland.com/wp-content/uploads/2011/07/King-Fu-Master.jpg)"
      ]
    },
    {
      "cell_type": "code",
      "metadata": {
        "id": "QeN-SBeW51gf",
        "colab": {
          "base_uri": "https://localhost:8080/",
          "height": 91
        },
        "outputId": "78725dec-f45e-4df7-b156-32e9640f4114"
      },
      "source": [
        "import gym\n",
        "from atari_util import PreprocessAtari\n",
        "\n",
        "\n",
        "def make_env():\n",
        "    env = gym.make(\"KungFuMasterDeterministic-v0\")\n",
        "    env = PreprocessAtari(env, height=42, width=42,\n",
        "                          crop=lambda img: img[60:-30, 15:],\n",
        "                          color=False, n_frames=1)\n",
        "    return env\n",
        "\n",
        "\n",
        "env = make_env()\n",
        "\n",
        "obs_shape = env.observation_space.shape\n",
        "n_actions = env.action_space.n\n",
        "\n",
        "print(\"Observation shape:\", obs_shape)\n",
        "print(\"Num actions:\", n_actions)\n",
        "print(\"Action names:\", env.env.env.get_action_meanings())"
      ],
      "execution_count": null,
      "outputs": [
        {
          "output_type": "stream",
          "text": [
            "Observation shape: (1, 42, 42)\n",
            "Num actions: 14\n",
            "Action names: ['NOOP', 'UP', 'RIGHT', 'LEFT', 'DOWN', 'DOWNRIGHT', 'DOWNLEFT', 'RIGHTFIRE', 'LEFTFIRE', 'DOWNFIRE', 'UPRIGHTFIRE', 'UPLEFTFIRE', 'DOWNRIGHTFIRE', 'DOWNLEFTFIRE']\n"
          ],
          "name": "stdout"
        }
      ]
    },
    {
      "cell_type": "code",
      "metadata": {
        "id": "qEgstAw651gi",
        "colab": {
          "base_uri": "https://localhost:8080/",
          "height": 545
        },
        "outputId": "2cf75060-ec8b-446d-c9ce-a08052437291"
      },
      "source": [
        "s = env.reset()\n",
        "for _ in range(100):\n",
        "    s, _, _, _ = env.step(env.action_space.sample())\n",
        "\n",
        "plt.title('Game image')\n",
        "plt.imshow(env.render('rgb_array'))\n",
        "plt.show()\n",
        "\n",
        "plt.title('Agent observation')\n",
        "plt.imshow(s.reshape([42, 42]))\n",
        "plt.show()"
      ],
      "execution_count": null,
      "outputs": [
        {
          "output_type": "display_data",
          "data": {
            "image/png": "[encoded data removed]",
            "text/plain": [
              "<Figure size 432x288 with 1 Axes>"
            ]
          },
          "metadata": {
            "tags": [],
            "needs_background": "light"
          }
        },
        {
          "output_type": "display_data",
          "data": {
            "image/png": "[encoded data removed]",
            "text/plain": [
              "<Figure size 432x288 with 1 Axes>"
            ]
          },
          "metadata": {
            "tags": [],
            "needs_background": "light"
          }
        }
      ]
    },
    {
      "cell_type": "markdown",
      "metadata": {
        "id": "gcbU9Tpb51gl"
      },
      "source": [
        "### POMDP setting\n",
        "\n",
        "The atari game we're working with is actually a POMDP: your agent needs to know timing at which enemies spawn and move, but cannot do so unless it has some memory. \n",
        "\n",
        "Let's design another agent that has a recurrent neural net memory to solve this. Here's a sketch.\n",
        "\n",
        "![img](https://github.com/ml-mipt/ml-mipt/blob/advanced/homeworks/Lab2_RL/img1.jpg?raw=1)\n"
      ]
    },
    {
      "cell_type": "code",
      "metadata": {
        "id": "kzzBIGl751gm"
      },
      "source": [
        "import torch\n",
        "import torch.nn as nn\n",
        "import torch.nn.functional as F\n",
        "\n",
        "# a special module that converts [batch, channel, w, h] to [batch, units]\n",
        "\n",
        "\n",
        "class Flatten(nn.Module):\n",
        "    def forward(self, input):\n",
        "        return input.view(input.size(0), -1)"
      ],
      "execution_count": null,
      "outputs": []
    },
    {
      "cell_type": "code",
      "metadata": {
        "id": "1rjrFbei51go"
      },
      "source": [
        "device = torch.device('cuda:0') if torch.cuda.is_available() else torch.device('cpu')\n",
        "# device = torch.device('cpu')"
      ],
      "execution_count": null,
      "outputs": []
    },
    {
      "cell_type": "code",
      "metadata": {
        "id": "CUka4r0AXFZi",
        "colab": {
          "base_uri": "https://localhost:8080/",
          "height": 35
        },
        "outputId": "e7a005c5-4b18-4769-8f67-ec5383a994fe"
      },
      "source": [
        "device"
      ],
      "execution_count": null,
      "outputs": [
        {
          "output_type": "execute_result",
          "data": {
            "text/plain": [
              "device(type='cuda', index=0)"
            ]
          },
          "metadata": {
            "tags": []
          },
          "execution_count": 42
        }
      ]
    },
    {
      "cell_type": "code",
      "metadata": {
        "id": "i2vZbAzE51gq"
      },
      "source": [
        "class SimpleRecurrentAgent(nn.Module):\n",
        "    def __init__(self, obs_shape, n_actions, reuse=False):\n",
        "        \"\"\"A simple actor-critic agent\"\"\"\n",
        "        super(self.__class__, self).__init__()\n",
        "\n",
        "        self.conv0 = nn.Conv2d(1, 32, kernel_size=(3, 3), stride=(2, 2))\n",
        "        self.conv1 = nn.Conv2d(32, 32, kernel_size=(3, 3), stride=(2, 2))\n",
        "        self.conv2 = nn.Conv2d(32, 32, kernel_size=(3, 3), stride=(2, 2))\n",
        "        self.flatten = Flatten()\n",
        "\n",
        "        self.hid = nn.Linear(512, 128)\n",
        "        self.rnn = nn.LSTMCell(128, 128)\n",
        "\n",
        "        self.logits = nn.Linear(128, n_actions)\n",
        "        self.state_value = nn.Linear(128, 1)\n",
        "\n",
        "    def forward(self, prev_state, obs_t):\n",
        "        \"\"\"\n",
        "        Takes agent's previous step and observation, \n",
        "        returns next state and whatever it needs to learn (tf tensors)\n",
        "        \"\"\"\n",
        "\n",
        "        # YOUR CODE: apply the whole neural net for one step here.\n",
        "        # See docs on self.rnn(...)\n",
        "        # the recurrent cell should take the last feedforward dense layer as input\n",
        "        x =  self.conv0(obs_t)\n",
        "        x =  F.elu(x)\n",
        "        x =  self.conv1(x)\n",
        "        x =  F.elu(x)\n",
        "        x =  self.conv2(x)\n",
        "        x =  F.elu(x)\n",
        "        x =  self.flatten(x)\n",
        "        x =  self.hid(x)\n",
        "        x =  F.relu(x)\n",
        "        hidden, cell = self.rnn(x, prev_state)\n",
        "\n",
        "        new_state = (hidden, cell)\n",
        "        logits = self.logits(cell)\n",
        "        state_value = self.state_value(cell)[:, 0]\n",
        "\n",
        "        return new_state, (logits, state_value)\n",
        "\n",
        "    def get_initial_state(self, batch_size):\n",
        "        \"\"\"Return a list of agent memory states at game start. Each state is a np array of shape [batch_size, ...]\"\"\"\n",
        "        return torch.zeros((batch_size, 128)), torch.zeros((batch_size, 128))\n",
        "\n",
        "    def sample_actions(self, agent_outputs):\n",
        "        \"\"\"pick actions given numeric agent outputs (np arrays)\"\"\"\n",
        "        logits, state_values = agent_outputs\n",
        "        probs = F.softmax(logits)\n",
        "        return torch.multinomial(probs, 1)[:, 0].data.numpy()\n",
        "\n",
        "    def step(self, prev_state, obs_t):\n",
        "        \"\"\" like forward, but obs_t is a numpy array \"\"\"\n",
        "        obs_t = torch.tensor(np.asarray(obs_t), dtype=torch.float32)\n",
        "        (h, c), (l, s) = self.forward(prev_state, obs_t)\n",
        "        return (h.detach(), c.detach()), (l.detach(), s.detach())"
      ],
      "execution_count": null,
      "outputs": []
    },
    {
      "cell_type": "code",
      "metadata": {
        "id": "NLxtLoZv51gs"
      },
      "source": [
        "n_parallel_games = 50\n",
        "gamma = 0.99\n",
        "\n",
        "agent = SimpleRecurrentAgent(obs_shape, n_actions)"
      ],
      "execution_count": null,
      "outputs": []
    },
    {
      "cell_type": "code",
      "metadata": {
        "id": "tVJqQk5I51gx",
        "colab": {
          "base_uri": "https://localhost:8080/",
          "height": 107
        },
        "outputId": "cfd04ce5-aaad-408b-9a14-e07d202d0120"
      },
      "source": [
        "state = [env.reset()]\n",
        "_, (logits, value) = agent.step(agent.get_initial_state(1), state)\n",
        "print(\"action logits:\\n\", logits)\n",
        "print(\"state values:\\n\", value)"
      ],
      "execution_count": null,
      "outputs": [
        {
          "output_type": "stream",
          "text": [
            "action logits:\n",
            " tensor([[ 0.0008, -0.0223,  0.0062, -0.0672,  0.0893,  0.0627, -0.0840, -0.0420,\n",
            "          0.0808,  0.0117, -0.0185,  0.0016, -0.0901,  0.0217]])\n",
            "state values:\n",
            " tensor([-0.0188])\n"
          ],
          "name": "stdout"
        }
      ]
    },
    {
      "cell_type": "markdown",
      "metadata": {
        "id": "modi3jf_51gz"
      },
      "source": [
        "### Let's play!\n",
        "Let's build a function that measures agent's average reward."
      ]
    },
    {
      "cell_type": "code",
      "metadata": {
        "id": "rAYo9dyc51g0"
      },
      "source": [
        "def evaluate(agent, env, n_games=1):\n",
        "    \"\"\"Plays an entire game start to end, returns session rewards.\"\"\"\n",
        "\n",
        "    game_rewards = []\n",
        "    for _ in range(n_games):\n",
        "        # initial observation and memory\n",
        "        observation = env.reset()\n",
        "        prev_memories = agent.get_initial_state(1)\n",
        "\n",
        "        total_reward = 0\n",
        "        while True:\n",
        "            new_memories, readouts = agent.step(\n",
        "                prev_memories, observation[None, ...])\n",
        "            action = agent.sample_actions(readouts)\n",
        "\n",
        "            observation, reward, done, info = env.step(action[0])\n",
        "\n",
        "            total_reward += reward\n",
        "            prev_memories = new_memories\n",
        "            if done:\n",
        "                break\n",
        "\n",
        "        game_rewards.append(total_reward)\n",
        "    return game_rewards"
      ],
      "execution_count": null,
      "outputs": []
    },
    {
      "cell_type": "code",
      "metadata": {
        "id": "YnAQqUQk51g3",
        "colab": {
          "base_uri": "https://localhost:8080/",
          "height": 91
        },
        "outputId": "c88c4322-ec42-46be-dade-a50560dad67b"
      },
      "source": [
        "env_monitor = gym.wrappers.Monitor(env, directory=\"kungfu_videos\", force=True)\n",
        "rw = evaluate(agent, env_monitor, n_games=3,)\n",
        "env_monitor.close()\n",
        "print(rw)"
      ],
      "execution_count": null,
      "outputs": [
        {
          "output_type": "stream",
          "text": [
            "/usr/local/lib/python3.6/dist-packages/ipykernel_launcher.py:50: UserWarning: Implicit dimension choice for softmax has been deprecated. Change the call to include dim=X as an argument.\n",
            "/usr/local/lib/python3.6/dist-packages/ipykernel_launcher.py:50: UserWarning: Implicit dimension choice for softmax has been deprecated. Change the call to include dim=X as an argument.\n"
          ],
          "name": "stderr"
        },
        {
          "output_type": "stream",
          "text": [
            "[0.0, 400.0, 300.0]\n"
          ],
          "name": "stdout"
        }
      ]
    },
    {
      "cell_type": "code",
      "metadata": {
        "id": "dKBXPi5k51g4",
        "colab": {
          "resources": {
            "http://localhost:8080/kungfu_videos/openaigym.video.1.274.video000000.mp4": {
              "data": "CjwhRE9DVFlQRSBodG1sPgo8aHRtbCBsYW5nPWVuPgogIDxtZXRhIGNoYXJzZXQ9dXRmLTg+CiAgPG1ldGEgbmFtZT12aWV3cG9ydCBjb250ZW50PSJpbml0aWFsLXNjYWxlPTEsIG1pbmltdW0tc2NhbGU9MSwgd2lkdGg9ZGV2aWNlLXdpZHRoIj4KICA8dGl0bGU+RXJyb3IgNDA0IChOb3QgRm91bmQpISExPC90aXRsZT4KICA8c3R5bGU+CiAgICAqe21hcmdpbjowO3BhZGRpbmc6MH1odG1sLGNvZGV7Zm9udDoxNXB4LzIycHggYXJpYWwsc2Fucy1zZXJpZn1odG1se2JhY2tncm91bmQ6I2ZmZjtjb2xvcjojMjIyO3BhZGRpbmc6MTVweH1ib2R5e21hcmdpbjo3JSBhdXRvIDA7bWF4LXdpZHRoOjM5MHB4O21pbi1oZWlnaHQ6MTgwcHg7cGFkZGluZzozMHB4IDAgMTVweH0qID4gYm9keXtiYWNrZ3JvdW5kOnVybCgvL3d3dy5nb29nbGUuY29tL2ltYWdlcy9lcnJvcnMvcm9ib3QucG5nKSAxMDAlIDVweCBuby1yZXBlYXQ7cGFkZGluZy1yaWdodDoyMDVweH1we21hcmdpbjoxMXB4IDAgMjJweDtvdmVyZmxvdzpoaWRkZW59aW5ze2NvbG9yOiM3Nzc7dGV4dC1kZWNvcmF0aW9uOm5vbmV9YSBpbWd7Ym9yZGVyOjB9QG1lZGlhIHNjcmVlbiBhbmQgKG1heC13aWR0aDo3NzJweCl7Ym9keXtiYWNrZ3JvdW5kOm5vbmU7bWFyZ2luLXRvcDowO21heC13aWR0aDpub25lO3BhZGRpbmctcmlnaHQ6MH19I2xvZ297YmFja2dyb3VuZDp1cmwoLy93d3cuZ29vZ2xlLmNvbS9pbWFnZXMvbG9nb3MvZXJyb3JwYWdlL2Vycm9yX2xvZ28tMTUweDU0LnBuZykgbm8tcmVwZWF0O21hcmdpbi1sZWZ0Oi01cHh9QG1lZGlhIG9ubHkgc2NyZWVuIGFuZCAobWluLXJlc29sdXRpb246MTkyZHBpKXsjbG9nb3tiYWNrZ3JvdW5kOnVybCgvL3d3dy5nb29nbGUuY29tL2ltYWdlcy9sb2dvcy9lcnJvcnBhZ2UvZXJyb3JfbG9nby0xNTB4NTQtMngucG5nKSBuby1yZXBlYXQgMCUgMCUvMTAwJSAxMDAlOy1tb3otYm9yZGVyLWltYWdlOnVybCgvL3d3dy5nb29nbGUuY29tL2ltYWdlcy9sb2dvcy9lcnJvcnBhZ2UvZXJyb3JfbG9nby0xNTB4NTQtMngucG5nKSAwfX1AbWVkaWEgb25seSBzY3JlZW4gYW5kICgtd2Via2l0LW1pbi1kZXZpY2UtcGl4ZWwtcmF0aW86Mil7I2xvZ297YmFja2dyb3VuZDp1cmwoLy93d3cuZ29vZ2xlLmNvbS9pbWFnZXMvbG9nb3MvZXJyb3JwYWdlL2Vycm9yX2xvZ28tMTUweDU0LTJ4LnBuZykgbm8tcmVwZWF0Oy13ZWJraXQtYmFja2dyb3VuZC1zaXplOjEwMCUgMTAwJX19I2xvZ297ZGlzcGxheTppbmxpbmUtYmxvY2s7aGVpZ2h0OjU0cHg7d2lkdGg6MTUwcHh9CiAgPC9zdHlsZT4KICA8YSBocmVmPS8vd3d3Lmdvb2dsZS5jb20vPjxzcGFuIGlkPWxvZ28gYXJpYS1sYWJlbD1Hb29nbGU+PC9zcGFuPjwvYT4KICA8cD48Yj40MDQuPC9iPiA8aW5zPlRoYXTigJlzIGFuIGVycm9yLjwvaW5zPgogIDxwPiAgPGlucz5UaGF04oCZcyBhbGwgd2Uga25vdy48L2lucz4K",
              "ok": false,
              "headers": [
                [
                  "content-length",
                  "1449"
                ],
                [
                  "content-type",
                  "text/html; charset=utf-8"
                ]
              ],
              "status": 404,
              "status_text": ""
            }
          },
          "base_uri": "https://localhost:8080/",
          "height": 501
        },
        "outputId": "d159c25d-c850-458b-cdfa-ae5dfaa717a2"
      },
      "source": [
        "# show video\n",
        "from IPython.display import HTML\n",
        "import os\n",
        "\n",
        "video_names = list(filter(lambda s: s.endswith(\n",
        "    \".mp4\"), os.listdir(\"./kungfu_videos/\")))\n",
        "\n",
        "HTML(\"\"\"\n",
        "<video width=\"640\" height=\"480\" controls>\n",
        "  <source src=\"{}\" type=\"video/mp4\">\n",
        "</video>\n",
        "\"\"\".format(\"./kungfu_videos/\"+video_names[-1]))  # this may or may not be _last_ video. Try other indices"
      ],
      "execution_count": null,
      "outputs": [
        {
          "output_type": "execute_result",
          "data": {
            "text/html": [
              "\n",
              "<video width=\"640\" height=\"480\" controls>\n",
              "  <source src=\"./kungfu_videos/openaigym.video.1.274.video000000.mp4\" type=\"video/mp4\">\n",
              "</video>\n"
            ],
            "text/plain": [
              "<IPython.core.display.HTML object>"
            ]
          },
          "metadata": {
            "tags": []
          },
          "execution_count": 48
        }
      ]
    },
    {
      "cell_type": "markdown",
      "metadata": {
        "id": "_nauSlZh51g6"
      },
      "source": [
        "### Training on parallel games\n",
        "\n",
        "We introduce a class called EnvPool - it's a tool that handles multiple environments for you. Here's how it works:\n",
        "![img](https://github.com/ml-mipt/ml-mipt/blob/advanced/homeworks/Lab2_RL/img2.jpg?raw=1)"
      ]
    },
    {
      "cell_type": "code",
      "metadata": {
        "id": "GWAcQYIf51g6"
      },
      "source": [
        "from env_pool import EnvPool\n",
        "pool = EnvPool(agent, make_env, n_parallel_games)"
      ],
      "execution_count": null,
      "outputs": []
    },
    {
      "cell_type": "markdown",
      "metadata": {
        "id": "PgWKKH4i51g9"
      },
      "source": [
        "We gonna train our agent on a thing called __rollouts:__\n",
        "![img](https://github.com/ml-mipt/ml-mipt/blob/advanced/homeworks/Lab2_RL/img3.jpg?raw=1)\n",
        "\n",
        "A rollout is just a sequence of T observations, actions and rewards that agent took consequently.\n",
        "* First __s0__ is not necessarily initial state for the environment\n",
        "* Final state is not necessarily terminal\n",
        "* We sample several parallel rollouts for efficiency"
      ]
    },
    {
      "cell_type": "code",
      "metadata": {
        "id": "yhCT3HuO51g9",
        "colab": {
          "base_uri": "https://localhost:8080/",
          "height": 55
        },
        "outputId": "ea72e14a-31d4-4ab0-e220-8368c126c1c9"
      },
      "source": [
        "# for each of n_parallel_games, take 10 steps\n",
        "rollout_obs, rollout_actions, rollout_rewards, rollout_mask = pool.interact(10)"
      ],
      "execution_count": null,
      "outputs": [
        {
          "output_type": "stream",
          "text": [
            "/usr/local/lib/python3.6/dist-packages/ipykernel_launcher.py:50: UserWarning: Implicit dimension choice for softmax has been deprecated. Change the call to include dim=X as an argument.\n"
          ],
          "name": "stderr"
        }
      ]
    },
    {
      "cell_type": "code",
      "metadata": {
        "id": "9gIKx_KA51hA",
        "colab": {
          "base_uri": "https://localhost:8080/",
          "height": 89
        },
        "outputId": "e65ffadc-3b97-4905-dee5-bb07fada3a28"
      },
      "source": [
        "print(\"Actions shape:\", rollout_actions.shape)\n",
        "print(\"Rewards shape:\", rollout_rewards.shape)\n",
        "print(\"Mask shape:\", rollout_mask.shape)\n",
        "print(\"Observations shape: \", rollout_obs.shape)"
      ],
      "execution_count": null,
      "outputs": [
        {
          "output_type": "stream",
          "text": [
            "Actions shape: (50, 10)\n",
            "Rewards shape: (50, 10)\n",
            "Mask shape: (50, 10)\n",
            "Observations shape:  (50, 10, 1, 42, 42)\n"
          ],
          "name": "stdout"
        }
      ]
    },
    {
      "cell_type": "markdown",
      "metadata": {
        "id": "LXTFVxQF51hB"
      },
      "source": [
        "# Actor-critic objective\n",
        "\n",
        "Here we define a loss function that uses rollout above to train advantage actor-critic agent.\n",
        "\n",
        "\n",
        "Our loss consists of three components:\n",
        "\n",
        "* __The policy \"loss\"__\n",
        " $$ \\hat J = {1 \\over T} \\cdot \\sum_t { \\log \\pi(a_t | s_t) } \\cdot A_{const}(s,a) $$\n",
        "  * This function has no meaning in and of itself, but it was built such that\n",
        "  * $ \\nabla \\hat J = {1 \\over N} \\cdot \\sum_t { \\nabla \\log \\pi(a_t | s_t) } \\cdot A(s,a) \\approx \\nabla E_{s, a \\sim \\pi} R(s,a) $\n",
        "  * Therefore if we __maximize__ J_hat with gradient descent we will maximize expected reward\n",
        "  \n",
        "  \n",
        "* __The value \"loss\"__\n",
        "  $$ L_{td} = {1 \\over T} \\cdot \\sum_t { [r + \\gamma \\cdot V_{const}(s_{t+1}) - V(s_t)] ^ 2 }$$\n",
        "  * Ye Olde TD_loss from q-learning and alike\n",
        "  * If we minimize this loss, V(s) will converge to $V_\\pi(s) = E_{a \\sim \\pi(a | s)} R(s,a) $\n",
        "\n",
        "\n",
        "* __Entropy Regularizer__\n",
        "  $$ H = - {1 \\over T} \\sum_t \\sum_a {\\pi(a|s_t) \\cdot \\log \\pi (a|s_t)}$$\n",
        "  * If we __maximize__ entropy we discourage agent from predicting zero probability to actions\n",
        "  prematurely (a.k.a. exploration)\n",
        "  \n",
        "  \n",
        "So we optimize a linear combination of $L_{td}$ $- \\hat J$, $-H$\n",
        "  \n",
        "```\n",
        "\n",
        "```\n",
        "\n",
        "```\n",
        "\n",
        "```\n",
        "\n",
        "```\n",
        "\n",
        "```\n",
        "\n",
        "\n",
        "__One more thing:__ since we train on T-step rollouts, we can use N-step formula for advantage for free:\n",
        "  * At the last step, $A(s_t,a_t) = r(s_t, a_t) + \\gamma \\cdot V(s_{t+1}) - V(s) $\n",
        "  * One step earlier, $A(s_t,a_t) = r(s_t, a_t) + \\gamma \\cdot r(s_{t+1}, a_{t+1}) + \\gamma ^ 2 \\cdot V(s_{t+2}) - V(s) $\n",
        "  * Et cetera, et cetera. This way agent starts training much faster since it's estimate of A(s,a) depends less on his (imperfect) value function and more on actual rewards. There's also a [nice generalization](https://arxiv.org/abs/1506.02438) of this.\n",
        "\n",
        "\n",
        "__Note:__ it's also a good idea to scale rollout_len up to learn longer sequences. You may wish set it to >=20 or to start at 10 and then scale up as time passes."
      ]
    },
    {
      "cell_type": "code",
      "metadata": {
        "id": "lyl3Gi0151hC"
      },
      "source": [
        "def to_one_hot(y, n_dims=None):\n",
        "    \"\"\" Take an integer tensor and convert it to 1-hot matrix. \"\"\"\n",
        "    y_tensor = y.to(dtype=torch.int64).reshape(-1, 1)\n",
        "    n_dims = n_dims if n_dims is not None else int(torch.max(y_tensor)) + 1\n",
        "    y_one_hot = torch.zeros(y_tensor.size()[0], n_dims).scatter_(1, y_tensor, 1)\n",
        "    return y_one_hot"
      ],
      "execution_count": null,
      "outputs": []
    },
    {
      "cell_type": "code",
      "metadata": {
        "id": "_TuqkTyMDKjG"
      },
      "source": [
        ""
      ],
      "execution_count": null,
      "outputs": []
    },
    {
      "cell_type": "code",
      "metadata": {
        "id": "D4Ai8M8O51hD"
      },
      "source": [
        "opt = torch.optim.Adam(agent.parameters(), lr=1e-5)\n",
        "\n",
        "\n",
        "def train_on_rollout(states, actions, rewards, is_not_done, prev_memory_states, gamma=0.99, lamda=1., device=device, max_grad_norm=90):\n",
        "    \"\"\"\n",
        "    Takes a sequence of states, actions and rewards produced by generate_session.\n",
        "    Updates agent's weights by following the policy gradient above.\n",
        "    Please use Adam optimizer with default parameters.\n",
        "    \"\"\"\n",
        "\n",
        "    # shape: [batch_size, time, c, h, w]\n",
        "    states = torch.tensor(np.asarray(states), dtype=torch.float32)\n",
        "    actions = torch.tensor(np.array(actions), dtype=torch.int64)  # shape: [batch_size, time]\n",
        "    rewards = torch.tensor(np.array(rewards), dtype=torch.float32)  # shape: [batch_size, time]\n",
        "    is_not_done = torch.tensor(np.array(is_not_done), dtype=torch.float32)  # shape: [batch_size, time]\n",
        "    rollout_length = rewards.shape[1] - 1\n",
        "\n",
        "    # predict logits, probas and log-probas using an agent.\n",
        "    memory = [m.detach() for m in prev_memory_states]\n",
        "\n",
        "    logits = []  # append logit sequence here\n",
        "    state_values = []  # append state values here\n",
        "    for t in range(rewards.shape[1]):\n",
        "        obs_t = states[:, t]\n",
        "\n",
        "        # use agent to comute logits_t and state values_t.\n",
        "        # append them to logits and state_values array\n",
        "\n",
        "        memory, (logits_t, values_t) = agent.forward(memory, obs_t)\n",
        "\n",
        "        logits.append(logits_t)\n",
        "        state_values.append(values_t)\n",
        "\n",
        "    logits = torch.stack(logits, dim=1)\n",
        "    state_values = torch.stack(state_values, dim=1)\n",
        "    probas = F.softmax(logits, dim=2)\n",
        "    logprobas = F.log_softmax(logits, dim=2)\n",
        "\n",
        "    # select log-probabilities for chosen actions, log pi(a_i|s_i)\n",
        "    actions_one_hot = to_one_hot(actions, n_actions).view(\n",
        "        actions.shape[0], actions.shape[1], n_actions)\n",
        "    logprobas_for_actions = torch.sum(logprobas * actions_one_hot, dim=-1)\n",
        "\n",
        "    # Now let's compute two loss components:\n",
        "    # 1) Policy gradient objective.\n",
        "    # Notes: Please don't forget to call .detach() on advantage term. Also please use mean, not sum.\n",
        "    # it's okay to use loops if you want\n",
        "    J_hat = 0  # policy objective as in the formula for J_hat\n",
        "\n",
        "    # 2) Temporal difference MSE for state values\n",
        "    # Notes: Please don't forget to call on V(s') term. Also please use mean, not sum.\n",
        "    # it's okay to use loops if you want\n",
        "    value_loss = 0\n",
        "    advantage = state_values[:, -1].detach()\n",
        "\n",
        "    for t in reversed(range(rollout_length)):\n",
        "        r_t = rewards[:, t]\n",
        "        delta_t = rewards[:, t] + gamma * state_values[:, t + 1].data.view(-1) - state_values[:, t].data.view(-1)\n",
        "        advantage = delta_t + gamma * lamda * advantage\n",
        "        advantage = (advantage - advantage.mean())\n",
        "        # current state values\n",
        "        V_t = state_values[:, t]\n",
        "        V_next = state_values[:, t + 1].detach()           # next state values\n",
        "        # log-probability of a_t in s_t\n",
        "        logpi_a_s_t = logprobas_for_actions[:, t]\n",
        "\n",
        "        # Compute temporal difference error (MSE for V(s))\n",
        "        value_loss += torch.mean((r_t + gamma * V_next - V_t) ** 2)\n",
        "\n",
        "        # compute policy pseudo-loss aka -J_hat.\n",
        "        J_hat += (torch.mean(advantage * logpi_a_s_t))\n",
        "\n",
        "    # regularize with entropy\n",
        "    entropy_reg = - torch.mean(torch.sum(logprobas * probas, dim=-1))\n",
        "\n",
        "    # add-up three loss components and average over time\n",
        "    loss = -J_hat / rollout_length +\\\n",
        "        value_loss / rollout_length +\\\n",
        "           -0.01 * entropy_reg\n",
        "\n",
        "    # Gradient descent step\n",
        "    loss.backward()\n",
        "    # This small trick allows to clip gradients and to monitor them over the time\n",
        "    grad_norm = nn.utils.clip_grad_norm_(agent.parameters(), max_grad_norm)\n",
        "    opt.step()\n",
        "    opt.zero_grad()\n",
        "\n",
        "    return loss.data.numpy(), grad_norm, entropy_reg.data.numpy()"
      ],
      "execution_count": null,
      "outputs": []
    },
    {
      "cell_type": "code",
      "metadata": {
        "id": "CHhV6G4r51hF",
        "colab": {
          "base_uri": "https://localhost:8080/",
          "height": 109
        },
        "outputId": "86cf932e-0ad2-4db8-ce2f-4c2abd0b9ce2"
      },
      "source": [
        "# let's test it\n",
        "memory = list(pool.prev_memory_states)\n",
        "rollout_obs, rollout_actions, rollout_rewards, rollout_mask = pool.interact(10)\n",
        "\n",
        "train_on_rollout(rollout_obs, rollout_actions,\n",
        "                 rollout_rewards, rollout_mask, memory)"
      ],
      "execution_count": null,
      "outputs": [
        {
          "output_type": "stream",
          "text": [
            "/usr/local/lib/python3.6/dist-packages/ipykernel_launcher.py:50: UserWarning: Implicit dimension choice for softmax has been deprecated. Change the call to include dim=X as an argument.\n"
          ],
          "name": "stderr"
        },
        {
          "output_type": "execute_result",
          "data": {
            "text/plain": [
              "(array(-0.02636837, dtype=float32),\n",
              " tensor(0.0006),\n",
              " array(2.6368387, dtype=float32))"
            ]
          },
          "metadata": {
            "tags": []
          },
          "execution_count": 56
        }
      ]
    },
    {
      "cell_type": "markdown",
      "metadata": {
        "id": "0gqkcqkr51hG"
      },
      "source": [
        "# Train \n",
        "\n",
        "just run train step and see if agent learns any better"
      ]
    },
    {
      "cell_type": "code",
      "metadata": {
        "id": "6FNgxwY_51hH"
      },
      "source": [
        "from IPython.display import clear_output\n",
        "from tqdm import trange\n",
        "from pandas import DataFrame\n",
        "moving_average = lambda x, **kw: DataFrame(\n",
        "    {'x': np.asarray(x)}).x.ewm(**kw).mean().values\n",
        "\n",
        "rewards_history = []\n",
        "grad_norm_history = []\n",
        "entropy_history = []\n",
        "loss_history = []"
      ],
      "execution_count": null,
      "outputs": []
    },
    {
      "cell_type": "code",
      "metadata": {
        "id": "W9dzEjMW51hI",
        "colab": {
          "base_uri": "https://localhost:8080/",
          "height": 589
        },
        "outputId": "7922ee7c-627a-4cad-d619-4db2c1400cf1"
      },
      "source": [
        "for i in range(15000, 25000):\n",
        "\n",
        "    memory = list(pool.prev_memory_states)\n",
        "    rollout_obs, rollout_actions, rollout_rewards, rollout_mask = pool.interact(\n",
        "        20)\n",
        "    loss, grad_norm, entropy = train_on_rollout(rollout_obs, rollout_actions,\n",
        "                     rollout_rewards, rollout_mask, memory)\n",
        "    grad_norm_history.append(grad_norm)\n",
        "    entropy_history.append(entropy)\n",
        "    loss_history.append(loss)\n",
        "    if i % 100 == 0:\n",
        "        rewards_history.append(np.mean(evaluate(agent, env, n_games=1)))\n",
        "        clear_output(True)\n",
        "        \n",
        "        plt.figure(figsize=[16, 9])\n",
        "        plt.subplot(2, 2, 1)\n",
        "        plt.title(\"Mean reward\")\n",
        "        plt.plot(rewards_history, label='rewards')\n",
        "        plt.plot(moving_average(np.array(rewards_history),\n",
        "                                span=10), label='rewards ewma@10')\n",
        "        plt.legend()\n",
        "\n",
        "        plt.subplot(2, 2, 2)\n",
        "        plt.title(\"Grad norm history (smoothened)\")\n",
        "        plt.plot(moving_average(np.array(grad_norm_history), span=100), label='grad norm ewma@100')\n",
        "        plt.grid()\n",
        "        \n",
        "        print(entropy_history[-1])\n",
        "        plt.subplot(2, 2, 3)\n",
        "        plt.title(\"entropy (smoothened)\")\n",
        "        plt.plot(moving_average(np.array(entropy_history), span=100), label='entropy ewma@100')\n",
        "        plt.grid()\n",
        "        \n",
        "        plt.subplot(2, 2, 4)\n",
        "        plt.title(\"loss (smoothened)\")\n",
        "        plt.plot(np.array(loss_history), label='loss raw')\n",
        "        plt.plot(moving_average(np.array(loss_history), span=10), label='loss ewma@10')\n",
        "        plt.grid()\n",
        "\n",
        "\n",
        "        plt.show()\n",
        "        \n",
        "        if rewards_history[-1] >= 10000:\n",
        "            print(\"Your agent has just passed the minimum homework threshold\")\n",
        "            break\n"
      ],
      "execution_count": null,
      "outputs": [
        {
          "output_type": "stream",
          "text": [
            "0.7737912\n"
          ],
          "name": "stdout"
        },
        {
          "output_type": "display_data",
          "data": {
            "image/png": "[encoded data removed]",
            "text/plain": [
              "<Figure size 1152x648 with 4 Axes>"
            ]
          },
          "metadata": {
            "tags": [],
            "needs_background": "light"
          }
        },
        {
          "output_type": "stream",
          "text": [
            "Your agent has just passed the minimum homework threshold\n"
          ],
          "name": "stdout"
        }
      ]
    },
    {
      "cell_type": "markdown",
      "metadata": {
        "id": "dWIfOgwK51hJ"
      },
      "source": [
        "Relax and grab some refreshments while your agent is locked in an infinite loop of violence and death.\n",
        "\n",
        "__How to interpret plots:__\n",
        "\n",
        "The session reward is the easy thing: it should in general go up over time, but it's okay if it fluctuates ~~like crazy~~. It's also OK if it reward doesn't increase substantially before some 10k initial steps. However, if reward reaches zero and doesn't seem to get up over 2-3 evaluations, there's something wrong happening.\n",
        "\n",
        "\n",
        "Since we use a policy-based method, we also keep track of __policy entropy__ - the same one you used as a regularizer. The only important thing about it is that your entropy shouldn't drop too low (`< 0.1`) before your agent gets the yellow belt. Or at least it can drop there, but _it shouldn't stay there for long_.\n",
        "\n",
        "If it does, the culprit is likely:\n",
        "* Some bug in entropy computation. Remember that it is $ - \\sum p(a_i) \\cdot log p(a_i) $\n",
        "* Your agent architecture converges too fast. Increase entropy coefficient in actor loss. \n",
        "* Gradient explosion - just [clip gradients](https://stackoverflow.com/a/43486487) and maybe use a smaller network\n",
        "* Us. Or TF developers. Or aliens. Or lizardfolk. Contact us on forums before it's too late!\n",
        "\n",
        "If you're debugging, just run `logits, values = agent.step(batch_states)` and manually look into logits and values. This will reveal the problem 9 times out of 10: you'll likely see some NaNs or insanely large numbers or zeros. Try to catch the moment when this happens for the first time and investigate from there."
      ]
    },
    {
      "cell_type": "markdown",
      "metadata": {
        "id": "74Ydk8MB51hJ"
      },
      "source": [
        "### \"Final\" evaluation"
      ]
    },
    {
      "cell_type": "code",
      "metadata": {
        "id": "v2oEla9R51hK"
      },
      "source": [
        "env_monitor = gym.wrappers.Monitor(env, directory=\"kungfu_videos\", force=True)\n",
        "final_rewards = evaluate(agent, env_monitor, n_games=20,)\n",
        "env_monitor.close()\n",
        "print(\"Final mean reward\", np.mean(final_rewards))\n",
        "\n",
        "video_names = list(filter(lambda s: s.endswith(\n",
        "    \".mp4\"), os.listdir(\"./kungfu_videos/\")))\n",
        "HTML(\"\"\"\n",
        "<video width=\"640\" height=\"480\" controls>\n",
        "  <source src=\"{}\" type=\"video/mp4\">\n",
        "</video>\n",
        "\"\"\".format(\"./kungfu_videos/\"+video_names[-1]))  # this may or may not be _last_ video. Try other indices"
      ],
      "execution_count": null,
      "outputs": []
    },
    {
      "cell_type": "code",
      "metadata": {
        "id": "7oPDIPfEsM75"
      },
      "source": [
        ""
      ],
      "execution_count": null,
      "outputs": []
    }
  ]
}