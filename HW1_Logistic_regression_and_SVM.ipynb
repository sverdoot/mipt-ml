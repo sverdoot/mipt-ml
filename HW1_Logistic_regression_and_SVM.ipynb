{
  "nbformat": 4,
  "nbformat_minor": 0,
  "metadata": {
    "colab": {
      "name": "HW1_Logistic_regression_and_SVM.ipynb",
      "provenance": [],
      "collapsed_sections": [],
      "toc_visible": true
    },
    "kernelspec": {
      "display_name": "Py3 research env",
      "language": "python",
      "name": "py3_research"
    },
    "language_info": {
      "codemirror_mode": {
        "name": "ipython",
        "version": 3
      },
      "file_extension": ".py",
      "mimetype": "text/x-python",
      "name": "python",
      "nbconvert_exporter": "python",
      "pygments_lexer": "ipython3",
      "version": "3.6.7"
    }
  },
  "cells": [
    {
      "cell_type": "markdown",
      "metadata": {
        "id": "v5Fj-ahf25os"
      },
      "source": [
        "# Домашнее задание №1: Классификация. \n",
        "# Логистическая регрессия и kNN."
      ]
    },
    {
      "cell_type": "markdown",
      "metadata": {
        "id": "S_DeyU4gUKx3"
      },
      "source": [
        "Форма для сдачи будет опубликована позднее."
      ]
    },
    {
      "cell_type": "markdown",
      "metadata": {
        "id": "Y6Ywd74bUKx4"
      },
      "source": [
        "### Пожалуйста, не производите никаких манипуляций с  переменной `_dict_for_submission` и с ячейками, в которых она используется. На ее основе будет сгенерирован итоговый файл для сдачи задания."
      ]
    },
    {
      "cell_type": "code",
      "metadata": {
        "id": "J_ywuzILUKx5"
      },
      "source": [
        "# Do not change me, just run\n",
        "# !!!!!!!!!!!!!!!!!!!!!!!!!!!!!!!!!!!!!!!!!!!!!!!!\n",
        "_dict_for_submission = dict()\n",
        "\n",
        "\n",
        "def transform_list(list_of_ints):\n",
        "    return [str(x) for x in list_of_ints]\n",
        "# !!!!!!!!!!!!!!!!!!!!!!!!!!!!!!!!!!!!!!!!!!!!!!!!"
      ],
      "execution_count": null,
      "outputs": []
    },
    {
      "cell_type": "markdown",
      "metadata": {
        "id": "qZX1Urv425ov"
      },
      "source": [
        "### Часть 1. Небольшой numpy-разогрев. (10%)"
      ]
    },
    {
      "cell_type": "code",
      "metadata": {
        "id": "ABwrGwvF25ow"
      },
      "source": [
        "import numpy as np\n",
        "import pandas as pd"
      ],
      "execution_count": null,
      "outputs": []
    },
    {
      "cell_type": "code",
      "metadata": {
        "id": "GYgIRlqf25o0"
      },
      "source": [
        "# Создайте матрицу A размерами 10 на 10 из упорядоченных целых чисел от 0 до 100\n",
        "# hint: np.arange(100).reshape((10, 10))\n",
        "\n",
        "A = np.arange(100).reshape((10, 10))"
      ],
      "execution_count": null,
      "outputs": []
    },
    {
      "cell_type": "code",
      "metadata": {
        "id": "7aB62Lzk25o2"
      },
      "source": [
        "# Посчитайте средние значения в матрице по столбцам\n",
        "\n",
        "m = A.mean(0)"
      ],
      "execution_count": null,
      "outputs": []
    },
    {
      "cell_type": "code",
      "metadata": {
        "id": "MTLnNqV425o5"
      },
      "source": [
        "# Транспонируйте матрицу A\n",
        "\n",
        "AT = A.transpose()"
      ],
      "execution_count": null,
      "outputs": []
    },
    {
      "cell_type": "code",
      "metadata": {
        "id": "WgDUhrYV25o8"
      },
      "source": [
        "# Перемножьте поэлементно матрицу A и транспонированную матрицу A \n",
        "\n",
        "cumm_prod = AT * A"
      ],
      "execution_count": null,
      "outputs": []
    },
    {
      "cell_type": "code",
      "metadata": {
        "id": "xwgLyFDD25o9"
      },
      "source": [
        "# Посчитайте dot product (результат матричного умножения) матрицы A на саму себя и запишите в матрицу B\n",
        "# https://en.wikipedia.org/wiki/Dot_product\n",
        "\n",
        "B = A @ A"
      ],
      "execution_count": null,
      "outputs": []
    },
    {
      "cell_type": "markdown",
      "metadata": {
        "id": "s8zm9CJbUKyV"
      },
      "source": [
        "#### Не меняйте следующую ячейку. Просто запустите ее."
      ]
    },
    {
      "cell_type": "code",
      "metadata": {
        "id": "c9EWxpSnUKyW"
      },
      "source": [
        "# Do not change me, just run\n",
        "# !!!!!!!!!!!!!!!!!!!!!!!!!!!!!!!!!!!!!!!!!!!!!!!!\n",
        "_dict_for_submission['B'] = transform_list(list(B.flatten()))\n",
        "# !!!!!!!!!!!!!!!!!!!!!!!!!!!!!!!!!!!!!!!!!!!!!!!!"
      ],
      "execution_count": null,
      "outputs": []
    },
    {
      "cell_type": "markdown",
      "metadata": {
        "id": "9S8tqIMG25pb"
      },
      "source": [
        "### Часть 2. Логистическая регрессия и kNN."
      ]
    },
    {
      "cell_type": "markdown",
      "metadata": {
        "id": "T2docs4225pb"
      },
      "source": [
        "Будем работать с подвыборкой из [данных о типе лесного покрытия из репозитория UCI](http://archive.ics.uci.edu/ml/datasets/Covertype). Доступно 7 различных классов. Каждый объект описывается 54 признаками, 40 из которых являются бинарными. Описание данных доступно по ссылке, а так же в файле `covtype.info.txt`."
      ]
    },
    {
      "cell_type": "code",
      "metadata": {
        "id": "PsfsAD2VUKyb"
      },
      "source": [
        "import pandas as pd"
      ],
      "execution_count": null,
      "outputs": []
    },
    {
      "cell_type": "code",
      "metadata": {
        "id": "pqgW-KhSUKyd",
        "colab": {
          "base_uri": "https://localhost:8080/",
          "height": 237
        },
        "outputId": "4aaff5ff-acce-447a-c0ec-cca06eb2baa5"
      },
      "source": [
        "# If on colab, uncomment the following lines\n",
        "\n",
        "!wget https://raw.githubusercontent.com/ml-mipt/ml-mipt/master/homeworks/HW_1_Linclass_kNN/forest_dataset.csv"
      ],
      "execution_count": null,
      "outputs": [
        {
          "output_type": "stream",
          "text": [
            "--2019-09-29 18:02:01--  https://raw.githubusercontent.com/ml-mipt/ml-mipt/master/homeworks/HW_1_Linclass_kNN/forest_dataset.csv\n",
            "Resolving raw.githubusercontent.com (raw.githubusercontent.com)... 151.101.0.133, 151.101.64.133, 151.101.128.133, ...\n",
            "Connecting to raw.githubusercontent.com (raw.githubusercontent.com)|151.101.0.133|:443... connected.\n",
            "HTTP request sent, awaiting response... 200 OK\n",
            "Length: 1293856 (1.2M) [text/plain]\n",
            "Saving to: ‘forest_dataset.csv’\n",
            "\n",
            "\rforest_dataset.csv    0%[                    ]       0  --.-KB/s               \rforest_dataset.csv  100%[===================>]   1.23M  --.-KB/s    in 0.05s   \n",
            "\n",
            "2019-09-29 18:02:01 (27.0 MB/s) - ‘forest_dataset.csv’ saved [1293856/1293856]\n",
            "\n"
          ],
          "name": "stdout"
        }
      ]
    },
    {
      "cell_type": "code",
      "metadata": {
        "id": "rvPrVRvK25pc"
      },
      "source": [
        "all_data = pd.read_csv('forest_dataset.csv')"
      ],
      "execution_count": null,
      "outputs": []
    },
    {
      "cell_type": "markdown",
      "metadata": {
        "id": "DrX0W5si25pe"
      },
      "source": [
        "Выделим 20% данных в `delayed_data` в качестве выборки, на которой будет производиться финальное сравнение моделей (до конца ноутбука она более не используется), в `all_data` поместим оставшиеся 80%. Не будем перемешивать данные сознательно (для удобства проверки)."
      ]
    },
    {
      "cell_type": "code",
      "metadata": {
        "id": "Deu3A-yc25pf"
      },
      "source": [
        "delayed_data = all_data[int(0.8 * len(all_data)):]\n",
        "all_data = all_data[:int(0.8 * len(all_data))]"
      ],
      "execution_count": null,
      "outputs": []
    },
    {
      "cell_type": "markdown",
      "metadata": {
        "id": "itCWxHEY25pg"
      },
      "source": [
        "Выделим значения метки класса в переменную `labels`, признаковые описания в переменную `feature_matrix`. Так как данные числовые и не имеют пропусков, переведем их в `numpy`-формат с помощью метода `.values`."
      ]
    },
    {
      "cell_type": "code",
      "metadata": {
        "id": "f_YIUOuV25ph"
      },
      "source": [
        "labels = all_data[all_data.columns[-1]].values\n",
        "feature_matrix = all_data[all_data.columns[:-1]].values\n",
        "\n",
        "delayed_labels = delayed_data[delayed_data.columns[-1]].values\n",
        "delayed_feature_matrix = delayed_data[delayed_data.columns[:-1]].values"
      ],
      "execution_count": null,
      "outputs": []
    },
    {
      "cell_type": "markdown",
      "metadata": {
        "id": "dKCiU0wz25pj"
      },
      "source": [
        "#### 2.1 Двуклассовая классификация (10%)"
      ]
    },
    {
      "cell_type": "markdown",
      "metadata": {
        "id": "LYDttiOJ25pj"
      },
      "source": [
        "Для начала будем работать только с двумя типами лесного покрытия. Обучите линейный классификатор для разделения двух классов. Данные разделите на train и test с помощью `train_test_split`."
      ]
    },
    {
      "cell_type": "code",
      "metadata": {
        "id": "Q030jzyY25pl"
      },
      "source": [
        "from sklearn.model_selection import train_test_split\n",
        "\n",
        "from sklearn.linear_model import LogisticRegression\n",
        "from sklearn.metrics import f1_score, accuracy_score"
      ],
      "execution_count": null,
      "outputs": []
    },
    {
      "cell_type": "code",
      "metadata": {
        "id": "jTf264Qcpigf"
      },
      "source": [
        "from sklearn.preprocessing import StandardScaler"
      ],
      "execution_count": null,
      "outputs": []
    },
    {
      "cell_type": "code",
      "metadata": {
        "id": "taWX6ME925pn"
      },
      "source": [
        "two_class_labels_indices = (labels == 1) + (labels == 2)\n",
        "\n",
        "two_class_feature_matrix = feature_matrix[two_class_labels_indices]\n",
        "two_class_labels = labels[two_class_labels_indices]"
      ],
      "execution_count": null,
      "outputs": []
    },
    {
      "cell_type": "code",
      "metadata": {
        "id": "zoQPXD_k25po"
      },
      "source": [
        "train_feature_matrix, test_feature_matrix, train_labels, test_labels = train_test_split(two_class_feature_matrix, two_class_labels, test_size=0.2, random_state=42)"
      ],
      "execution_count": null,
      "outputs": []
    },
    {
      "cell_type": "code",
      "metadata": {
        "id": "Cv6gLsnJrA8R"
      },
      "source": [
        "two_class_std_scal = StandardScaler()\n",
        "train_feature_matrix = two_class_std_scal.fit_transform(train_feature_matrix)\n",
        "test_feature_matrix = two_class_std_scal.transform(test_feature_matrix)"
      ],
      "execution_count": null,
      "outputs": []
    },
    {
      "cell_type": "markdown",
      "metadata": {
        "id": "A8iDa9Je25pq"
      },
      "source": [
        "Обучите логистическую регрессию. Оцените качество классификации на отложенной выборке с помощью `accuracy` и `f1_score` ([Wikipedia](https://en.wikipedia.org/wiki/F1_score))."
      ]
    },
    {
      "cell_type": "code",
      "metadata": {
        "id": "9CKtjwv_25pr"
      },
      "source": [
        "lr_clf = LogisticRegression(penalty='l1', random_state=42, max_iter=5000, verbose=1, n_jobs=-1, solver='saga')"
      ],
      "execution_count": null,
      "outputs": []
    },
    {
      "cell_type": "code",
      "metadata": {
        "id": "VF2CeR7W25pt",
        "colab": {
          "base_uri": "https://localhost:8080/",
          "height": 145
        },
        "outputId": "03de7722-2a5c-4e85-b16b-7df4b0e69a09"
      },
      "source": [
        "lr_clf.fit(train_feature_matrix, train_labels)"
      ],
      "execution_count": null,
      "outputs": [
        {
          "output_type": "stream",
          "text": [
            "[Parallel(n_jobs=-1)]: Using backend ThreadingBackend with 2 concurrent workers.\n"
          ],
          "name": "stderr"
        },
        {
          "output_type": "stream",
          "text": [
            "convergence after 495 epochs took 3 seconds\n"
          ],
          "name": "stdout"
        },
        {
          "output_type": "stream",
          "text": [
            "[Parallel(n_jobs=-1)]: Done   1 out of   1 | elapsed:    2.5s finished\n"
          ],
          "name": "stderr"
        },
        {
          "output_type": "execute_result",
          "data": {
            "text/plain": [
              "LogisticRegression(C=1.0, class_weight=None, dual=False, fit_intercept=True,\n",
              "                   intercept_scaling=1, l1_ratio=None, max_iter=5000,\n",
              "                   multi_class='warn', n_jobs=-1, penalty='l1', random_state=42,\n",
              "                   solver='saga', tol=0.0001, verbose=1, warm_start=False)"
            ]
          },
          "metadata": {
            "tags": []
          },
          "execution_count": 76
        }
      ]
    },
    {
      "cell_type": "code",
      "metadata": {
        "id": "XeQSM6v8b1eI"
      },
      "source": [
        "pred_test_labels = lr_clf.predict(test_feature_matrix)"
      ],
      "execution_count": null,
      "outputs": []
    },
    {
      "cell_type": "code",
      "metadata": {
        "id": "qHRC8jDiciyL"
      },
      "source": [
        "#f1_score(train_labels, lr_clf.predict(train_feature_matrix))"
      ],
      "execution_count": null,
      "outputs": []
    },
    {
      "cell_type": "code",
      "metadata": {
        "id": "5katd3zAcILv",
        "colab": {
          "base_uri": "https://localhost:8080/",
          "height": 54
        },
        "outputId": "e11a27b1-b422-489c-e959-62f37d045d7b"
      },
      "source": [
        "print(f'f1: {f1_score(test_labels, pred_test_labels)}')\n",
        "print(f'accuracy: {accuracy_score(test_labels, pred_test_labels)}')"
      ],
      "execution_count": null,
      "outputs": [
        {
          "output_type": "stream",
          "text": [
            "f1: 0.726039016115352\n",
            "accuracy: 0.7645772594752187\n"
          ],
          "name": "stdout"
        }
      ]
    },
    {
      "cell_type": "markdown",
      "metadata": {
        "id": "9MKHZ2JC25pv"
      },
      "source": [
        "#### 2.2 Многоклассовая классификация: логистическая регрессия (40%)"
      ]
    },
    {
      "cell_type": "markdown",
      "metadata": {
        "id": "P1mWe4kJ25pv"
      },
      "source": [
        "**Комментарий:**\n",
        "\n",
        "*Логистическая регрессия позволяет решать и задачу многоклассовой классификации. Класс ``LogisticRegression`` позвляет это делать двумя способами:* \n",
        "- *1. Стандартный One vs Rest (т.е. каждый класс отделяется от всех других). Параметр `multi_class='ovr'`.*\n",
        "- *2. Используюя кросс-энтропию (оценивается сразу вектор вероятностей принадлежности классам). Параметр `multi_class='multinomial'`.*\n",
        "\n",
        "*По умолчанию будем использовать второй способ.*\n"
      ]
    },
    {
      "cell_type": "markdown",
      "metadata": {
        "id": "BGn7U05I25pw"
      },
      "source": [
        "Теперь будем работать со всеми 7 типами покрытия (данные уже находятся в переменных `feature_matrix` и `labels`, если Вы их не переопределили). Разделите выборку на обучающую и тестовую с помощью метода `train_test_split`, используйте значения параметров `test_size=0.2`, `random_state=42`. Обучите логистическую регрессию  на данном датасете."
      ]
    },
    {
      "cell_type": "code",
      "metadata": {
        "id": "xqzEKcdD25px",
        "colab": {
          "base_uri": "https://localhost:8080/",
          "height": 346
        },
        "outputId": "47656ed8-eed5-4371-dd6d-3236081a2f89"
      },
      "source": [
        "lr_clf = make_pipeline(StandardScaler(), LogisticRegression(multi_class='multinomial', random_state=42, max_iter=1000, verbose=1, n_jobs=-1, solver='saga', penalty='l1'))\n",
        "\n",
        "train_feature_matrix, test_feature_matrix, train_labels, test_labels = train_test_split(feature_matrix, labels, test_size=0.2, random_state=42)\n",
        "\n",
        "#std_scal = StandardScaler()\n",
        "#train_feature_matrix = std_scal.fit_transform(train_feature_matrix)\n",
        "#test_feature_matrix = std_scal.transform(test_feature_matrix)\n",
        "\n",
        "lr_clf.fit(train_feature_matrix, train_labels)"
      ],
      "execution_count": null,
      "outputs": [
        {
          "output_type": "stream",
          "text": [
            "[Parallel(n_jobs=-1)]: Using backend ThreadingBackend with 2 concurrent workers.\n"
          ],
          "name": "stderr"
        },
        {
          "output_type": "stream",
          "text": [
            "max_iter reached after 24 seconds\n"
          ],
          "name": "stdout"
        },
        {
          "output_type": "stream",
          "text": [
            "/usr/local/lib/python3.6/dist-packages/sklearn/linear_model/sag.py:337: ConvergenceWarning: The max_iter was reached which means the coef_ did not converge\n",
            "  \"the coef_ did not converge\", ConvergenceWarning)\n",
            "[Parallel(n_jobs=-1)]: Done   1 out of   1 | elapsed:   23.3s finished\n"
          ],
          "name": "stderr"
        },
        {
          "output_type": "execute_result",
          "data": {
            "text/plain": [
              "Pipeline(memory=None,\n",
              "         steps=[('standardscaler',\n",
              "                 StandardScaler(copy=True, with_mean=True, with_std=True)),\n",
              "                ('logisticregression',\n",
              "                 LogisticRegression(C=1.0, class_weight=None, dual=False,\n",
              "                                    fit_intercept=True, intercept_scaling=1,\n",
              "                                    l1_ratio=None, max_iter=1000,\n",
              "                                    multi_class='multinomial', n_jobs=-1,\n",
              "                                    penalty='l1', random_state=42,\n",
              "                                    solver='saga', tol=0.0001, verbose=1,\n",
              "                                    warm_start=False))],\n",
              "         verbose=False)"
            ]
          },
          "metadata": {
            "tags": []
          },
          "execution_count": 30
        }
      ]
    },
    {
      "cell_type": "code",
      "metadata": {
        "id": "xwx7Hw8ZeRcL",
        "colab": {
          "base_uri": "https://localhost:8080/",
          "height": 110
        },
        "outputId": "d0ed4f8f-241c-4b5f-9ff2-b88b3c4e1d98"
      },
      "source": [
        "print(f1_score(test_labels, lr_clf.predict(test_feature_matrix), average='macro'))\n",
        "print(f1_score(test_labels, lr_clf.predict(test_feature_matrix), average='micro'))"
      ],
      "execution_count": null,
      "outputs": [
        {
          "output_type": "stream",
          "text": [
            "0.4997301401794302\n",
            "0.72125\n"
          ],
          "name": "stdout"
        },
        {
          "output_type": "stream",
          "text": [
            "/usr/local/lib/python3.6/dist-packages/sklearn/metrics/classification.py:1437: UndefinedMetricWarning: F-score is ill-defined and being set to 0.0 in labels with no predicted samples.\n",
            "  'precision', 'predicted', average, warn_for)\n"
          ],
          "name": "stderr"
        }
      ]
    },
    {
      "cell_type": "markdown",
      "metadata": {
        "id": "5QqTntPq25p0"
      },
      "source": [
        "С помощью 5-кратной кросс-валидации (`GridSearchCV`) подберите оптимальное значение параметров `С` и `penalty`. Для параметра `C` используйте набор значений `np.linspace(0.01, 1, 10)`, а для `penalty` - `['l1', 'l2']`. Критерий качества `scoring = 'accuracy'`."
      ]
    },
    {
      "cell_type": "code",
      "metadata": {
        "id": "IRD6m_kNWPBc"
      },
      "source": [
        "from sklearn.model_selection import GridSearchCV"
      ],
      "execution_count": null,
      "outputs": []
    },
    {
      "cell_type": "code",
      "metadata": {
        "id": "JDgccIAwtea3"
      },
      "source": [
        "from sklearn.pipeline import make_pipeline"
      ],
      "execution_count": null,
      "outputs": []
    },
    {
      "cell_type": "code",
      "metadata": {
        "id": "j-M-porJ25p0",
        "colab": {
          "base_uri": "https://localhost:8080/",
          "height": 710
        },
        "outputId": "014027f0-90dc-4ac1-9baa-f75dd1e26b34"
      },
      "source": [
        "lr_clf = make_pipeline(StandardScaler(), LogisticRegression(multi_class='multinomial', random_state=42, max_iter=100, verbose=1, n_jobs=-1, solver='saga'))\n",
        "\n",
        "clf = GridSearchCV(cv=5,\n",
        "       estimator=lr_clf,\n",
        "       n_jobs=-1,\n",
        "       param_grid={'logisticregression__penalty':['l1', 'l2'], 'logisticregression__C':np.linspace(0.01, 1, 10)},\n",
        "       scoring='accuracy',\n",
        "       verbose=1)\n",
        "\n",
        "clf.fit(train_feature_matrix, train_labels)"
      ],
      "execution_count": null,
      "outputs": [
        {
          "output_type": "stream",
          "text": [
            "Fitting 5 folds for each of 20 candidates, totalling 100 fits\n"
          ],
          "name": "stdout"
        },
        {
          "output_type": "stream",
          "text": [
            "[Parallel(n_jobs=-1)]: Using backend LokyBackend with 2 concurrent workers.\n",
            "[Parallel(n_jobs=-1)]: Done  46 tasks      | elapsed:  1.1min\n",
            "[Parallel(n_jobs=-1)]: Done 100 out of 100 | elapsed:  2.4min finished\n",
            "[Parallel(n_jobs=-1)]: Using backend ThreadingBackend with 2 concurrent workers.\n"
          ],
          "name": "stderr"
        },
        {
          "output_type": "stream",
          "text": [
            "max_iter reached after 3 seconds\n"
          ],
          "name": "stdout"
        },
        {
          "output_type": "stream",
          "text": [
            "/usr/local/lib/python3.6/dist-packages/sklearn/linear_model/sag.py:337: ConvergenceWarning: The max_iter was reached which means the coef_ did not converge\n",
            "  \"the coef_ did not converge\", ConvergenceWarning)\n",
            "[Parallel(n_jobs=-1)]: Done   1 out of   1 | elapsed:    2.3s finished\n"
          ],
          "name": "stderr"
        },
        {
          "output_type": "execute_result",
          "data": {
            "text/plain": [
              "GridSearchCV(cv=5, error_score='raise-deprecating',\n",
              "             estimator=Pipeline(memory=None,\n",
              "                                steps=[('standardscaler',\n",
              "                                        StandardScaler(copy=True,\n",
              "                                                       with_mean=True,\n",
              "                                                       with_std=True)),\n",
              "                                       ('logisticregression',\n",
              "                                        LogisticRegression(C=1.0,\n",
              "                                                           class_weight=None,\n",
              "                                                           dual=False,\n",
              "                                                           fit_intercept=True,\n",
              "                                                           intercept_scaling=1,\n",
              "                                                           l1_ratio=None,\n",
              "                                                           max_iter=100,\n",
              "                                                           multi_class='multinomial',\n",
              "                                                           n_jobs=-1,\n",
              "                                                           penalty='l2',\n",
              "                                                           random_state=42,\n",
              "                                                           solver='saga',\n",
              "                                                           tol=0.0001,\n",
              "                                                           verbose=1,\n",
              "                                                           warm_start=False))],\n",
              "                                verbose=False),\n",
              "             iid='warn', n_jobs=-1,\n",
              "             param_grid={'logisticregression__C': array([0.01, 0.12, 0.23, 0.34, 0.45, 0.56, 0.67, 0.78, 0.89, 1.  ]),\n",
              "                         'logisticregression__penalty': ['l1', 'l2']},\n",
              "             pre_dispatch='2*n_jobs', refit=True, return_train_score=False,\n",
              "             scoring='accuracy', verbose=1)"
            ]
          },
          "metadata": {
            "tags": []
          },
          "execution_count": 87
        }
      ]
    },
    {
      "cell_type": "markdown",
      "metadata": {
        "id": "rzsRzpiv25p2"
      },
      "source": [
        "Постройте графики средних значений критерия качества `accuracy` для типов регуляризации `l1` и `l2` в зависимости от коэффициента регуляризации `C`."
      ]
    },
    {
      "cell_type": "code",
      "metadata": {
        "id": "nYOrtHpy25p3"
      },
      "source": [
        "from matplotlib import pyplot as plt\n",
        "\n",
        "results = clf.cv_results_\n",
        "c_dict = {}\n",
        "for i, param in enumerate(results['params']):\n",
        "  c = param['logisticregression__C']\n",
        "  if c not in c_dict.keys():\n",
        "    c_dict[c] = {}\n",
        "  scores = [results['split'+str(j)+'_test_score'][i] for j in range(clf.n_splits_)]\n",
        "  c_dict[c][param['logisticregression__penalty']] = (np.mean(scores), np.std(scores))"
      ],
      "execution_count": null,
      "outputs": []
    },
    {
      "cell_type": "code",
      "metadata": {
        "id": "klxPay5OnPY_",
        "colab": {
          "base_uri": "https://localhost:8080/",
          "height": 295
        },
        "outputId": "22e667c6-7b7b-4b11-d331-908def91e724"
      },
      "source": [
        "fig = plt.figure()\n",
        "\n",
        "plt.plot(list(c_dict.keys()), [value['l1'][0] for key, value in c_dict.items()], label='l1')\n",
        "plt.fill_between(list(c_dict.keys()), [value['l1'][0]-value['l1'][1] for key, value in c_dict.items()],  [value['l1'][0]+value['l1'][1] for key, value in c_dict.items()], alpha=0.2)\n",
        "plt.plot(list(c_dict.keys()), [value['l2'][0] for key, value in c_dict.items()], label='l2')\n",
        "plt.fill_between(list(c_dict.keys()), [value['l2'][0]-value['l2'][1] for key, value in c_dict.items()],  [value['l2'][0]+value['l2'][1] for key, value in c_dict.items()], alpha=0.2)\n",
        "\n",
        "plt.xlabel('C')\n",
        "plt.xticks(list(c_dict.keys()))\n",
        "plt.ylabel('score')\n",
        "\n",
        "plt.title(\"avg accuracy\")\n",
        "\n",
        "plt.legend()\n",
        "\n",
        "plt.show()"
      ],
      "execution_count": null,
      "outputs": [
        {
          "output_type": "display_data",
          "data": {
            "image/png": "[encoded data removed]",
            "text/plain": [
              "<Figure size 432x288 with 1 Axes>"
            ]
          },
          "metadata": {
            "tags": []
          }
        }
      ]
    },
    {
      "cell_type": "markdown",
      "metadata": {
        "id": "IQraNf0M25p5"
      },
      "source": [
        "Проанализируйте полученные графики. Чему равны найденные оптимальные значения параметров `C` и `penalty`?"
      ]
    },
    {
      "cell_type": "code",
      "metadata": {
        "id": "BkT1RWJj25p7",
        "colab": {
          "base_uri": "https://localhost:8080/",
          "height": 54
        },
        "outputId": "077a01ae-7601-4578-afe2-755ecdb8fc98"
      },
      "source": [
        "best_c = None\n",
        "best_penalty = None\n",
        "best_score = 0\n",
        "for c, res in c_dict.items():\n",
        "  for penalty, score in res.items():\n",
        "    if score[0] > best_score:\n",
        "      best_score = score[0]\n",
        "      best_c = c\n",
        "      best_penalty = penalty\n",
        "print(best_c, best_penalty)\n",
        "\n",
        "# alternative way\n",
        "best_param = clf.best_params_\n",
        "print(best_param['logisticregression__C'], best_param['logisticregression__penalty'])"
      ],
      "execution_count": null,
      "outputs": [
        {
          "output_type": "stream",
          "text": [
            "0.34 l1\n",
            "0.34 l1\n"
          ],
          "name": "stdout"
        }
      ]
    },
    {
      "cell_type": "markdown",
      "metadata": {
        "id": "uIX7uVYk25p9"
      },
      "source": [
        "Используя найденные оптимальные значения `C` и `penalty`, обучите логистическую регрессию на обучающей выборке (train) и вычислите вероятности принадлежности к классам для тестовой (test)  выборки (`best_lr_clf.predict_proba`)."
      ]
    },
    {
      "cell_type": "code",
      "metadata": {
        "id": "1rDNazlC25p9",
        "colab": {
          "base_uri": "https://localhost:8080/",
          "height": 290
        },
        "outputId": "9d85e4dc-b240-43a1-f627-de2d6766a16c"
      },
      "source": [
        "best_lr_clf = make_pipeline(StandardScaler(), LogisticRegression(multi_class='multinomial', random_state=42, max_iter=5200, verbose=1, n_jobs=-1, solver='saga', penalty='l1', C=0.34))\n",
        "best_lr_clf.fit(train_feature_matrix, train_labels)"
      ],
      "execution_count": null,
      "outputs": [
        {
          "output_type": "stream",
          "text": [
            "[Parallel(n_jobs=-1)]: Using backend ThreadingBackend with 2 concurrent workers.\n"
          ],
          "name": "stderr"
        },
        {
          "output_type": "stream",
          "text": [
            "convergence after 1837 epochs took 42 seconds\n"
          ],
          "name": "stdout"
        },
        {
          "output_type": "stream",
          "text": [
            "[Parallel(n_jobs=-1)]: Done   1 out of   1 | elapsed:   41.6s finished\n"
          ],
          "name": "stderr"
        },
        {
          "output_type": "execute_result",
          "data": {
            "text/plain": [
              "Pipeline(memory=None,\n",
              "         steps=[('standardscaler',\n",
              "                 StandardScaler(copy=True, with_mean=True, with_std=True)),\n",
              "                ('logisticregression',\n",
              "                 LogisticRegression(C=0.34, class_weight=None, dual=False,\n",
              "                                    fit_intercept=True, intercept_scaling=1,\n",
              "                                    l1_ratio=None, max_iter=5200,\n",
              "                                    multi_class='multinomial', n_jobs=-1,\n",
              "                                    penalty='l1', random_state=42,\n",
              "                                    solver='saga', tol=0.0001, verbose=1,\n",
              "                                    warm_start=False))],\n",
              "         verbose=False)"
            ]
          },
          "metadata": {
            "tags": []
          },
          "execution_count": 32
        }
      ]
    },
    {
      "cell_type": "markdown",
      "metadata": {
        "id": "Ck7T2dGQ25p_"
      },
      "source": [
        "Для полученной матрицы вычислите усредненные по всем объектам из тестовой выборки значения вероятностей принадлежности к классам. Сравните ее оценкой вероятности принадлежности к классу на основе частот меток классов в обучающей выборке."
      ]
    },
    {
      "cell_type": "code",
      "metadata": {
        "id": "JOf0BNix25qA"
      },
      "source": [
        "from collections import Counter\n",
        "import numpy as np\n",
        "avg_prob = np.mean([x[y-1] for x, y in zip(best_lr_clf.predict_proba(test_feature_matrix), test_labels)])\n",
        "\n",
        "rand_prob = np.mean(np.array(list(Counter(test_labels).values())) / test_labels.shape[0])"
      ],
      "execution_count": null,
      "outputs": []
    },
    {
      "cell_type": "code",
      "metadata": {
        "id": "onr3M3bTtIFY",
        "colab": {
          "base_uri": "https://localhost:8080/",
          "height": 35
        },
        "outputId": "128b3b55-a9b5-4163-9e21-e78dbae4e92f"
      },
      "source": [
        "avg_prob, rand_prob"
      ],
      "execution_count": null,
      "outputs": [
        {
          "output_type": "execute_result",
          "data": {
            "text/plain": [
              "(0.6111111840031009, 0.14285714285714285)"
            ]
          },
          "metadata": {
            "tags": []
          },
          "execution_count": 34
        }
      ]
    },
    {
      "cell_type": "markdown",
      "metadata": {
        "id": "VYogShkD25qD"
      },
      "source": [
        "#### 2.3 Многоклассовая классификация: kNN (30%)."
      ]
    },
    {
      "cell_type": "markdown",
      "metadata": {
        "id": "BHVNCaJ325qD"
      },
      "source": [
        "Вспомним первое занятие. Обучите на том же датасете `KNeighborsClassifier` из `sklearn`."
      ]
    },
    {
      "cell_type": "code",
      "metadata": {
        "id": "o4CMnnOY25qD",
        "colab": {
          "base_uri": "https://localhost:8080/",
          "height": 72
        },
        "outputId": "b3ea4b42-ff84-4138-fccd-0c64786aa031"
      },
      "source": [
        "from sklearn.neighbors import KNeighborsClassifier\n",
        "from sklearn.preprocessing import StandardScaler\n",
        "\n",
        "knn_clf = KNeighborsClassifier(n_neighbors=1, weights='distance', algorithm='auto', p=1, metric='minkowski', metric_params=None, n_jobs=-1)\n",
        "\n",
        "#scaler = StandardScaler()\n",
        "#X_train_scaled = scaler.fit_transform(train_feature_matrix)\n",
        "knn_clf.fit(train_feature_matrix, train_labels)"
      ],
      "execution_count": null,
      "outputs": [
        {
          "output_type": "execute_result",
          "data": {
            "text/plain": [
              "KNeighborsClassifier(algorithm='auto', leaf_size=30, metric='minkowski',\n",
              "                     metric_params=None, n_jobs=-1, n_neighbors=1, p=1,\n",
              "                     weights='distance')"
            ]
          },
          "metadata": {
            "tags": []
          },
          "execution_count": 39
        }
      ]
    },
    {
      "cell_type": "code",
      "metadata": {
        "id": "EjwzZNGjUgf8",
        "colab": {
          "base_uri": "https://localhost:8080/",
          "height": 35
        },
        "outputId": "db0d7f87-d030-410b-b461-61245d2c770f"
      },
      "source": [
        "#accuracy_score(test_labels, knn_clf.predict(scaler.transform(test_feature_matrix)))\n",
        "print(accuracy_score(test_labels, knn_clf.predict((test_feature_matrix))))"
      ],
      "execution_count": null,
      "outputs": [
        {
          "output_type": "stream",
          "text": [
            "0.7725\n"
          ],
          "name": "stdout"
        }
      ]
    },
    {
      "cell_type": "markdown",
      "metadata": {
        "id": "Yl_foM3u25qF"
      },
      "source": [
        "Попробуйте использовать различные стратегии вычисления весов: `[‘uniform’, ‘distance’]`. Выберите одно из них самостоятельно. Чем обоснован Ваш выбор?"
      ]
    },
    {
      "cell_type": "markdown",
      "metadata": {
        "id": "TBaUayNovb_V"
      },
      "source": [
        "наличие категориальных признаков наталкивает на мысль, что вес точки должен быть пропорционален расстоянию до неё"
      ]
    },
    {
      "cell_type": "markdown",
      "metadata": {
        "id": "8WzoRJZd25qF"
      },
      "source": [
        "Переберите по сетке от `1` до `10` параметр числа соседей. Покажите на графике, как менялись значения критерия качества `accuracy` при изменении числа соседей."
      ]
    },
    {
      "cell_type": "code",
      "metadata": {
        "id": "4lMSy-6f25qG",
        "colab": {
          "base_uri": "https://localhost:8080/",
          "height": 726
        },
        "outputId": "0877608e-745a-41e2-f934-83b5bfe7209f"
      },
      "source": [
        "from sklearn.model_selection import LeavePOut\n",
        "import random\n",
        "\n",
        "clf = GridSearchCV(cv=LeavePOut(p=1),\n",
        "       estimator=knn_clf,\n",
        "       n_jobs=-1,\n",
        "       param_grid={'n_neighbors':list(range(1,11)), 'weights':['distance']},\n",
        "       scoring='accuracy',\n",
        "       verbose=1)\n",
        "\n",
        "rand_subset = random.sample(list(range(train_feature_matrix.shape[0])), train_feature_matrix.shape[0])\n",
        "clf.fit(train_feature_matrix[rand_subset], train_labels[rand_subset])"
      ],
      "execution_count": null,
      "outputs": [
        {
          "output_type": "stream",
          "text": [
            "Fitting 6400 folds for each of 10 candidates, totalling 64000 fits\n"
          ],
          "name": "stdout"
        },
        {
          "output_type": "stream",
          "text": [
            "[Parallel(n_jobs=-1)]: Using backend LokyBackend with 2 concurrent workers.\n",
            "[Parallel(n_jobs=-1)]: Done  88 tasks      | elapsed:    5.4s\n",
            "[Parallel(n_jobs=-1)]: Done 388 tasks      | elapsed:   24.0s\n",
            "[Parallel(n_jobs=-1)]: Done 888 tasks      | elapsed:   54.9s\n",
            "[Parallel(n_jobs=-1)]: Done 1588 tasks      | elapsed:  1.6min\n",
            "[Parallel(n_jobs=-1)]: Done 2488 tasks      | elapsed:  2.6min\n",
            "[Parallel(n_jobs=-1)]: Done 3588 tasks      | elapsed:  3.7min\n",
            "[Parallel(n_jobs=-1)]: Done 4888 tasks      | elapsed:  5.0min\n",
            "[Parallel(n_jobs=-1)]: Done 6388 tasks      | elapsed:  6.6min\n",
            "[Parallel(n_jobs=-1)]: Done 8088 tasks      | elapsed:  8.3min\n",
            "[Parallel(n_jobs=-1)]: Done 9988 tasks      | elapsed: 10.3min\n",
            "[Parallel(n_jobs=-1)]: Done 12088 tasks      | elapsed: 12.5min\n",
            "[Parallel(n_jobs=-1)]: Done 14388 tasks      | elapsed: 14.8min\n",
            "[Parallel(n_jobs=-1)]: Done 16888 tasks      | elapsed: 17.4min\n",
            "[Parallel(n_jobs=-1)]: Done 19588 tasks      | elapsed: 20.2min\n",
            "[Parallel(n_jobs=-1)]: Done 22488 tasks      | elapsed: 23.2min\n",
            "[Parallel(n_jobs=-1)]: Done 25588 tasks      | elapsed: 26.4min\n",
            "[Parallel(n_jobs=-1)]: Done 28888 tasks      | elapsed: 29.7min\n",
            "[Parallel(n_jobs=-1)]: Done 32388 tasks      | elapsed: 33.3min\n",
            "[Parallel(n_jobs=-1)]: Done 36088 tasks      | elapsed: 37.1min\n",
            "[Parallel(n_jobs=-1)]: Done 39988 tasks      | elapsed: 41.1min\n",
            "[Parallel(n_jobs=-1)]: Done 44088 tasks      | elapsed: 45.3min\n",
            "[Parallel(n_jobs=-1)]: Done 48388 tasks      | elapsed: 49.7min\n",
            "[Parallel(n_jobs=-1)]: Done 52888 tasks      | elapsed: 54.3min\n",
            "[Parallel(n_jobs=-1)]: Done 57588 tasks      | elapsed: 59.2min\n",
            "[Parallel(n_jobs=-1)]: Done 62488 tasks      | elapsed: 64.2min\n",
            "[Parallel(n_jobs=-1)]: Done 64000 out of 64000 | elapsed: 65.8min finished\n"
          ],
          "name": "stderr"
        },
        {
          "output_type": "execute_result",
          "data": {
            "text/plain": [
              "GridSearchCV(cv=LeavePOut(p=1), error_score='raise-deprecating',\n",
              "             estimator=KNeighborsClassifier(algorithm='auto', leaf_size=30,\n",
              "                                            metric='minkowski',\n",
              "                                            metric_params=None, n_jobs=-1,\n",
              "                                            n_neighbors=1, p=1,\n",
              "                                            weights='distance'),\n",
              "             iid='warn', n_jobs=-1,\n",
              "             param_grid={'n_neighbors': [1, 2, 3, 4, 5, 6, 7, 8, 9, 10],\n",
              "                         'weights': ['distance']},\n",
              "             pre_dispatch='2*n_jobs', refit=True, return_train_score=False,\n",
              "             scoring='accuracy', verbose=1)"
            ]
          },
          "metadata": {
            "tags": []
          },
          "execution_count": 73
        }
      ]
    },
    {
      "cell_type": "code",
      "metadata": {
        "id": "q4pozBQnwGmM"
      },
      "source": [
        "results = clf.cv_results_\n",
        "n_dict = {}\n",
        "for i, param in enumerate(results['params']):\n",
        "  n_param = param['n_neighbors']\n",
        "  scores = [results['split'+str(j)+'_test_score'][i] for j in range(clf.n_splits_)]\n",
        "  n_dict[n_param] = (np.mean(scores), np.std(scores))"
      ],
      "execution_count": null,
      "outputs": []
    },
    {
      "cell_type": "code",
      "metadata": {
        "id": "FXo_eGIRwGmk",
        "colab": {
          "base_uri": "https://localhost:8080/",
          "height": 296
        },
        "outputId": "8809ab62-241f-4cfd-8285-4e59161e23fd"
      },
      "source": [
        "from matplotlib import pyplot as plt\n",
        "fig = plt.figure()\n",
        "\n",
        "plt.plot(list(n_dict.keys()), [value[0] for value in n_dict.values()])\n",
        "plt.fill_between(list(n_dict.keys()), [value[0]+value[1] for value in n_dict.values()], [value[0]-value[1] for value in n_dict.values()], alpha=0.5)\n",
        "\n",
        "plt.xlabel('n_neighbors')\n",
        "plt.xticks(list(n_dict.keys()))\n",
        "plt.ylabel('score')\n",
        "\n",
        "plt.title(\"avg accuracy\")\n",
        "\n",
        "#plt.legend()\n",
        "\n",
        "plt.show()"
      ],
      "execution_count": null,
      "outputs": [
        {
          "output_type": "display_data",
          "data": {
            "image/png": "[encoded data removed]",
            "text/plain": [
              "<Figure size 432x288 with 1 Axes>"
            ]
          },
          "metadata": {
            "tags": []
          }
        }
      ]
    },
    {
      "cell_type": "markdown",
      "metadata": {
        "id": "aBmiDbvV25qI"
      },
      "source": [
        "Используя найденное оптимальное число соседей, вычислите вероятности принадлежности к классам для тестовой выборки (`.predict_proba`)."
      ]
    },
    {
      "cell_type": "code",
      "metadata": {
        "id": "a3lODTIUkSSc",
        "colab": {
          "base_uri": "https://localhost:8080/",
          "height": 35
        },
        "outputId": "32826341-64cf-4a2c-cd0c-6d7666733593"
      },
      "source": [
        "clf.best_params_"
      ],
      "execution_count": null,
      "outputs": [
        {
          "output_type": "execute_result",
          "data": {
            "text/plain": [
              "{'n_neighbors': 4, 'weights': 'distance'}"
            ]
          },
          "metadata": {
            "tags": []
          },
          "execution_count": 76
        }
      ]
    },
    {
      "cell_type": "code",
      "metadata": {
        "id": "C7LtzO8hy4Nr"
      },
      "source": [
        ""
      ],
      "execution_count": null,
      "outputs": []
    },
    {
      "cell_type": "code",
      "metadata": {
        "id": "ig_vS8O925qI"
      },
      "source": [
        "best_n = 4#clf.best_params_['n_neighbors']\n",
        "best_knn_clf = KNeighborsClassifier(n_neighbors=best_n, weights='distance', algorithm='auto', p=1, metric='minkowski', metric_params=None, n_jobs=-1)\n",
        "best_knn_clf.fit(train_feature_matrix, train_labels)\n",
        "\n",
        "avg_prob = np.mean([x[y-1] for x, y in zip(best_knn_clf.predict_proba(test_feature_matrix), test_labels)])"
      ],
      "execution_count": null,
      "outputs": []
    },
    {
      "cell_type": "code",
      "metadata": {
        "id": "r2kBWg7Xzw9G",
        "colab": {
          "base_uri": "https://localhost:8080/",
          "height": 35
        },
        "outputId": "d9ffe8e4-72b8-44a9-a8ec-55e2d29872b9"
      },
      "source": [
        "avg_prob"
      ],
      "execution_count": null,
      "outputs": [
        {
          "output_type": "execute_result",
          "data": {
            "text/plain": [
              "0.693020414174269"
            ]
          },
          "metadata": {
            "tags": []
          },
          "execution_count": 42
        }
      ]
    },
    {
      "cell_type": "markdown",
      "metadata": {
        "id": "TO2xg7mNUKz-"
      },
      "source": [
        "Создайте объект `best_knn_clf`, который представляет собой лучший классификатор."
      ]
    },
    {
      "cell_type": "code",
      "metadata": {
        "id": "SWe-K0rtUKz_",
        "colab": {
          "base_uri": "https://localhost:8080/",
          "height": 72
        },
        "outputId": "2fa748dc-2446-466d-c8fb-1394b9687240"
      },
      "source": [
        "# Hint: для этого достаточно указать стратегию вычисления весов и число соседей в конструкторе\n",
        "\n",
        "best_knn_clf = KNeighborsClassifier(n_neighbors=best_n, weights='distance')\n",
        "best_knn_clf.fit(train_feature_matrix, train_labels)"
      ],
      "execution_count": null,
      "outputs": [
        {
          "output_type": "execute_result",
          "data": {
            "text/plain": [
              "KNeighborsClassifier(algorithm='auto', leaf_size=30, metric='minkowski',\n",
              "                     metric_params=None, n_jobs=None, n_neighbors=4, p=2,\n",
              "                     weights='distance')"
            ]
          },
          "metadata": {
            "tags": []
          },
          "execution_count": 43
        }
      ]
    },
    {
      "cell_type": "markdown",
      "metadata": {
        "id": "p41xvYTU25qK"
      },
      "source": [
        "#### 2.4 Сравнение результатов логистической регрессии и kNN (10%).\n",
        "\n",
        "В реальной жизни новые данные становятся доступны с течением времени. Сравните качество Вашей лучшей модели логистической регресии `best_lr_clf` и лучшего kNN `best_knn_clf` на отложенной выборке `delayed_data`. Какая из моделей показала лучший результат?"
      ]
    },
    {
      "cell_type": "markdown",
      "metadata": {
        "id": "WSVSDiQixDat"
      },
      "source": [
        ""
      ]
    },
    {
      "cell_type": "code",
      "metadata": {
        "id": "xJFKTJx425qL",
        "colab": {
          "base_uri": "https://localhost:8080/",
          "height": 35
        },
        "outputId": "ef8ed808-f463-4e14-90f9-2e496431e57e"
      },
      "source": [
        "best_knn_clf.score(delayed_feature_matrix, delayed_labels)"
      ],
      "execution_count": null,
      "outputs": [
        {
          "output_type": "execute_result",
          "data": {
            "text/plain": [
              "0.7585"
            ]
          },
          "metadata": {
            "tags": []
          },
          "execution_count": 44
        }
      ]
    },
    {
      "cell_type": "code",
      "metadata": {
        "id": "0pdJS2kA0c1s",
        "colab": {
          "base_uri": "https://localhost:8080/",
          "height": 35
        },
        "outputId": "7732e47e-85c4-463a-ac14-89bb663f6a81"
      },
      "source": [
        "best_lr_clf.score(delayed_feature_matrix, delayed_labels)"
      ],
      "execution_count": null,
      "outputs": [
        {
          "output_type": "execute_result",
          "data": {
            "text/plain": [
              "0.724"
            ]
          },
          "metadata": {
            "tags": []
          },
          "execution_count": 45
        }
      ]
    },
    {
      "cell_type": "markdown",
      "metadata": {
        "id": "A2NOxlPaUK0H"
      },
      "source": [
        "#### Не меняйте следующую ячейку. Запустите ее для генерации `submission` файла."
      ]
    },
    {
      "cell_type": "code",
      "metadata": {
        "id": "pQmc_e_WUK0H"
      },
      "source": [
        "# Do not change me, just run\n",
        "# !!!!!!!!!!!!!!!!!!!!!!!!!!!!!!!!!!!!!!!!!!!!!!!!\n",
        "_dict_for_submission['best_lr_clf_delayed'] = transform_list(list(best_lr_clf.predict(delayed_feature_matrix)))\n",
        "_dict_for_submission['best_knn_clf_delayed'] = transform_list(list(best_knn_clf.predict(delayed_feature_matrix)))\n",
        "\n",
        "import json\n",
        "with open('submission_hw1_basic.json', 'w') as iofile:\n",
        "    json.dump(_dict_for_submission, iofile)\n",
        "# !!!!!!!!!!!!!!!!!!!!!!!!!!!!!!!!!!!!!!!!!!!!!!!!"
      ],
      "execution_count": null,
      "outputs": []
    },
    {
      "cell_type": "markdown",
      "metadata": {
        "id": "H3jnWhNAUK0K"
      },
      "source": [
        "Данный файл необходимо будет прикрепить к Google-форме для сдачи домашнего задания. __Для идентификации используется e-mail, который вы указали при регистрации на курс. Проверка производится автоматически. Если вы подпишитесь другим e-mail'ом, задание просто не будет засчитано.__"
      ]
    },
    {
      "cell_type": "markdown",
      "metadata": {
        "id": "4KS9Kt9vUK0K"
      },
      "source": [
        "На этом задание завершено. Мы будем рады, если вы оставите обратную связь по данному заданию [по ссылке](https://forms.gle/2qaf14ky3J6HZfe48). Она анонимна ;)"
      ]
    }
  ]
}