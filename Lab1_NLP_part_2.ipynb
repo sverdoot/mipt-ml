{
  "nbformat": 4,
  "nbformat_minor": 0,
  "metadata": {
    "anaconda-cloud": {},
    "colab": {
      "name": "Lab1_NLP_part_2 (1).ipynb",
      "provenance": [],
      "collapsed_sections": [],
      "machine_shape": "hm"
    },
    "kernelspec": {
      "name": "python3",
      "display_name": "Python 3"
    },
    "language_info": {
      "codemirror_mode": {
        "name": "ipython",
        "version": 3
      },
      "file_extension": ".py",
      "mimetype": "text/x-python",
      "name": "python",
      "nbconvert_exporter": "python",
      "pygments_lexer": "ipython3",
      "version": "3.6.8"
    }
  },
  "cells": [
    {
      "cell_type": "markdown",
      "metadata": {
        "id": "eulvfJWl7ueY"
      },
      "source": [
        "# Lab 1"
      ]
    },
    {
      "cell_type": "markdown",
      "metadata": {
        "id": "BUwNGZlcB7jo"
      },
      "source": [
        "## Part 2: Neural Machine Translation in the wild\n",
        "In the second part of the homework you are supposed to get the best translation you can for the EN-RU translation task.\n",
        "\n",
        "Basic approach using RNNs as encoder and decoder is implemented for you. \n",
        "\n",
        "Your ultimate task is to use the techniques we've covered, e.g.\n",
        "* [Byte Pair Encoding](https://github.com/rsennrich/subword-nmt)\n",
        "\n",
        "* CNN encoder (with or without positional encoding)\n",
        "\n",
        "* attention/self-attention mechanism\n",
        "\n",
        "* pretraining the language model\n",
        "\n",
        "* or just fine-tunning BERT)\n",
        "\n",
        "to improve the translation quality. \n",
        "\n",
        "__Please use at least three different approaches/models and compare them (translation quality/complexity/training and evaluation time).__\n",
        "Write down some summary on your experiments and illustrate it with convergence plots/metrics and your thoughts. Just like you would approach a real problem."
      ]
    },
    {
      "cell_type": "code",
      "metadata": {
        "id": "oaJus0FQB7jp"
      },
      "source": [
        "%load_ext autoreload\n",
        "%autoreload 2"
      ],
      "execution_count": null,
      "outputs": []
    },
    {
      "cell_type": "code",
      "metadata": {
        "id": "DGhpCGgQB7jv",
        "colab": {
          "base_uri": "https://localhost:8080/",
          "height": 505
        },
        "outputId": "ee2f39ac-0d71-49a0-f136-1a95e15a6e61"
      },
      "source": [
        "! pip  install subword-nmt\n",
        "! pip install nltk\n",
        "! pip install torchtext\n",
        "! wget https://raw.githubusercontent.com/ml-mipt/ml-mipt/advanced/homeworks/Lab1_NLP/data.txt\n",
        "\n",
        "# Thanks to YSDA NLP course team for the data\n",
        "# (who thanks tilda and deephack teams for the data in their turn)"
      ],
      "execution_count": null,
      "outputs": [
        {
          "output_type": "stream",
          "text": [
            "Collecting subword-nmt\n",
            "  Downloading https://files.pythonhosted.org/packages/74/60/6600a7bc09e7ab38bc53a48a20d8cae49b837f93f5842a41fe513a694912/subword_nmt-0.3.7-py2.py3-none-any.whl\n",
            "Installing collected packages: subword-nmt\n",
            "Successfully installed subword-nmt-0.3.7\n",
            "Requirement already satisfied: nltk in /usr/local/lib/python3.6/dist-packages (3.2.5)\n",
            "Requirement already satisfied: six in /usr/local/lib/python3.6/dist-packages (from nltk) (1.12.0)\n",
            "Requirement already satisfied: torchtext in /usr/local/lib/python3.6/dist-packages (0.3.1)\n",
            "Requirement already satisfied: tqdm in /usr/local/lib/python3.6/dist-packages (from torchtext) (4.38.0)\n",
            "Requirement already satisfied: requests in /usr/local/lib/python3.6/dist-packages (from torchtext) (2.21.0)\n",
            "Requirement already satisfied: numpy in /usr/local/lib/python3.6/dist-packages (from torchtext) (1.18.2)\n",
            "Requirement already satisfied: torch in /usr/local/lib/python3.6/dist-packages (from torchtext) (1.4.0)\n",
            "Requirement already satisfied: certifi>=2017.4.17 in /usr/local/lib/python3.6/dist-packages (from requests->torchtext) (2019.11.28)\n",
            "Requirement already satisfied: urllib3<1.25,>=1.21.1 in /usr/local/lib/python3.6/dist-packages (from requests->torchtext) (1.24.3)\n",
            "Requirement already satisfied: chardet<3.1.0,>=3.0.2 in /usr/local/lib/python3.6/dist-packages (from requests->torchtext) (3.0.4)\n",
            "Requirement already satisfied: idna<2.9,>=2.5 in /usr/local/lib/python3.6/dist-packages (from requests->torchtext) (2.8)\n",
            "--2020-04-05 06:39:57--  https://raw.githubusercontent.com/ml-mipt/ml-mipt/advanced/homeworks/Lab1_NLP/data.txt\n",
            "Resolving raw.githubusercontent.com (raw.githubusercontent.com)... 151.101.0.133, 151.101.64.133, 151.101.128.133, ...\n",
            "Connecting to raw.githubusercontent.com (raw.githubusercontent.com)|151.101.0.133|:443... connected.\n",
            "HTTP request sent, awaiting response... 200 OK\n",
            "Length: 12905334 (12M) [text/plain]\n",
            "Saving to: ‘data.txt’\n",
            "\n",
            "data.txt            100%[===================>]  12.31M  39.0MB/s    in 0.3s    \n",
            "\n",
            "2020-04-05 06:39:57 (39.0 MB/s) - ‘data.txt’ saved [12905334/12905334]\n",
            "\n"
          ],
          "name": "stdout"
        }
      ]
    },
    {
      "cell_type": "code",
      "metadata": {
        "id": "VL-azDy8B7jz"
      },
      "source": [
        "import torch\n",
        "import torch.nn as nn\n",
        "import torch.optim as optim\n",
        "\n",
        "import torchtext\n",
        "from torchtext.datasets import TranslationDataset, Multi30k\n",
        "from torchtext.data import Field, BucketIterator\n",
        "\n",
        "import spacy\n",
        "\n",
        "import random\n",
        "import math\n",
        "import time\n",
        "\n",
        "import matplotlib\n",
        "matplotlib.rcParams.update({'figure.figsize': (16, 12), 'font.size': 14})\n",
        "import matplotlib.pyplot as plt\n",
        "%matplotlib inline\n",
        "from IPython.display import clear_output\n",
        "\n",
        "from nltk.tokenize import WordPunctTokenizer\n",
        "from subword_nmt.learn_bpe import learn_bpe\n",
        "from subword_nmt.apply_bpe import BPE\n"
      ],
      "execution_count": null,
      "outputs": []
    },
    {
      "cell_type": "markdown",
      "metadata": {
        "id": "w9nc-SR-B7j2"
      },
      "source": [
        "### Main part\n",
        "__Here comes the preprocessing. Do not hesitate to use BPE or more complex preprocessing ;)__"
      ]
    },
    {
      "cell_type": "code",
      "metadata": {
        "id": "mepX9WttB7j2"
      },
      "source": [
        "tokenizer_W = WordPunctTokenizer()\n",
        "def tokenize(x, tokenizer=tokenizer_W):\n",
        "    return tokenizer.tokenize(x.lower())"
      ],
      "execution_count": null,
      "outputs": []
    },
    {
      "cell_type": "code",
      "metadata": {
        "id": "7bhguGa1B7j6"
      },
      "source": [
        "SRC = Field(tokenize=tokenize,\n",
        "            init_token = '<sos>', \n",
        "            eos_token = '<eos>', \n",
        "            lower = True)\n",
        "\n",
        "TRG = Field(tokenize=tokenize,\n",
        "            init_token = '<sos>', \n",
        "            eos_token = '<eos>', \n",
        "            lower = True)\n",
        "\n",
        "dataset = torchtext.data.TabularDataset(\n",
        "    path='data.txt',\n",
        "    format='tsv',\n",
        "    fields=[('trg', TRG), ('src', SRC)]\n",
        ")"
      ],
      "execution_count": null,
      "outputs": []
    },
    {
      "cell_type": "code",
      "metadata": {
        "id": "vp-RAEaTB7j-"
      },
      "source": [
        "train_data, valid_data, test_data = dataset.split(split_ratio=[0.8, 0.15, 0.05])"
      ],
      "execution_count": null,
      "outputs": []
    },
    {
      "cell_type": "code",
      "metadata": {
        "id": "H7Z5nZ_WB7kC",
        "colab": {
          "base_uri": "https://localhost:8080/",
          "height": 71
        },
        "outputId": "c0012cc1-4494-48cc-983b-844ef01ac39d"
      },
      "source": [
        "print(f\"Number of training examples: {len(train_data.examples)}\")\n",
        "print(f\"Number of validation examples: {len(valid_data.examples)}\")\n",
        "print(f\"Number of testing examples: {len(test_data.examples)}\")"
      ],
      "execution_count": null,
      "outputs": [
        {
          "output_type": "stream",
          "text": [
            "Number of training examples: 40000\n",
            "Number of validation examples: 2500\n",
            "Number of testing examples: 7500\n"
          ],
          "name": "stdout"
        }
      ]
    },
    {
      "cell_type": "code",
      "metadata": {
        "id": "CfX3eLERB7kF"
      },
      "source": [
        "SRC.build_vocab(train_data, min_freq = 3)\n",
        "TRG.build_vocab(train_data, min_freq = 3)"
      ],
      "execution_count": null,
      "outputs": []
    },
    {
      "cell_type": "code",
      "metadata": {
        "id": "QxsZ3m39B7kK",
        "colab": {
          "base_uri": "https://localhost:8080/",
          "height": 53
        },
        "outputId": "79a93d8a-dab6-4d7c-8ec8-fe8b6da26d39"
      },
      "source": [
        "print(f\"Unique tokens in source (ru) vocabulary: {len(SRC.vocab)}\")\n",
        "print(f\"Unique tokens in target (en) vocabulary: {len(TRG.vocab)}\")"
      ],
      "execution_count": null,
      "outputs": [
        {
          "output_type": "stream",
          "text": [
            "Unique tokens in source (ru) vocabulary: 9290\n",
            "Unique tokens in target (en) vocabulary: 6745\n"
          ],
          "name": "stdout"
        }
      ]
    },
    {
      "cell_type": "markdown",
      "metadata": {
        "id": "XmZ25MRRB7kN"
      },
      "source": [
        "Here are tokens from original (RU) corpus:"
      ]
    },
    {
      "cell_type": "code",
      "metadata": {
        "id": "Ut52WcjxB7kO",
        "colab": {
          "base_uri": "https://localhost:8080/",
          "height": 197
        },
        "outputId": "4ccb913e-5cc5-41f9-ae48-388315b72784"
      },
      "source": [
        "SRC.vocab.itos[::1000]"
      ],
      "execution_count": null,
      "outputs": [
        {
          "output_type": "execute_result",
          "data": {
            "text/plain": [
              "['<unk>',\n",
              " 'телевидения',\n",
              " 'американской',\n",
              " 'красная',\n",
              " 'cosy',\n",
              " 'челси',\n",
              " 'marianna',\n",
              " 'фонда',\n",
              " 'дизайне',\n",
              " 'стимбоут']"
            ]
          },
          "metadata": {
            "tags": []
          },
          "execution_count": 10
        }
      ]
    },
    {
      "cell_type": "markdown",
      "metadata": {
        "id": "yUHj2pmBB7kQ"
      },
      "source": [
        "And from target (EN) corpus:"
      ]
    },
    {
      "cell_type": "code",
      "metadata": {
        "id": "PQJAeBMFB7kQ",
        "colab": {
          "base_uri": "https://localhost:8080/",
          "height": 35
        },
        "outputId": "a61ae909-50d2-4141-a239-9eeffac2d290"
      },
      "source": [
        "TRG.vocab.itos[::1000]"
      ],
      "execution_count": null,
      "outputs": [
        {
          "output_type": "execute_result",
          "data": {
            "text/plain": [
              "['<unk>', 'sport', 'delta', 'córdoba', 'mountainous', 'sited', 'malagueta']"
            ]
          },
          "metadata": {
            "tags": []
          },
          "execution_count": 11
        }
      ]
    },
    {
      "cell_type": "markdown",
      "metadata": {
        "id": "3SsthizzB7kV"
      },
      "source": [
        "And here is example from train dataset:"
      ]
    },
    {
      "cell_type": "code",
      "metadata": {
        "id": "4g7Kd3CYB7kW",
        "colab": {
          "base_uri": "https://localhost:8080/",
          "height": 55
        },
        "outputId": "e23d6f0d-2ce9-4811-89bc-95ca040acf92"
      },
      "source": [
        "print(vars(train_data.examples[9]))"
      ],
      "execution_count": null,
      "outputs": [
        {
          "output_type": "stream",
          "text": [
            "{'trg': ['the', 'property', 'features', 'an', 'outdoor', 'pool', 'and', 'a', 'sheltered', 'terrace', '.'], 'src': ['на', 'территории', 'обустроены', 'открытый', 'бассейн', 'и', 'крытая', 'терраса', '.']}\n"
          ],
          "name": "stdout"
        }
      ]
    },
    {
      "cell_type": "markdown",
      "metadata": {
        "id": "PpICuWDLB7kZ"
      },
      "source": [
        "Let's check the length distributions:"
      ]
    },
    {
      "cell_type": "code",
      "metadata": {
        "id": "GD4rWgr-B7kZ",
        "colab": {
          "base_uri": "https://localhost:8080/",
          "height": 296
        },
        "outputId": "8adf6b4d-bf41-47d8-918c-bd7ae65638fe"
      },
      "source": [
        "src_length = map(len, [vars(x)['src'] for x in train_data.examples])\n",
        "trg_length = map(len, [vars(x)['trg'] for x in train_data.examples])\n",
        "\n",
        "print('Length distribution in Train data')\n",
        "plt.figure(figsize=[8, 4])\n",
        "plt.subplot(1, 2, 1)\n",
        "plt.title(\"source length\")\n",
        "plt.hist(list(src_length), bins=20);\n",
        "\n",
        "plt.subplot(1, 2, 2)\n",
        "plt.title(\"translation length\")\n",
        "plt.hist(list(trg_length), bins=20);"
      ],
      "execution_count": null,
      "outputs": [
        {
          "output_type": "stream",
          "text": [
            "Length distribution in Train data\n"
          ],
          "name": "stdout"
        },
        {
          "output_type": "display_data",
          "data": {
            "image/png": "[encoded data removed]",
            "text/plain": [
              "<Figure size 576x288 with 2 Axes>"
            ]
          },
          "metadata": {
            "tags": []
          }
        }
      ]
    },
    {
      "cell_type": "code",
      "metadata": {
        "id": "SBBszHDIB7kd",
        "colab": {
          "base_uri": "https://localhost:8080/",
          "height": 296
        },
        "outputId": "141e63eb-8968-45ea-c0af-95dec2e2e59b"
      },
      "source": [
        "src_length = map(len, [vars(x)['src'] for x in test_data.examples])\n",
        "trg_length = map(len, [vars(x)['trg'] for x in test_data.examples])\n",
        "\n",
        "print('Length distribution in Test data')\n",
        "plt.figure(figsize=[8, 4])\n",
        "plt.subplot(1, 2, 1)\n",
        "plt.title(\"source length\")\n",
        "plt.hist(list(src_length), bins=20);\n",
        "\n",
        "plt.subplot(1, 2, 2)\n",
        "plt.title(\"translation length\")\n",
        "plt.hist(list(trg_length), bins=20);"
      ],
      "execution_count": null,
      "outputs": [
        {
          "output_type": "stream",
          "text": [
            "Length distribution in Test data\n"
          ],
          "name": "stdout"
        },
        {
          "output_type": "display_data",
          "data": {
            "image/png": "[encoded data removed]",
            "text/plain": [
              "<Figure size 576x288 with 2 Axes>"
            ]
          },
          "metadata": {
            "tags": []
          }
        }
      ]
    },
    {
      "cell_type": "markdown",
      "metadata": {
        "id": "dKUKeCZyB7kf"
      },
      "source": [
        "### Model side\n",
        "__Here comes simple pipeline of NMT model learning. It almost copies the week03 practice__"
      ]
    },
    {
      "cell_type": "code",
      "metadata": {
        "id": "5KzfnF0fB7kf"
      },
      "source": [
        "device = torch.device('cuda' if torch.cuda.is_available() else 'cpu')"
      ],
      "execution_count": null,
      "outputs": []
    },
    {
      "cell_type": "code",
      "metadata": {
        "id": "yGtSW5NEB7kg",
        "colab": {
          "base_uri": "https://localhost:8080/",
          "height": 35
        },
        "outputId": "e3d014a1-1765-4b61-c52f-06531e119f7d"
      },
      "source": [
        "device"
      ],
      "execution_count": null,
      "outputs": [
        {
          "output_type": "execute_result",
          "data": {
            "text/plain": [
              "device(type='cpu')"
            ]
          },
          "metadata": {
            "tags": []
          },
          "execution_count": 12
        }
      ]
    },
    {
      "cell_type": "code",
      "metadata": {
        "id": "hIyo9ha3B7ki"
      },
      "source": [
        "def _len_sort_key(x):\n",
        "    return len(x.src)\n",
        "\n",
        "BATCH_SIZE = 128\n",
        "\n",
        "train_iterator, valid_iterator, test_iterator = BucketIterator.splits(\n",
        "    (train_data, valid_data, test_data), \n",
        "    batch_size = BATCH_SIZE, \n",
        "    device = device,\n",
        "    sort_key=_len_sort_key\n",
        ")"
      ],
      "execution_count": null,
      "outputs": []
    },
    {
      "cell_type": "code",
      "metadata": {
        "id": "KYQpr9v-B7km",
        "colab": {
          "base_uri": "https://localhost:8080/",
          "height": 107
        },
        "outputId": "5d943c91-e2f3-476a-91d6-e5a679292f42"
      },
      "source": [
        "for x in train_iterator:\n",
        "    break\n",
        "print(x)\n",
        "print(x.src.shape, x.trg.shape)"
      ],
      "execution_count": null,
      "outputs": [
        {
          "output_type": "stream",
          "text": [
            "\n",
            "[torchtext.data.batch.Batch of size 128]\n",
            "\t[.trg]:[torch.LongTensor of size 50x128]\n",
            "\t[.src]:[torch.LongTensor of size 50x128]\n",
            "torch.Size([50, 128]) torch.Size([50, 128])\n"
          ],
          "name": "stdout"
        }
      ]
    },
    {
      "cell_type": "code",
      "metadata": {
        "id": "DDub53__B7kn"
      },
      "source": [
        "import my_network\n",
        "Encoder = my_network.Encoder\n",
        "Decoder = my_network.Decoder\n",
        "Seq2Seq = my_network.Seq2Seq"
      ],
      "execution_count": null,
      "outputs": []
    },
    {
      "cell_type": "code",
      "metadata": {
        "id": "gRFWBtonB7kp"
      },
      "source": [
        "INPUT_DIM = len(SRC.vocab)\n",
        "OUTPUT_DIM = len(TRG.vocab)\n",
        "ENC_EMB_DIM = 256\n",
        "DEC_EMB_DIM = 256\n",
        "HID_DIM = 512\n",
        "N_LAYERS = 2\n",
        "ENC_DROPOUT = 0.5\n",
        "DEC_DROPOUT = 0.5\n",
        "\n",
        "enc = Encoder(INPUT_DIM, ENC_EMB_DIM, HID_DIM, N_LAYERS, ENC_DROPOUT)\n",
        "dec = Decoder(OUTPUT_DIM, DEC_EMB_DIM, HID_DIM, N_LAYERS, DEC_DROPOUT)\n",
        "\n",
        "# dont forget to put the model to the right device\n",
        "model = Seq2Seq(enc, dec, device).to(device)"
      ],
      "execution_count": null,
      "outputs": []
    },
    {
      "cell_type": "code",
      "metadata": {
        "id": "lRe_Q3CTB7kq",
        "colab": {
          "base_uri": "https://localhost:8080/",
          "height": 269
        },
        "outputId": "516a4eec-a695-4716-d776-39309b26de69"
      },
      "source": [
        "def init_weights(m):\n",
        "    # <YOUR CODE HERE>\n",
        "    for name, param in m.named_parameters():\n",
        "        nn.init.uniform_(param, -0.08, 0.08)\n",
        "        \n",
        "model.apply(init_weights)"
      ],
      "execution_count": null,
      "outputs": [
        {
          "output_type": "execute_result",
          "data": {
            "text/plain": [
              "Seq2Seq(\n",
              "  (encoder): Encoder(\n",
              "    (embedding): Embedding(9290, 256, padding_idx=0)\n",
              "    (rnn): LSTM(256, 512, num_layers=2, dropout=0.5)\n",
              "    (dropout): Dropout(p=0.5, inplace=False)\n",
              "    (lm_head): Linear(in_features=512, out_features=9290, bias=True)\n",
              "  )\n",
              "  (decoder): Decoder(\n",
              "    (embedding): Embedding(6745, 256, padding_idx=0)\n",
              "    (rnn): LSTM(256, 512, num_layers=2, dropout=0.5)\n",
              "    (out): Linear(in_features=512, out_features=6745, bias=True)\n",
              "    (dropout): Dropout(p=0.5, inplace=False)\n",
              "  )\n",
              ")"
            ]
          },
          "metadata": {
            "tags": []
          },
          "execution_count": 17
        }
      ]
    },
    {
      "cell_type": "code",
      "metadata": {
        "id": "E0IlSAy1B7kr",
        "colab": {
          "base_uri": "https://localhost:8080/",
          "height": 35
        },
        "outputId": "074da58c-0175-4e7f-a56e-b1a782ded900"
      },
      "source": [
        "def count_parameters(model):\n",
        "    return sum(p.numel() for p in model.parameters() if p.requires_grad)\n",
        "\n",
        "print(f'The model has {count_parameters(model):,} trainable parameters')"
      ],
      "execution_count": null,
      "outputs": [
        {
          "output_type": "stream",
          "text": [
            "The model has 19,687,331 trainable parameters\n"
          ],
          "name": "stdout"
        }
      ]
    },
    {
      "cell_type": "code",
      "metadata": {
        "id": "cmzC8PAnB7kt"
      },
      "source": [
        "PAD_IDX = TRG.vocab.stoi['<pad>']\n",
        "optimizer = optim.Adam(model.parameters())\n",
        "criterion = nn.CrossEntropyLoss(ignore_index = PAD_IDX)"
      ],
      "execution_count": null,
      "outputs": []
    },
    {
      "cell_type": "code",
      "metadata": {
        "id": "hKTDA-ihB7kv"
      },
      "source": [
        "def train(model, iterator, optimizer, criterion, clip, train_history=None, valid_history=None, lm=False):\n",
        "    model.train()\n",
        "    \n",
        "    epoch_loss = 0\n",
        "    history = []\n",
        "    for i, batch in enumerate(iterator):\n",
        "        \n",
        "        src = batch.src\n",
        "        trg = batch.trg\n",
        "        \n",
        "        optimizer.zero_grad()\n",
        "        if lm:\n",
        "            output = model(src, lm=lm)\n",
        "        else:\n",
        "            output = model(src, trg)\n",
        "        \n",
        "        #trg = [trg sent len, batch size]\n",
        "        #output = [trg sent len, batch size, output dim]\n",
        "        \n",
        "        output = output[1:].view(-1, output.shape[-1])\n",
        "        trg = trg[1:].view(-1)\n",
        "        \n",
        "        #trg = [(trg sent len - 1) * batch size]\n",
        "        #output = [(trg sent len - 1) * batch size, output dim]\n",
        "        \n",
        "        loss = criterion(output, trg)\n",
        "        \n",
        "        loss.backward()\n",
        "        \n",
        "        # Let's clip the gradient\n",
        "        torch.nn.utils.clip_grad_norm_(model.parameters(), clip)\n",
        "        \n",
        "        optimizer.step()\n",
        "        \n",
        "        epoch_loss += loss.item()\n",
        "        \n",
        "        history.append(loss.cpu().data.numpy())\n",
        "        if (i+1)%10==0:\n",
        "            fig, ax = plt.subplots(nrows=1, ncols=2, figsize=(12, 8))\n",
        "\n",
        "            clear_output(True)\n",
        "            ax[0].plot(history, label='train loss')\n",
        "            ax[0].set_xlabel('Batch')\n",
        "            ax[0].set_title('Train loss')\n",
        "            if train_history is not None:\n",
        "                ax[1].plot(train_history, label='general train history')\n",
        "                ax[1].set_xlabel('Epoch')\n",
        "            if valid_history is not None:\n",
        "                ax[1].plot(valid_history, label='general valid history')\n",
        "            plt.legend()\n",
        "            \n",
        "            plt.show()\n",
        "\n",
        "        \n",
        "    return epoch_loss / len(iterator)"
      ],
      "execution_count": null,
      "outputs": []
    },
    {
      "cell_type": "code",
      "metadata": {
        "id": "jeczS4-GB7kw"
      },
      "source": [
        "def evaluate(model, iterator, criterion, lm=False):\n",
        "    \n",
        "    model.eval()\n",
        "    \n",
        "    epoch_loss = 0\n",
        "    \n",
        "    history = []\n",
        "    \n",
        "    with torch.no_grad():\n",
        "    \n",
        "        for i, batch in enumerate(iterator):\n",
        "\n",
        "            src = batch.src\n",
        "            trg = batch.trg\n",
        "\n",
        "            if lm:\n",
        "                output = model(src, lm=lm)\n",
        "            else:\n",
        "                output = model(src, trg, 0) #turn off teacher forcing\n",
        "\n",
        "            #trg = [trg sent len, batch size]\n",
        "            #output = [trg sent len, batch size, output dim]\n",
        "\n",
        "            output = output[1:].view(-1, output.shape[-1])\n",
        "            trg = trg[1:].view(-1)\n",
        "\n",
        "            #trg = [(trg sent len - 1) * batch size]\n",
        "            #output = [(trg sent len - 1) * batch size, output dim]\n",
        "\n",
        "            loss = criterion(output, trg)\n",
        "            \n",
        "            epoch_loss += loss.item()\n",
        "        \n",
        "    return epoch_loss / len(iterator)"
      ],
      "execution_count": null,
      "outputs": []
    },
    {
      "cell_type": "code",
      "metadata": {
        "id": "gGo5gfyjB7kx"
      },
      "source": [
        "def epoch_time(start_time, end_time):\n",
        "    elapsed_time = end_time - start_time\n",
        "    elapsed_mins = int(elapsed_time / 60)\n",
        "    elapsed_secs = int(elapsed_time - (elapsed_mins * 60))\n",
        "    return elapsed_mins, elapsed_secs"
      ],
      "execution_count": null,
      "outputs": []
    },
    {
      "cell_type": "code",
      "metadata": {
        "id": "fZZ_xlHVB7ky"
      },
      "source": [
        "train_history = []\n",
        "valid_history = []\n",
        "\n",
        "N_EPOCHS = 10\n",
        "CLIP = 1\n",
        "\n",
        "best_valid_loss = float('inf')"
      ],
      "execution_count": null,
      "outputs": []
    },
    {
      "cell_type": "code",
      "metadata": {
        "id": "CC91gHEeB7k0",
        "colab": {
          "base_uri": "https://localhost:8080/",
          "height": 561
        },
        "outputId": "c15d36ab-dcad-4f2c-b75c-c0b6b8378b90"
      },
      "source": [
        "for epoch in range(N_EPOCHS):\n",
        "    \n",
        "    start_time = time.time()\n",
        "    \n",
        "    train_loss = train(model, train_iterator, optimizer, criterion, CLIP, train_history, valid_history)\n",
        "    valid_loss = evaluate(model, valid_iterator, criterion)\n",
        "    \n",
        "    end_time = time.time()\n",
        "    \n",
        "    epoch_mins, epoch_secs = epoch_time(start_time, end_time)\n",
        "    \n",
        "    if valid_loss < best_valid_loss:\n",
        "        best_valid_loss = valid_loss\n",
        "        torch.save(model.state_dict(), 'tut1-model.pt')\n",
        "    \n",
        "    train_history.append(train_loss)\n",
        "    valid_history.append(valid_loss)\n",
        "    print(f'Epoch: {epoch+1:02} | Time: {epoch_mins}m {epoch_secs}s')\n",
        "    print(f'\\tTrain Loss: {train_loss:.3f} | Train PPL: {math.exp(train_loss):7.3f}')\n",
        "    print(f'\\t Val. Loss: {valid_loss:.3f} |  Val. PPL: {math.exp(valid_loss):7.3f}')"
      ],
      "execution_count": null,
      "outputs": [
        {
          "output_type": "display_data",
          "data": {
            "image/png": "[encoded data removed]",
            "text/plain": [
              "<Figure size 864x576 with 2 Axes>"
            ]
          },
          "metadata": {
            "tags": []
          }
        },
        {
          "output_type": "stream",
          "text": [
            "Epoch: 10 | Time: 1m 23s\n",
            "\tTrain Loss: 2.903 | Train PPL:  18.222\n",
            "\t Val. Loss: 4.710 |  Val. PPL: 111.096\n"
          ],
          "name": "stdout"
        }
      ]
    },
    {
      "cell_type": "markdown",
      "metadata": {
        "id": "XLgsyi9-B7k1"
      },
      "source": [
        "__Let's take a look at our network quality__:"
      ]
    },
    {
      "cell_type": "code",
      "metadata": {
        "id": "mQqELFSYB7k1"
      },
      "source": [
        "import utils\n",
        "import imp\n",
        "imp.reload(utils)\n",
        "generate_translation = utils.generate_translation\n",
        "remove_tech_tokens = utils.remove_tech_tokens\n",
        "get_text = utils.get_text\n",
        "flatten = utils.flatten"
      ],
      "execution_count": null,
      "outputs": []
    },
    {
      "cell_type": "code",
      "metadata": {
        "id": "OqpInUg3B7k2",
        "colab": {
          "base_uri": "https://localhost:8080/",
          "height": 170
        },
        "outputId": "f3089a34-c2a2-4d6a-a6e7-35a140679b6b"
      },
      "source": [
        "batch = next(iter(test_iterator))"
      ],
      "execution_count": null,
      "outputs": [
        {
          "output_type": "error",
          "ename": "NameError",
          "evalue": "ignored",
          "traceback": [
            "\u001b[0;31m---------------------------------------------------------------------------\u001b[0m",
            "\u001b[0;31mNameError\u001b[0m                                 Traceback (most recent call last)",
            "\u001b[0;32m<ipython-input-29-df97da157932>\u001b[0m in \u001b[0;36m<module>\u001b[0;34m()\u001b[0m\n\u001b[0;32m----> 1\u001b[0;31m \u001b[0mbatch\u001b[0m \u001b[0;34m=\u001b[0m \u001b[0mnext\u001b[0m\u001b[0;34m(\u001b[0m\u001b[0miter\u001b[0m\u001b[0;34m(\u001b[0m\u001b[0mtest_iterator\u001b[0m\u001b[0;34m)\u001b[0m\u001b[0;34m)\u001b[0m\u001b[0;34m\u001b[0m\u001b[0;34m\u001b[0m\u001b[0m\n\u001b[0m",
            "\u001b[0;31mNameError\u001b[0m: name 'test_iterator' is not defined"
          ]
        }
      ]
    },
    {
      "cell_type": "code",
      "metadata": {
        "id": "9_2PT9oTB7k3",
        "colab": {
          "base_uri": "https://localhost:8080/",
          "height": 224
        },
        "outputId": "22675a05-114e-4ffc-f526-1e2d6dc3eaf8"
      },
      "source": [
        "for idx in [1,2]:\n",
        "    src = batch.src[:, idx:idx+1]\n",
        "    trg = batch.trg[:, idx:idx+1]\n",
        "    generate_translation(src, trg, model, TRG.vocab)"
      ],
      "execution_count": null,
      "outputs": [
        {
          "output_type": "error",
          "ename": "NameError",
          "evalue": "ignored",
          "traceback": [
            "\u001b[0;31m---------------------------------------------------------------------------\u001b[0m",
            "\u001b[0;31mNameError\u001b[0m                                 Traceback (most recent call last)",
            "\u001b[0;32m<ipython-input-32-e913f87646cb>\u001b[0m in \u001b[0;36m<module>\u001b[0;34m()\u001b[0m\n\u001b[1;32m      1\u001b[0m \u001b[0;32mfor\u001b[0m \u001b[0midx\u001b[0m \u001b[0;32min\u001b[0m \u001b[0;34m[\u001b[0m\u001b[0;36m1\u001b[0m\u001b[0;34m,\u001b[0m\u001b[0;36m2\u001b[0m\u001b[0;34m]\u001b[0m\u001b[0;34m:\u001b[0m\u001b[0;34m\u001b[0m\u001b[0;34m\u001b[0m\u001b[0m\n\u001b[0;32m----> 2\u001b[0;31m     \u001b[0msrc\u001b[0m \u001b[0;34m=\u001b[0m \u001b[0mbatch\u001b[0m\u001b[0;34m.\u001b[0m\u001b[0msrc\u001b[0m\u001b[0;34m[\u001b[0m\u001b[0;34m:\u001b[0m\u001b[0;34m,\u001b[0m \u001b[0midx\u001b[0m\u001b[0;34m:\u001b[0m\u001b[0midx\u001b[0m\u001b[0;34m+\u001b[0m\u001b[0;36m1\u001b[0m\u001b[0;34m]\u001b[0m\u001b[0;34m\u001b[0m\u001b[0;34m\u001b[0m\u001b[0m\n\u001b[0m\u001b[1;32m      3\u001b[0m     \u001b[0mtrg\u001b[0m \u001b[0;34m=\u001b[0m \u001b[0mbatch\u001b[0m\u001b[0;34m.\u001b[0m\u001b[0mtrg\u001b[0m\u001b[0;34m[\u001b[0m\u001b[0;34m:\u001b[0m\u001b[0;34m,\u001b[0m \u001b[0midx\u001b[0m\u001b[0;34m:\u001b[0m\u001b[0midx\u001b[0m\u001b[0;34m+\u001b[0m\u001b[0;36m1\u001b[0m\u001b[0;34m]\u001b[0m\u001b[0;34m\u001b[0m\u001b[0;34m\u001b[0m\u001b[0m\n\u001b[1;32m      4\u001b[0m     \u001b[0mgenerate_translation\u001b[0m\u001b[0;34m(\u001b[0m\u001b[0msrc\u001b[0m\u001b[0;34m,\u001b[0m \u001b[0mtrg\u001b[0m\u001b[0;34m,\u001b[0m \u001b[0mmodel\u001b[0m\u001b[0;34m,\u001b[0m \u001b[0mTRG\u001b[0m\u001b[0;34m.\u001b[0m\u001b[0mvocab\u001b[0m\u001b[0;34m)\u001b[0m\u001b[0;34m\u001b[0m\u001b[0;34m\u001b[0m\u001b[0m\n",
            "\u001b[0;31mNameError\u001b[0m: name 'batch' is not defined"
          ]
        }
      ]
    },
    {
      "cell_type": "code",
      "metadata": {
        "id": "ZwgaCbMSB7k5"
      },
      "source": [
        "from nltk.translate.bleu_score import corpus_bleu\n",
        "\n",
        "#     \"\"\" Estimates corpora-level BLEU score of model's translations given inp and reference out \"\"\"\n",
        "#     translations, _ = model.translate_lines(inp_lines, **flags)\n",
        "#     # Note: if you experience out-of-memory error, split input lines into batches and translate separately\n",
        "#     return corpus_bleu([[ref] for ref in out_lines], translations) * 100"
      ],
      "execution_count": null,
      "outputs": []
    },
    {
      "cell_type": "code",
      "metadata": {
        "id": "wKXxi7GWB7k6"
      },
      "source": [
        "import tqdm"
      ],
      "execution_count": null,
      "outputs": []
    },
    {
      "cell_type": "code",
      "metadata": {
        "id": "7ZTYmpBUB7k8",
        "colab": {
          "base_uri": "https://localhost:8080/",
          "height": 32
        },
        "outputId": "3157593c-26d7-4eaf-e085-913b6eddb72f"
      },
      "source": [
        "original_text = []\n",
        "generated_text = []\n",
        "model.eval()\n",
        "with torch.no_grad():\n",
        "\n",
        "    for i, batch in tqdm.tqdm(enumerate(test_iterator)):\n",
        "\n",
        "        src = batch.src\n",
        "        trg = batch.trg\n",
        "\n",
        "        output = model(src, trg, 0) #turn off teacher forcing\n",
        "\n",
        "        #trg = [trg sent len, batch size]\n",
        "        #output = [trg sent len, batch size, output dim]\n",
        "\n",
        "        output = output.argmax(dim=-1)\n",
        "        \n",
        "        original_text.extend([get_text(x, TRG.vocab) for x in trg.cpu().numpy().T])\n",
        "        generated_text.extend([get_text(x, TRG.vocab) for x in output.detach().cpu().numpy().T])\n",
        "\n",
        "# original_text = flatten(original_text)\n",
        "# generated_text = flatten(generated_text)"
      ],
      "execution_count": null,
      "outputs": [
        {
          "output_type": "stream",
          "text": [
            "59it [00:03, 15.50it/s]\n"
          ],
          "name": "stderr"
        }
      ]
    },
    {
      "cell_type": "code",
      "metadata": {
        "id": "74ZWVIc2B7k9",
        "colab": {
          "base_uri": "https://localhost:8080/",
          "height": 32
        },
        "outputId": "e1c3b91b-7c1d-4c57-f084-84e5b8eb8233"
      },
      "source": [
        "corpus_bleu([[text] for text in original_text], generated_text) * 100"
      ],
      "execution_count": null,
      "outputs": [
        {
          "output_type": "execute_result",
          "data": {
            "text/plain": [
              "14.55999291524233"
            ]
          },
          "metadata": {
            "tags": []
          },
          "execution_count": 44
        }
      ]
    },
    {
      "cell_type": "markdown",
      "metadata": {
        "id": "Eyst5rNmB7k_"
      },
      "source": [
        "Baseline solution BLEU score is quite low. Try to achieve at least __18__ BLEU on the test set. \n",
        "The checkpoints are:\n",
        "\n",
        "* __18__ - minimal score to submit the homework, 30% of points\n",
        "\n",
        "* __20__ - good score, 70% of points\n",
        "\n",
        "* __25__ - excellent score, 100% of points"
      ]
    },
    {
      "cell_type": "code",
      "metadata": {
        "id": "-7Qu4F2tB7k_",
        "colab": {
          "base_uri": "https://localhost:8080/",
          "height": 145
        },
        "outputId": "caece623-2fc0-446f-853f-c9bcf3412a5a"
      },
      "source": [
        "!pip install youtokentome"
      ],
      "execution_count": null,
      "outputs": [
        {
          "output_type": "stream",
          "text": [
            "Collecting youtokentome\n",
            "\u001b[?25l  Downloading https://files.pythonhosted.org/packages/a3/65/4a86cf99da3f680497ae132329025b291e2fda22327e8da6a9476e51acb1/youtokentome-1.0.6-cp36-cp36m-manylinux2010_x86_64.whl (1.7MB)\n",
            "\r\u001b[K     |▏                               | 10kB 19.8MB/s eta 0:00:01\r\u001b[K     |▍                               | 20kB 3.1MB/s eta 0:00:01\r\u001b[K     |▋                               | 30kB 4.5MB/s eta 0:00:01\r\u001b[K     |▊                               | 40kB 2.9MB/s eta 0:00:01\r\u001b[K     |█                               | 51kB 3.6MB/s eta 0:00:01\r\u001b[K     |█▏                              | 61kB 4.3MB/s eta 0:00:01\r\u001b[K     |█▍                              | 71kB 5.0MB/s eta 0:00:01\r\u001b[K     |█▌                              | 81kB 3.8MB/s eta 0:00:01\r\u001b[K     |█▊                              | 92kB 4.3MB/s eta 0:00:01\r\u001b[K     |██                              | 102kB 4.7MB/s eta 0:00:01\r\u001b[K     |██                              | 112kB 4.7MB/s eta 0:00:01\r\u001b[K     |██▎                             | 122kB 4.7MB/s eta 0:00:01\r\u001b[K     |██▌                             | 133kB 4.7MB/s eta 0:00:01\r\u001b[K     |██▊                             | 143kB 4.7MB/s eta 0:00:01\r\u001b[K     |██▉                             | 153kB 4.7MB/s eta 0:00:01\r\u001b[K     |███                             | 163kB 4.7MB/s eta 0:00:01\r\u001b[K     |███▎                            | 174kB 4.7MB/s eta 0:00:01\r\u001b[K     |███▌                            | 184kB 4.7MB/s eta 0:00:01\r\u001b[K     |███▋                            | 194kB 4.7MB/s eta 0:00:01\r\u001b[K     |███▉                            | 204kB 4.7MB/s eta 0:00:01\r\u001b[K     |████                            | 215kB 4.7MB/s eta 0:00:01\r\u001b[K     |████▏                           | 225kB 4.7MB/s eta 0:00:01\r\u001b[K     |████▍                           | 235kB 4.7MB/s eta 0:00:01\r\u001b[K     |████▋                           | 245kB 4.7MB/s eta 0:00:01\r\u001b[K     |████▉                           | 256kB 4.7MB/s eta 0:00:01\r\u001b[K     |█████                           | 266kB 4.7MB/s eta 0:00:01\r\u001b[K     |█████▏                          | 276kB 4.7MB/s eta 0:00:01\r\u001b[K     |█████▍                          | 286kB 4.7MB/s eta 0:00:01\r\u001b[K     |█████▋                          | 296kB 4.7MB/s eta 0:00:01\r\u001b[K     |█████▊                          | 307kB 4.7MB/s eta 0:00:01\r\u001b[K     |██████                          | 317kB 4.7MB/s eta 0:00:01\r\u001b[K     |██████▏                         | 327kB 4.7MB/s eta 0:00:01\r\u001b[K     |██████▎                         | 337kB 4.7MB/s eta 0:00:01\r\u001b[K     |██████▌                         | 348kB 4.7MB/s eta 0:00:01\r\u001b[K     |██████▊                         | 358kB 4.7MB/s eta 0:00:01\r\u001b[K     |███████                         | 368kB 4.7MB/s eta 0:00:01\r\u001b[K     |███████                         | 378kB 4.7MB/s eta 0:00:01\r\u001b[K     |███████▎                        | 389kB 4.7MB/s eta 0:00:01\r\u001b[K     |███████▌                        | 399kB 4.7MB/s eta 0:00:01\r\u001b[K     |███████▋                        | 409kB 4.7MB/s eta 0:00:01\r\u001b[K     |███████▉                        | 419kB 4.7MB/s eta 0:00:01\r\u001b[K     |████████                        | 430kB 4.7MB/s eta 0:00:01\r\u001b[K     |████████▎                       | 440kB 4.7MB/s eta 0:00:01\r\u001b[K     |████████▍                       | 450kB 4.7MB/s eta 0:00:01\r\u001b[K     |████████▋                       | 460kB 4.7MB/s eta 0:00:01\r\u001b[K     |████████▉                       | 471kB 4.7MB/s eta 0:00:01\r\u001b[K     |█████████                       | 481kB 4.7MB/s eta 0:00:01\r\u001b[K     |█████████▏                      | 491kB 4.7MB/s eta 0:00:01\r\u001b[K     |█████████▍                      | 501kB 4.7MB/s eta 0:00:01\r\u001b[K     |█████████▋                      | 512kB 4.7MB/s eta 0:00:01\r\u001b[K     |█████████▊                      | 522kB 4.7MB/s eta 0:00:01\r\u001b[K     |██████████                      | 532kB 4.7MB/s eta 0:00:01\r\u001b[K     |██████████▏                     | 542kB 4.7MB/s eta 0:00:01\r\u001b[K     |██████████▍                     | 552kB 4.7MB/s eta 0:00:01\r\u001b[K     |██████████▌                     | 563kB 4.7MB/s eta 0:00:01\r\u001b[K     |██████████▊                     | 573kB 4.7MB/s eta 0:00:01\r\u001b[K     |███████████                     | 583kB 4.7MB/s eta 0:00:01\r\u001b[K     |███████████▏                    | 593kB 4.7MB/s eta 0:00:01\r\u001b[K     |███████████▎                    | 604kB 4.7MB/s eta 0:00:01\r\u001b[K     |███████████▌                    | 614kB 4.7MB/s eta 0:00:01\r\u001b[K     |███████████▊                    | 624kB 4.7MB/s eta 0:00:01\r\u001b[K     |███████████▉                    | 634kB 4.7MB/s eta 0:00:01\r\u001b[K     |████████████                    | 645kB 4.7MB/s eta 0:00:01\r\u001b[K     |████████████▎                   | 655kB 4.7MB/s eta 0:00:01\r\u001b[K     |████████████▌                   | 665kB 4.7MB/s eta 0:00:01\r\u001b[K     |████████████▋                   | 675kB 4.7MB/s eta 0:00:01\r\u001b[K     |████████████▉                   | 686kB 4.7MB/s eta 0:00:01\r\u001b[K     |█████████████                   | 696kB 4.7MB/s eta 0:00:01\r\u001b[K     |█████████████▏                  | 706kB 4.7MB/s eta 0:00:01\r\u001b[K     |█████████████▍                  | 716kB 4.7MB/s eta 0:00:01\r\u001b[K     |█████████████▋                  | 727kB 4.7MB/s eta 0:00:01\r\u001b[K     |█████████████▉                  | 737kB 4.7MB/s eta 0:00:01\r\u001b[K     |██████████████                  | 747kB 4.7MB/s eta 0:00:01\r\u001b[K     |██████████████▏                 | 757kB 4.7MB/s eta 0:00:01\r\u001b[K     |██████████████▍                 | 768kB 4.7MB/s eta 0:00:01\r\u001b[K     |██████████████▋                 | 778kB 4.7MB/s eta 0:00:01\r\u001b[K     |██████████████▊                 | 788kB 4.7MB/s eta 0:00:01\r\u001b[K     |███████████████                 | 798kB 4.7MB/s eta 0:00:01\r\u001b[K     |███████████████▏                | 808kB 4.7MB/s eta 0:00:01\r\u001b[K     |███████████████▎                | 819kB 4.7MB/s eta 0:00:01\r\u001b[K     |███████████████▌                | 829kB 4.7MB/s eta 0:00:01\r\u001b[K     |███████████████▊                | 839kB 4.7MB/s eta 0:00:01\r\u001b[K     |████████████████                | 849kB 4.7MB/s eta 0:00:01\r\u001b[K     |████████████████                | 860kB 4.7MB/s eta 0:00:01\r\u001b[K     |████████████████▎               | 870kB 4.7MB/s eta 0:00:01\r\u001b[K     |████████████████▌               | 880kB 4.7MB/s eta 0:00:01\r\u001b[K     |████████████████▊               | 890kB 4.7MB/s eta 0:00:01\r\u001b[K     |████████████████▉               | 901kB 4.7MB/s eta 0:00:01\r\u001b[K     |█████████████████               | 911kB 4.7MB/s eta 0:00:01\r\u001b[K     |█████████████████▎              | 921kB 4.7MB/s eta 0:00:01\r\u001b[K     |█████████████████▍              | 931kB 4.7MB/s eta 0:00:01\r\u001b[K     |█████████████████▋              | 942kB 4.7MB/s eta 0:00:01\r\u001b[K     |█████████████████▉              | 952kB 4.7MB/s eta 0:00:01\r\u001b[K     |██████████████████              | 962kB 4.7MB/s eta 0:00:01\r\u001b[K     |██████████████████▏             | 972kB 4.7MB/s eta 0:00:01\r\u001b[K     |██████████████████▍             | 983kB 4.7MB/s eta 0:00:01\r\u001b[K     |██████████████████▋             | 993kB 4.7MB/s eta 0:00:01\r\u001b[K     |██████████████████▉             | 1.0MB 4.7MB/s eta 0:00:01\r\u001b[K     |███████████████████             | 1.0MB 4.7MB/s eta 0:00:01\r\u001b[K     |███████████████████▏            | 1.0MB 4.7MB/s eta 0:00:01\r\u001b[K     |███████████████████▍            | 1.0MB 4.7MB/s eta 0:00:01\r\u001b[K     |███████████████████▌            | 1.0MB 4.7MB/s eta 0:00:01\r\u001b[K     |███████████████████▊            | 1.1MB 4.7MB/s eta 0:00:01\r\u001b[K     |████████████████████            | 1.1MB 4.7MB/s eta 0:00:01\r\u001b[K     |████████████████████▏           | 1.1MB 4.7MB/s eta 0:00:01\r\u001b[K     |████████████████████▎           | 1.1MB 4.7MB/s eta 0:00:01\r\u001b[K     |████████████████████▌           | 1.1MB 4.7MB/s eta 0:00:01\r\u001b[K     |████████████████████▊           | 1.1MB 4.7MB/s eta 0:00:01\r\u001b[K     |████████████████████▉           | 1.1MB 4.7MB/s eta 0:00:01\r\u001b[K     |█████████████████████           | 1.1MB 4.7MB/s eta 0:00:01\r\u001b[K     |█████████████████████▎          | 1.1MB 4.7MB/s eta 0:00:01\r\u001b[K     |█████████████████████▌          | 1.1MB 4.7MB/s eta 0:00:01\r\u001b[K     |█████████████████████▋          | 1.2MB 4.7MB/s eta 0:00:01\r\u001b[K     |█████████████████████▉          | 1.2MB 4.7MB/s eta 0:00:01\r\u001b[K     |██████████████████████          | 1.2MB 4.7MB/s eta 0:00:01\r\u001b[K     |██████████████████████▎         | 1.2MB 4.7MB/s eta 0:00:01\r\u001b[K     |██████████████████████▍         | 1.2MB 4.7MB/s eta 0:00:01\r\u001b[K     |██████████████████████▋         | 1.2MB 4.7MB/s eta 0:00:01\r\u001b[K     |██████████████████████▉         | 1.2MB 4.7MB/s eta 0:00:01\r\u001b[K     |███████████████████████         | 1.2MB 4.7MB/s eta 0:00:01\r\u001b[K     |███████████████████████▏        | 1.2MB 4.7MB/s eta 0:00:01\r\u001b[K     |███████████████████████▍        | 1.2MB 4.7MB/s eta 0:00:01\r\u001b[K     |███████████████████████▋        | 1.3MB 4.7MB/s eta 0:00:01\r\u001b[K     |███████████████████████▊        | 1.3MB 4.7MB/s eta 0:00:01\r\u001b[K     |████████████████████████        | 1.3MB 4.7MB/s eta 0:00:01\r\u001b[K     |████████████████████████▏       | 1.3MB 4.7MB/s eta 0:00:01\r\u001b[K     |████████████████████████▍       | 1.3MB 4.7MB/s eta 0:00:01\r\u001b[K     |████████████████████████▌       | 1.3MB 4.7MB/s eta 0:00:01\r\u001b[K     |████████████████████████▊       | 1.3MB 4.7MB/s eta 0:00:01\r\u001b[K     |█████████████████████████       | 1.3MB 4.7MB/s eta 0:00:01\r\u001b[K     |█████████████████████████       | 1.3MB 4.7MB/s eta 0:00:01\r\u001b[K     |█████████████████████████▎      | 1.4MB 4.7MB/s eta 0:00:01\r\u001b[K     |█████████████████████████▌      | 1.4MB 4.7MB/s eta 0:00:01\r\u001b[K     |█████████████████████████▊      | 1.4MB 4.7MB/s eta 0:00:01\r\u001b[K     |█████████████████████████▉      | 1.4MB 4.7MB/s eta 0:00:01\r\u001b[K     |██████████████████████████      | 1.4MB 4.7MB/s eta 0:00:01\r\u001b[K     |██████████████████████████▎     | 1.4MB 4.7MB/s eta 0:00:01\r\u001b[K     |██████████████████████████▍     | 1.4MB 4.7MB/s eta 0:00:01\r\u001b[K     |██████████████████████████▋     | 1.4MB 4.7MB/s eta 0:00:01\r\u001b[K     |██████████████████████████▉     | 1.4MB 4.7MB/s eta 0:00:01\r\u001b[K     |███████████████████████████     | 1.4MB 4.7MB/s eta 0:00:01\r\u001b[K     |███████████████████████████▏    | 1.5MB 4.7MB/s eta 0:00:01\r\u001b[K     |███████████████████████████▍    | 1.5MB 4.7MB/s eta 0:00:01\r\u001b[K     |███████████████████████████▋    | 1.5MB 4.7MB/s eta 0:00:01\r\u001b[K     |███████████████████████████▉    | 1.5MB 4.7MB/s eta 0:00:01\r\u001b[K     |████████████████████████████    | 1.5MB 4.7MB/s eta 0:00:01\r\u001b[K     |████████████████████████████▏   | 1.5MB 4.7MB/s eta 0:00:01\r\u001b[K     |████████████████████████████▍   | 1.5MB 4.7MB/s eta 0:00:01\r\u001b[K     |████████████████████████████▌   | 1.5MB 4.7MB/s eta 0:00:01\r\u001b[K     |████████████████████████████▊   | 1.5MB 4.7MB/s eta 0:00:01\r\u001b[K     |█████████████████████████████   | 1.5MB 4.7MB/s eta 0:00:01\r\u001b[K     |█████████████████████████████▏  | 1.6MB 4.7MB/s eta 0:00:01\r\u001b[K     |█████████████████████████████▎  | 1.6MB 4.7MB/s eta 0:00:01\r\u001b[K     |█████████████████████████████▌  | 1.6MB 4.7MB/s eta 0:00:01\r\u001b[K     |█████████████████████████████▊  | 1.6MB 4.7MB/s eta 0:00:01\r\u001b[K     |██████████████████████████████  | 1.6MB 4.7MB/s eta 0:00:01\r\u001b[K     |██████████████████████████████  | 1.6MB 4.7MB/s eta 0:00:01\r\u001b[K     |██████████████████████████████▎ | 1.6MB 4.7MB/s eta 0:00:01\r\u001b[K     |██████████████████████████████▌ | 1.6MB 4.7MB/s eta 0:00:01\r\u001b[K     |██████████████████████████████▋ | 1.6MB 4.7MB/s eta 0:00:01\r\u001b[K     |██████████████████████████████▉ | 1.6MB 4.7MB/s eta 0:00:01\r\u001b[K     |███████████████████████████████ | 1.7MB 4.7MB/s eta 0:00:01\r\u001b[K     |███████████████████████████████▎| 1.7MB 4.7MB/s eta 0:00:01\r\u001b[K     |███████████████████████████████▍| 1.7MB 4.7MB/s eta 0:00:01\r\u001b[K     |███████████████████████████████▋| 1.7MB 4.7MB/s eta 0:00:01\r\u001b[K     |███████████████████████████████▉| 1.7MB 4.7MB/s eta 0:00:01\r\u001b[K     |████████████████████████████████| 1.7MB 4.7MB/s eta 0:00:01\r\u001b[K     |████████████████████████████████| 1.7MB 4.7MB/s \n",
            "\u001b[?25hRequirement already satisfied: Click>=7.0 in /usr/local/lib/python3.6/dist-packages (from youtokentome) (7.1.1)\n",
            "Installing collected packages: youtokentome\n",
            "Successfully installed youtokentome-1.0.6\n"
          ],
          "name": "stdout"
        }
      ]
    },
    {
      "cell_type": "code",
      "metadata": {
        "id": "CnnZiaezB7lA"
      },
      "source": [
        "import youtokentome as yttm\n",
        "\n",
        "with open('src.txt', \"w\") as from_out, open(\"trg.txt\", \"w\") as to_out, open(\"data.txt\") as data:\n",
        "    for line in data.readlines():\n",
        "        fr, to = line.strip().split('\\t')[:2]\n",
        "        print(fr, file=from_out)\n",
        "        print(to, file=to_out)\n",
        "\n",
        "path_src = \"src.txt\"\n",
        "path_trg = \"trg.txt\"\n",
        "src_bpe_model = \"src.bpe\"\n",
        "trg_bpe_model = \"trg.bpe\"\n",
        "VOCAB_SIZE = 5000\n",
        "PAD_IDX = 0\n",
        "\n",
        "yttm.BPE.train(data=path_src, model=src_bpe_model, vocab_size=VOCAB_SIZE, pad_id = PAD_IDX)\n",
        "yttm.BPE.train(data=path_trg, model=trg_bpe_model, vocab_size=VOCAB_SIZE, pad_id=PAD_IDX)\n",
        "bpe_src = yttm.BPE(model=src_bpe_model)\n",
        "bpe_trg = yttm.BPE(model=trg_bpe_model)\n"
      ],
      "execution_count": null,
      "outputs": []
    },
    {
      "cell_type": "code",
      "metadata": {
        "id": "QyoCjS63EfpF",
        "colab": {
          "base_uri": "https://localhost:8080/",
          "height": 35
        },
        "outputId": "53b66cbc-cca9-466e-b63b-b3c640ce5137"
      },
      "source": [
        "bpe_src.vocab()[::1000]"
      ],
      "execution_count": null,
      "outputs": [
        {
          "output_type": "execute_result",
          "data": {
            "text/plain": [
              "['<PAD>', 'ary', '▁Ge', '▁gardens,', '▁Paul']"
            ]
          },
          "metadata": {
            "tags": []
          },
          "execution_count": 25
        }
      ]
    },
    {
      "cell_type": "code",
      "metadata": {
        "id": "-drWCMEqB7lB",
        "colab": {
          "base_uri": "https://localhost:8080/",
          "height": 217
        },
        "outputId": "096ffdfe-3141-4795-ca4e-9a7208a1d854"
      },
      "source": [
        "with open(\"data.txt\") as data:\n",
        "    pairs = list(data.readlines())[:5]\n",
        "    \n",
        "list(zip(*(x.strip().split('\\t')[:2] for x in pairs)))"
      ],
      "execution_count": null,
      "outputs": [
        {
          "output_type": "execute_result",
          "data": {
            "text/plain": [
              "[('Cordelia Hotel is situated in Tbilisi, a 3-minute walk away from Saint Trinity Church.',\n",
              "  'At Tupirmarka Lodge you will find a 24-hour front desk, room service, and a snack bar.',\n",
              "  'Featuring free WiFi in all areas, Naigao Xiaowo offers accommodation in Shanghai.',\n",
              "  'Each has a TV and a private bathroom with shower.',\n",
              "  'Your room comes with air conditioning and satellite TV.'),\n",
              " ('Отель Cordelia расположен в Тбилиси, в 3 минутах ходьбы от Свято-Троицкого собора.',\n",
              "  'В числе удобств лоджа Tupirmarka круглосуточная стойка регистрации и снэк-бар. Гости могут воспользоваться услугой доставки еды и напитков в номер.',\n",
              "  'Апартаменты Naigao Xiaowo расположены в городе Шанхай. К услугам гостей бесплатный Wi-Fi во всех зонах.',\n",
              "  'В вашем распоряжении также телевизор и собственная ванная комната с душем.',\n",
              "  'Номер оснащен кондиционером и спутниковым телевидением.')]"
            ]
          },
          "metadata": {
            "tags": []
          },
          "execution_count": 26
        }
      ]
    },
    {
      "cell_type": "code",
      "metadata": {
        "id": "PU3_LFAuB7lG"
      },
      "source": [
        "import torch\n",
        "from torch.utils import data\n",
        "from torch.nn.utils.rnn import pad_sequence\n",
        "\n",
        "\n",
        "class CustomDataset(data.Dataset):\n",
        "    def __init__(self, path):\n",
        "        super().__init__()\n",
        "        with open(path, \"r\") as fp:\n",
        "            self.data = list(fp.readlines())\n",
        "    \n",
        "    def __getitem__(self, idx):\n",
        "        return self.data[idx].strip().split('\\t')\n",
        "    \n",
        "    def __len__(self):\n",
        "        return len(self.data)\n",
        "\n",
        "class Batch:\n",
        "    def __init__(self, src, trg):\n",
        "        self.src = src\n",
        "        self.trg = trg\n",
        "        \n",
        "\n",
        "def collate_fn(pairs):\n",
        "    src, trg = list(zip(*pairs))\n",
        "    src_code = bpe_src.encode(sentences=src, bos=True, eos=True)\n",
        "    trg_code = bpe_trg.encode(sentences=src, bos=True, eos=True)\n",
        "    \n",
        "    src_code = [torch.LongTensor(x) for x in src_code]\n",
        "    trg_code = [torch.LongTensor(x) for x in trg_code]\n",
        "    return Batch(pad_sequence(src_code, batch_first=False).to(device), pad_sequence(trg_code, batch_first=False).to(device))\n",
        "\n",
        "ds = CustomDataset(\"data.txt\")\n",
        "        \n",
        "        "
      ],
      "execution_count": null,
      "outputs": []
    },
    {
      "cell_type": "code",
      "metadata": {
        "id": "t2QkhbyCEyAy"
      },
      "source": [
        ""
      ],
      "execution_count": null,
      "outputs": []
    },
    {
      "cell_type": "code",
      "metadata": {
        "id": "SvyGj-5CB7lK"
      },
      "source": [
        "import numpy as np\n",
        "random_seed = 42\n",
        "batch_size = 128\n",
        "dataset_size = len(ds)\n",
        "indices = list(range(dataset_size))\n",
        "train_size = 0.8\n",
        "val_size = 0.15\n",
        "val_split = int(np.floor(train_size * dataset_size))\n",
        "test_split = val_split + int(np.floor(val_size*dataset_size))\n",
        "np.random.seed(random_seed)\n",
        "np.random.shuffle(indices)\n",
        "train_indices, val_indices, test_indices = indices[:val_split], indices[val_split:test_split], indices[test_split:]\n",
        "\n",
        "# Creating PT data samplers and loaders:\n",
        "train_sampler = data.SubsetRandomSampler(train_indices)\n",
        "valid_sampler = data.SubsetRandomSampler(val_indices)\n",
        "test_sampler = data.SubsetRandomSampler(test_indices)\n",
        "\n",
        "train_loader = torch.utils.data.DataLoader(ds, batch_size=batch_size, \n",
        "                                           collate_fn=collate_fn, \n",
        "                                           sampler=train_sampler)\n",
        "valid_loader = torch.utils.data.DataLoader(ds, batch_size=batch_size,\n",
        "                                                collate_fn=collate_fn,\n",
        "                                                sampler=valid_sampler)\n",
        "test_loader = data.DataLoader(ds, batch_size=batch_size,\n",
        "                             collate_fn=collate_fn, \n",
        "                             sampler=test_sampler)\n"
      ],
      "execution_count": null,
      "outputs": []
    },
    {
      "cell_type": "code",
      "metadata": {
        "id": "e13mb5bmE0al"
      },
      "source": [
        "batch = next(iter(train_loader))"
      ],
      "execution_count": null,
      "outputs": []
    },
    {
      "cell_type": "code",
      "metadata": {
        "id": "oaLLtHpzE4uI",
        "colab": {
          "base_uri": "https://localhost:8080/",
          "height": 73
        },
        "outputId": "d649b331-495b-4dc2-d31a-18ec7389257f"
      },
      "source": [
        "bpe_src.decode(batch.src[:,0].tolist()), bpe_trg.decode(batch.trg[:,0].tolist())"
      ],
      "execution_count": null,
      "outputs": [
        {
          "output_type": "execute_result",
          "data": {
            "text/plain": [
              "(['<BOS> Marmaris city centre is only 1.5 km from Tropic Marina.<EOS><PAD><PAD><PAD><PAD><PAD><PAD><PAD><PAD><PAD><PAD><PAD><PAD><PAD><PAD><PAD><PAD><PAD><PAD><PAD><PAD><PAD><PAD><PAD><PAD><PAD><PAD><PAD><PAD><PAD><PAD><PAD><PAD><PAD><PAD><PAD><PAD><PAD><PAD><PAD>'],\n",
              " ['<BOS> Marmaris city centre is only 1.5 km from Tropic Marina.<EOS><PAD><PAD><PAD><PAD><PAD><PAD><PAD><PAD><PAD><PAD><PAD><PAD><PAD><PAD><PAD><PAD><PAD><PAD><PAD><PAD><PAD><PAD><PAD><PAD><PAD><PAD><PAD><PAD><PAD><PAD><PAD><PAD><PAD><PAD><PAD><PAD><PAD><PAD><PAD><PAD><PAD><PAD><PAD><PAD><PAD><PAD><PAD><PAD><PAD><PAD><PAD><PAD><PAD><PAD><PAD><PAD><PAD><PAD><PAD><PAD><PAD><PAD><PAD><PAD><PAD><PAD><PAD><PAD><PAD><PAD><PAD><PAD><PAD><PAD><PAD><PAD><PAD><PAD><PAD><PAD><PAD><PAD><PAD><PAD><PAD><PAD><PAD><PAD><PAD><PAD><PAD><PAD><PAD><PAD><PAD><PAD><PAD><PAD><PAD><PAD><PAD><PAD><PAD><PAD><PAD><PAD><PAD><PAD><PAD><PAD><PAD><PAD><PAD>'])"
            ]
          },
          "metadata": {
            "tags": []
          },
          "execution_count": 36
        }
      ]
    },
    {
      "cell_type": "code",
      "metadata": {
        "id": "4WnBp54wE9KI",
        "colab": {
          "base_uri": "https://localhost:8080/",
          "height": 143
        },
        "outputId": "9d979e82-211a-4cfd-b2e6-86b255d3f9da"
      },
      "source": [
        "batch.trg"
      ],
      "execution_count": null,
      "outputs": [
        {
          "output_type": "execute_result",
          "data": {
            "text/plain": [
              "tensor([[   2,    2,    2,  ...,    2,    2,    2],\n",
              "        [1347, 1885, 3533,  ...,  968, 2220,  631],\n",
              "        [  70,    4, 1373,  ...,   34,  861, 2907],\n",
              "        ...,\n",
              "        [   0,    0,    0,  ...,    0,    0,    0],\n",
              "        [   0,    0,    0,  ...,    0,    0,    0],\n",
              "        [   0,    0,    0,  ...,    0,    0,    0]])"
            ]
          },
          "metadata": {
            "tags": []
          },
          "execution_count": 32
        }
      ]
    },
    {
      "cell_type": "code",
      "metadata": {
        "id": "QNYLerfAB7lL"
      },
      "source": [
        "import my_network\n",
        "Encoder = my_network.Encoder\n",
        "Decoder = my_network.Decoder\n",
        "Seq2Seq = my_network.Seq2Seq\n",
        "\n",
        "device = 'cuda' if torch.cuda.is_available() else 'cpu'\n",
        "INPUT_DIM = VOCAB_SIZE\n",
        "OUTPUT_DIM = VOCAB_SIZE\n",
        "ENC_EMB_DIM = 256\n",
        "DEC_EMB_DIM = 256\n",
        "HID_DIM = 512\n",
        "N_LAYERS = 2\n",
        "ENC_DROPOUT = 0.5\n",
        "DEC_DROPOUT = 0.5\n",
        "\n",
        "enc = Encoder(INPUT_DIM, ENC_EMB_DIM, HID_DIM, N_LAYERS, ENC_DROPOUT)\n",
        "dec = Decoder(OUTPUT_DIM, DEC_EMB_DIM, HID_DIM, N_LAYERS, DEC_DROPOUT)\n",
        "\n",
        "# dont forget to put the model to the right device\n",
        "model = Seq2Seq(enc, dec, device).to(device)\n",
        "#model.apply(init_weights)\n",
        "optimizer_bpe = torch.optim.Adam(model.parameters())\n",
        "criterion = nn.CrossEntropyLoss(ignore_index=PAD_IDX)"
      ],
      "execution_count": null,
      "outputs": []
    },
    {
      "cell_type": "code",
      "metadata": {
        "id": "GazXiDpPB7lM",
        "colab": {
          "base_uri": "https://localhost:8080/",
          "height": 567
        },
        "outputId": "5ef82fe5-182f-4772-a9ae-6dfc77e99e67"
      },
      "source": [
        "N_EPOCHS = 5\n",
        "CLIP = 1\n",
        "train_history = []\n",
        "valid_history = []\n",
        "\n",
        "\n",
        "best_valid_loss = float('inf')\n",
        "for epoch in range(N_EPOCHS):\n",
        "    \n",
        "    start_time = time.time()\n",
        "    \n",
        "    train_loss = train(model, train_loader, optimizer_bpe, criterion, CLIP, train_history, valid_history)\n",
        "    valid_loss = evaluate(model, valid_loader, criterion)\n",
        "    \n",
        "    end_time = time.time()\n",
        "    \n",
        "    epoch_mins, epoch_secs = epoch_time(start_time, end_time)\n",
        "    \n",
        "    if valid_loss < best_valid_loss:\n",
        "        best_valid_loss = valid_loss\n",
        "        torch.save(model.state_dict(), 'bpe_model.pt')\n",
        "    \n",
        "    train_history.append(train_loss)\n",
        "    valid_history.append(valid_loss)\n",
        "    print(f'Epoch: {epoch+1:02} | Time: {epoch_mins}m {epoch_secs}s')\n",
        "    print(f'\\tTrain Loss: {train_loss:.3f} | Train PPL: {math.exp(train_loss):7.3f}')\n",
        "    print(f'\\t Val. Loss: {valid_loss:.3f} |  Val. PPL: {math.exp(valid_loss):7.3f}')"
      ],
      "execution_count": null,
      "outputs": [
        {
          "output_type": "display_data",
          "data": {
            "image/png": "[encoded data removed]",
            "text/plain": [
              "<Figure size 864x576 with 2 Axes>"
            ]
          },
          "metadata": {
            "tags": []
          }
        },
        {
          "output_type": "stream",
          "text": [
            "Epoch: 05 | Time: 1m 43s\n",
            "\tTrain Loss: 4.354 | Train PPL:  77.784\n",
            "\t Val. Loss: 5.087 |  Val. PPL: 161.876\n"
          ],
          "name": "stdout"
        }
      ]
    },
    {
      "cell_type": "code",
      "metadata": {
        "id": "66B7TL3kkVy6",
        "colab": {
          "base_uri": "https://localhost:8080/",
          "height": 35
        },
        "outputId": "5494faf6-9bc1-4d94-f03e-1825cb79f79a"
      },
      "source": [
        "bpe_trg.id_to_subword(4) "
      ],
      "execution_count": null,
      "outputs": [
        {
          "output_type": "execute_result",
          "data": {
            "text/plain": [
              "'▁'"
            ]
          },
          "metadata": {
            "tags": []
          },
          "execution_count": 41
        }
      ]
    },
    {
      "cell_type": "code",
      "metadata": {
        "id": "F1UCOXfKyxgF",
        "colab": {
          "base_uri": "https://localhost:8080/",
          "height": 125
        },
        "outputId": "16eff9f2-6a23-4f7f-f793-fe1cdb48e4c5"
      },
      "source": [
        "from utils import generate_translation_bpe\n",
        "\n",
        "batch = next(iter(test_loader))\n",
        "for idx in [1,2]:\n",
        "    src = batch.src[:, idx:idx+1]\n",
        "    trg = batch.trg[:, idx:idx+1]\n",
        "    generate_translation_bpe(src, trg, model, bpe_trg)"
      ],
      "execution_count": null,
      "outputs": [
        {
          "output_type": "stream",
          "text": [
            "Original:  You can play billiards and mini-golf at the property, and the area is popular for snorkelling and windsurfing.\n",
            "Generated: You can enjoy a tennis and the the the the the the the and a and the the\n",
            "\n",
            "Original:  The Karlsruhe Exhibition Centre is a 5-minute drive from the guest house.\n",
            "Generated: The Keraii Train Station is is a 10-minute drive from the property.\n",
            "\n"
          ],
          "name": "stdout"
        }
      ]
    },
    {
      "cell_type": "code",
      "metadata": {
        "id": "_3eAiPC1-bbb",
        "colab": {
          "base_uri": "https://localhost:8080/",
          "height": 35
        },
        "outputId": "0971dd14-b913-4372-f81c-ca5b546bc8c9"
      },
      "source": [
        "import tqdm\n",
        "from utils import remove_tech_tokens, trim\n",
        "original_text = []\n",
        "generated_text = []\n",
        "model.eval()\n",
        "with torch.no_grad():\n",
        "\n",
        "    for i, batch in tqdm.tqdm(enumerate(valid_loader)):\n",
        "\n",
        "        src = batch.src\n",
        "        trg = batch.trg\n",
        "\n",
        "        output = model(src, trg, 0) #turn off teacher forcing\n",
        "\n",
        "        #trg = [trg sent len, batch size]\n",
        "        #output = [trg sent len, batch size, output dim]\n",
        "\n",
        "        output = output.argmax(dim=-1)\n",
        "        \n",
        "        original_text.extend([trim(bpe_trg.decode(x)) for x in trg.cpu().transpose(0, 1).tolist()])\n",
        "        generated_text.extend([trim(bpe_trg.decode(x)) for x in output[1:].cpu().transpose(0, 1).tolist()])"
      ],
      "execution_count": null,
      "outputs": [
        {
          "output_type": "stream",
          "text": [
            "59it [00:06,  8.68it/s]\n"
          ],
          "name": "stderr"
        }
      ]
    },
    {
      "cell_type": "code",
      "metadata": {
        "id": "sSZ3ynKxeCWB"
      },
      "source": [
        "for i, _ in enumerate(generated_text):\n",
        "  generated_text[i] = generated_text[i][0].split()\n",
        "for i, _ in enumerate(original_text):\n",
        "  original_text[i] = original_text[i][0].split()"
      ],
      "execution_count": null,
      "outputs": []
    },
    {
      "cell_type": "code",
      "metadata": {
        "id": "2xL1GiNZAq4t"
      },
      "source": [
        "from utils import flatten\n",
        "\n",
        "original_text = flatten(original_text)\n",
        "generated_text = flatten(generated_text)"
      ],
      "execution_count": null,
      "outputs": []
    },
    {
      "cell_type": "code",
      "metadata": {
        "id": "fa_vgxmGA2Tj",
        "colab": {
          "base_uri": "https://localhost:8080/",
          "height": 35
        },
        "outputId": "109baf74-667c-4e1b-c989-0a0a76ee89d8"
      },
      "source": [
        "len(generated_text)"
      ],
      "execution_count": null,
      "outputs": [
        {
          "output_type": "execute_result",
          "data": {
            "text/plain": [
              "7500"
            ]
          },
          "metadata": {
            "tags": []
          },
          "execution_count": 55
        }
      ]
    },
    {
      "cell_type": "code",
      "metadata": {
        "id": "ZHLO-D_T_H7L",
        "colab": {
          "base_uri": "https://localhost:8080/",
          "height": 35
        },
        "outputId": "58e62cc1-6380-46a1-a400-8ccbe02e662a"
      },
      "source": [
        "from nltk.translate.bleu_score import corpus_bleu\n",
        "\n",
        "corpus_bleu([[text] for text in original_text], generated_text) * 100"
      ],
      "execution_count": null,
      "outputs": [
        {
          "output_type": "execute_result",
          "data": {
            "text/plain": [
              "13.615307451281469"
            ]
          },
          "metadata": {
            "tags": []
          },
          "execution_count": 56
        }
      ]
    },
    {
      "cell_type": "code",
      "metadata": {
        "id": "G_FtkSm-S3-J"
      },
      "source": [
        "enc = Encoder(INPUT_DIM, ENC_EMB_DIM, HID_DIM, N_LAYERS, ENC_DROPOUT)\n",
        "dec = Decoder(OUTPUT_DIM, DEC_EMB_DIM, HID_DIM, N_LAYERS, DEC_DROPOUT)"
      ],
      "execution_count": null,
      "outputs": []
    },
    {
      "cell_type": "code",
      "metadata": {
        "id": "2u1GHC5HB7lN",
        "colab": {
          "base_uri": "https://localhost:8080/",
          "height": 392
        },
        "outputId": "b95c6c92-140d-474c-9674-63b072755aeb"
      },
      "source": [
        "#for lm-pretraining\n",
        "from torch.utils import data\n",
        "src_ds = CustomDataset(\"src.txt\")\n",
        "trg_ds = CustomDataset(\"trg.txt\")\n",
        "\n",
        "def lm_collate_fn(sentences):\n",
        "    src_code = bpe_src.encode(sentences=[sentence[0] for sentence in sentences], bos=True, eos=True)\n",
        "    src_code = [torch.LongTensor(x) for x in src_code]\n",
        "    padded = pad_sequence(src_code)\n",
        "    return Batch(padded[:-1].to(device), padded[1:].to(device))\n",
        "\n",
        "train_lm_dl = data.DataLoader(trg_ds, batch_size=batch_size, sampler=train_sampler, collate_fn=lm_collate_fn)\n",
        "valid_lm_dl = data.DataLoader(trg_ds, batch_size=batch_size, sampler=valid_sampler, collate_fn=lm_collate_fn)\n",
        "test_lm_dl = data.DataLoader(trg_ds, batch_size=batch_size, sampler=test_sampler, collate_fn=lm_collate_fn)\n",
        "\n",
        "\n",
        "\n",
        "N_EPOCHS = 5\n",
        "CLIP = 1\n",
        "train_history = []\n",
        "valid_history = []\n",
        "for name, lm in zip(['enc', 'dec'], [enc, dec]):\n",
        "    optimizer_lm = torch.optim.Adam(lm.parameters())\n",
        "    lm.to(device)\n",
        "    best_valid_loss = float('inf')\n",
        "    for epoch in range(N_EPOCHS):\n",
        "        \n",
        "        start_time = time.time()\n",
        "        \n",
        "        train_loss = train(lm, train_lm_dl, optimizer_lm, criterion, CLIP, train_history, valid_history, lm=True)\n",
        "        valid_loss = evaluate(lm, valid_lm_dl, criterion, lm=True)\n",
        "        \n",
        "        end_time = time.time()\n",
        "        \n",
        "        epoch_mins, epoch_secs = epoch_time(start_time, end_time)\n",
        "        \n",
        "        if valid_loss < best_valid_loss:\n",
        "            best_valid_loss = valid_loss\n",
        "            torch.save(lm.state_dict(), name+'lm_model.pt')\n",
        "        \n",
        "        train_history.append(train_loss)\n",
        "        valid_history.append(valid_loss)\n",
        "        print(f'Epoch: {epoch+1:02} | Time: {epoch_mins}m {epoch_secs}s')\n",
        "        print(f'\\tTrain Loss: {train_loss:.3f} | Train PPL: {math.exp(train_loss):7.3f}')\n",
        "        print(f'\\t Val. Loss: {valid_loss:.3f} |  Val. PPL: {math.exp(valid_loss):7.3f}')\n",
        "\n",
        "        "
      ],
      "execution_count": null,
      "outputs": [
        {
          "output_type": "error",
          "ename": "TypeError",
          "evalue": "ignored",
          "traceback": [
            "\u001b[0;31m---------------------------------------------------------------------------\u001b[0m",
            "\u001b[0;31mTypeError\u001b[0m                                 Traceback (most recent call last)",
            "\u001b[0;32m<ipython-input-48-2c2d82c389fd>\u001b[0m in \u001b[0;36m<module>\u001b[0;34m()\u001b[0m\n\u001b[1;32m     27\u001b[0m         \u001b[0mstart_time\u001b[0m \u001b[0;34m=\u001b[0m \u001b[0mtime\u001b[0m\u001b[0;34m.\u001b[0m\u001b[0mtime\u001b[0m\u001b[0;34m(\u001b[0m\u001b[0;34m)\u001b[0m\u001b[0;34m\u001b[0m\u001b[0;34m\u001b[0m\u001b[0m\n\u001b[1;32m     28\u001b[0m \u001b[0;34m\u001b[0m\u001b[0m\n\u001b[0;32m---> 29\u001b[0;31m         \u001b[0mtrain_loss\u001b[0m \u001b[0;34m=\u001b[0m \u001b[0mtrain\u001b[0m\u001b[0;34m(\u001b[0m\u001b[0mlm\u001b[0m\u001b[0;34m,\u001b[0m \u001b[0mtrain_lm_dl\u001b[0m\u001b[0;34m,\u001b[0m \u001b[0moptimizer_lm\u001b[0m\u001b[0;34m,\u001b[0m \u001b[0mcriterion\u001b[0m\u001b[0;34m,\u001b[0m \u001b[0mCLIP\u001b[0m\u001b[0;34m,\u001b[0m \u001b[0mtrain_history\u001b[0m\u001b[0;34m,\u001b[0m \u001b[0mvalid_history\u001b[0m\u001b[0;34m,\u001b[0m \u001b[0mlm\u001b[0m\u001b[0;34m=\u001b[0m\u001b[0;32mTrue\u001b[0m\u001b[0;34m)\u001b[0m\u001b[0;34m\u001b[0m\u001b[0;34m\u001b[0m\u001b[0m\n\u001b[0m\u001b[1;32m     30\u001b[0m         \u001b[0mvalid_loss\u001b[0m \u001b[0;34m=\u001b[0m \u001b[0mevaluate\u001b[0m\u001b[0;34m(\u001b[0m\u001b[0mlm\u001b[0m\u001b[0;34m,\u001b[0m \u001b[0mvalid_lm_dl\u001b[0m\u001b[0;34m,\u001b[0m \u001b[0mcriterion\u001b[0m\u001b[0;34m,\u001b[0m \u001b[0mlm\u001b[0m\u001b[0;34m=\u001b[0m\u001b[0;32mTrue\u001b[0m\u001b[0;34m)\u001b[0m\u001b[0;34m\u001b[0m\u001b[0;34m\u001b[0m\u001b[0m\n\u001b[1;32m     31\u001b[0m \u001b[0;34m\u001b[0m\u001b[0m\n",
            "\u001b[0;32m<ipython-input-24-728184f1b781>\u001b[0m in \u001b[0;36mtrain\u001b[0;34m(model, iterator, optimizer, criterion, clip, train_history, valid_history, lm)\u001b[0m\n\u001b[1;32m     11\u001b[0m         \u001b[0moptimizer\u001b[0m\u001b[0;34m.\u001b[0m\u001b[0mzero_grad\u001b[0m\u001b[0;34m(\u001b[0m\u001b[0;34m)\u001b[0m\u001b[0;34m\u001b[0m\u001b[0;34m\u001b[0m\u001b[0m\n\u001b[1;32m     12\u001b[0m         \u001b[0;32mif\u001b[0m \u001b[0mlm\u001b[0m\u001b[0;34m:\u001b[0m\u001b[0;34m\u001b[0m\u001b[0;34m\u001b[0m\u001b[0m\n\u001b[0;32m---> 13\u001b[0;31m             \u001b[0moutput\u001b[0m \u001b[0;34m=\u001b[0m \u001b[0mmodel\u001b[0m\u001b[0;34m(\u001b[0m\u001b[0msrc\u001b[0m\u001b[0;34m,\u001b[0m \u001b[0mlm\u001b[0m\u001b[0;34m=\u001b[0m\u001b[0mlm\u001b[0m\u001b[0;34m)\u001b[0m\u001b[0;34m\u001b[0m\u001b[0;34m\u001b[0m\u001b[0m\n\u001b[0m\u001b[1;32m     14\u001b[0m         \u001b[0;32melse\u001b[0m\u001b[0;34m:\u001b[0m\u001b[0;34m\u001b[0m\u001b[0;34m\u001b[0m\u001b[0m\n\u001b[1;32m     15\u001b[0m             \u001b[0moutput\u001b[0m \u001b[0;34m=\u001b[0m \u001b[0mmodel\u001b[0m\u001b[0;34m(\u001b[0m\u001b[0msrc\u001b[0m\u001b[0;34m,\u001b[0m \u001b[0mtrg\u001b[0m\u001b[0;34m)\u001b[0m\u001b[0;34m\u001b[0m\u001b[0;34m\u001b[0m\u001b[0m\n",
            "\u001b[0;32m/usr/local/lib/python3.6/dist-packages/torch/nn/modules/module.py\u001b[0m in \u001b[0;36m__call__\u001b[0;34m(self, *input, **kwargs)\u001b[0m\n\u001b[1;32m    530\u001b[0m             \u001b[0mresult\u001b[0m \u001b[0;34m=\u001b[0m \u001b[0mself\u001b[0m\u001b[0;34m.\u001b[0m\u001b[0m_slow_forward\u001b[0m\u001b[0;34m(\u001b[0m\u001b[0;34m*\u001b[0m\u001b[0minput\u001b[0m\u001b[0;34m,\u001b[0m \u001b[0;34m**\u001b[0m\u001b[0mkwargs\u001b[0m\u001b[0;34m)\u001b[0m\u001b[0;34m\u001b[0m\u001b[0;34m\u001b[0m\u001b[0m\n\u001b[1;32m    531\u001b[0m         \u001b[0;32melse\u001b[0m\u001b[0;34m:\u001b[0m\u001b[0;34m\u001b[0m\u001b[0;34m\u001b[0m\u001b[0m\n\u001b[0;32m--> 532\u001b[0;31m             \u001b[0mresult\u001b[0m \u001b[0;34m=\u001b[0m \u001b[0mself\u001b[0m\u001b[0;34m.\u001b[0m\u001b[0mforward\u001b[0m\u001b[0;34m(\u001b[0m\u001b[0;34m*\u001b[0m\u001b[0minput\u001b[0m\u001b[0;34m,\u001b[0m \u001b[0;34m**\u001b[0m\u001b[0mkwargs\u001b[0m\u001b[0;34m)\u001b[0m\u001b[0;34m\u001b[0m\u001b[0;34m\u001b[0m\u001b[0m\n\u001b[0m\u001b[1;32m    533\u001b[0m         \u001b[0;32mfor\u001b[0m \u001b[0mhook\u001b[0m \u001b[0;32min\u001b[0m \u001b[0mself\u001b[0m\u001b[0;34m.\u001b[0m\u001b[0m_forward_hooks\u001b[0m\u001b[0;34m.\u001b[0m\u001b[0mvalues\u001b[0m\u001b[0;34m(\u001b[0m\u001b[0;34m)\u001b[0m\u001b[0;34m:\u001b[0m\u001b[0;34m\u001b[0m\u001b[0;34m\u001b[0m\u001b[0m\n\u001b[1;32m    534\u001b[0m             \u001b[0mhook_result\u001b[0m \u001b[0;34m=\u001b[0m \u001b[0mhook\u001b[0m\u001b[0;34m(\u001b[0m\u001b[0mself\u001b[0m\u001b[0;34m,\u001b[0m \u001b[0minput\u001b[0m\u001b[0;34m,\u001b[0m \u001b[0mresult\u001b[0m\u001b[0;34m)\u001b[0m\u001b[0;34m\u001b[0m\u001b[0;34m\u001b[0m\u001b[0m\n",
            "\u001b[0;31mTypeError\u001b[0m: forward() got an unexpected keyword argument 'lm'"
          ]
        }
      ]
    },
    {
      "cell_type": "code",
      "metadata": {
        "id": "Ogqujxk1RdqP"
      },
      "source": [
        "model = Seq2Seq(enc, dec, device)"
      ],
      "execution_count": null,
      "outputs": []
    },
    {
      "cell_type": "code",
      "metadata": {
        "id": "W8Rs8xgjWNXL"
      },
      "source": [
        "optimizer_afterlm = torch.optim.Adam(model.parameters())\n",
        "criterion = nn.CrossEntropyLoss(ignore_index=PAD_IDX)"
      ],
      "execution_count": null,
      "outputs": []
    },
    {
      "cell_type": "code",
      "metadata": {
        "id": "iDIrauyuWWkK"
      },
      "source": [
        "N_EPOCHS = 5\n",
        "CLIP = 1\n",
        "train_history = []\n",
        "valid_history = []\n",
        "\n",
        "\n",
        "best_valid_loss = float('inf')\n",
        "for epoch in range(N_EPOCHS):\n",
        "    \n",
        "    start_time = time.time()\n",
        "    \n",
        "    train_loss = train(model, train_loader, optimizer_afterlm, criterion, CLIP, train_history, valid_history)\n",
        "    valid_loss = evaluate(model, valid_loader, criterion)\n",
        "    \n",
        "    end_time = time.time()\n",
        "    \n",
        "    epoch_mins, epoch_secs = epoch_time(start_time, end_time)\n",
        "    \n",
        "    if valid_loss < best_valid_loss:\n",
        "        best_valid_loss = valid_loss\n",
        "        torch.save(model.state_dict(), 'afterlm_model.pt')\n",
        "    \n",
        "    train_history.append(train_loss)\n",
        "    valid_history.append(valid_loss)\n",
        "    print(f'Epoch: {epoch+1:02} | Time: {epoch_mins}m {epoch_secs}s')\n",
        "    print(f'\\tTrain Loss: {train_loss:.3f} | Train PPL: {math.exp(train_loss):7.3f}')\n",
        "    print(f'\\t Val. Loss: {valid_loss:.3f} |  Val. PPL: {math.exp(valid_loss):7.3f}')"
      ],
      "execution_count": null,
      "outputs": []
    },
    {
      "cell_type": "code",
      "metadata": {
        "id": "u258hl4-dQ2p"
      },
      "source": [
        "import tqdm\n",
        "from utils import remove_tech_tokens, trim\n",
        "original_text = []\n",
        "generated_text = []\n",
        "model.eval()\n",
        "with torch.no_grad():\n",
        "\n",
        "    for i, batch in tqdm.tqdm(enumerate(test_loader)):\n",
        "\n",
        "        src = batch.src\n",
        "        trg = batch.trg\n",
        "\n",
        "        output = model(src, trg, 0) #turn off teacher forcing\n",
        "\n",
        "        #trg = [trg sent len, batch size]\n",
        "        #output = [trg sent len, batch size, output dim]\n",
        "\n",
        "        output = output.argmax(dim=-1)\n",
        "        \n",
        "        original_text.extend([trim(bpe_trg.decode(x)).split() for x in trg.cpu().transpose(0, 1).tolist()])\n",
        "        generated_text.extend([trim(bpe_trg.decode(x)).split() for x in output[1:].cpu().transpose(0, 1).tolist()])\n",
        "\n",
        "from utils import flatten\n",
        "\n",
        "original_text = flatten(original_text)\n",
        "generated_text = flatten(generated_text)\n",
        "\n",
        "from nltk.translate.bleu_score import corpus_bleu\n",
        "\n",
        "corpus_bleu([[text] for text in original_text], generated_text) * 100"
      ],
      "execution_count": null,
      "outputs": []
    },
    {
      "cell_type": "code",
      "metadata": {
        "id": "UKs-CbuEB7le"
      },
      "source": [
        "#for attention\n",
        "import my_network\n",
        "Attention = my_network.Attention\n",
        "attention = Attention(HID_DIM, HID_DIM, VOCAB_SIZE)\n",
        "enc2 = Encoder(INPUT_DIM, ENC_EMB_DIM, HID_DIM, N_LAYERS, ENC_DROPOUT)\n",
        "dec2 = Decoder(OUTPUT_DIM, DEC_EMB_DIM, HID_DIM, N_LAYERS, DEC_DROPOUT)\n",
        "model2 = Seq2Seq(enc2, dec2, device, attention)\n",
        "optimizer2 = torch.optim.Adam(model2.parameters())\n",
        "\n",
        "train_history = []\n",
        "valid_history = []\n",
        "    "
      ],
      "execution_count": null,
      "outputs": []
    },
    {
      "cell_type": "code",
      "metadata": {
        "id": "FcmpY5oJxfxi"
      },
      "source": [
        "train_loader = torch.utils.data.DataLoader(ds, batch_size=32, \n",
        "                                           collate_fn=collate_fn, \n",
        "                                           sampler=train_sampler)\n",
        "valid_loader = torch.utils.data.DataLoader(ds, batch_size=32,\n",
        "                                                collate_fn=collate_fn,\n",
        "                                                sampler=valid_sampler)\n",
        "test_loader = data.DataLoader(ds, batch_size=32,\n",
        "                             collate_fn=collate_fn, \n",
        "                             sampler=test_sampler)"
      ],
      "execution_count": null,
      "outputs": []
    },
    {
      "cell_type": "code",
      "metadata": {
        "id": "2GP2ezTzB7lf",
        "colab": {
          "base_uri": "https://localhost:8080/",
          "height": 561
        },
        "outputId": "241eb78c-981a-4c95-fe4e-fac85bb11dfa"
      },
      "source": [
        "\n",
        "model2.to(device)\n",
        "for epoch in range(N_EPOCHS):\n",
        "    \n",
        "    start_time = time.time()\n",
        "    \n",
        "    train_loss = train(model2, train_loader, optimizer2, criterion, CLIP, train_history, valid_history)\n",
        "    valid_loss = evaluate(model2, valid_loader, criterion)\n",
        "    \n",
        "    end_time = time.time()\n",
        "    \n",
        "    epoch_mins, epoch_secs = epoch_time(start_time, end_time)\n",
        "    \n",
        "    if valid_loss < best_valid_loss:\n",
        "        best_valid_loss = valid_loss\n",
        "        torch.save(model2.state_dict(), 'att_model.pt')\n",
        "    \n",
        "    train_history.append(train_loss)\n",
        "    valid_history.append(valid_loss)\n",
        "    print(f'Epoch: {epoch+1:02} | Time: {epoch_mins}m {epoch_secs}s')\n",
        "    print(f'\\tTrain Loss: {train_loss:.3f} | Train PPL: {math.exp(train_loss):7.3f}')\n",
        "    print(f'\\t Val. Loss: {valid_loss:.3f} |  Val. PPL: {math.exp(valid_loss):7.3f}')"
      ],
      "execution_count": null,
      "outputs": [
        {
          "output_type": "display_data",
          "data": {
            "image/png": "[encoded data removed]",
            "text/plain": [
              "<Figure size 864x576 with 2 Axes>"
            ]
          },
          "metadata": {
            "tags": []
          }
        },
        {
          "output_type": "stream",
          "text": [
            "Epoch: 05 | Time: 9m 4s\n",
            "\tTrain Loss: 1.543 | Train PPL:   4.679\n",
            "\t Val. Loss: 4.112 |  Val. PPL:  61.098\n"
          ],
          "name": "stdout"
        }
      ]
    },
    {
      "cell_type": "code",
      "metadata": {
        "id": "p7WyraVvTZXu",
        "colab": {
          "base_uri": "https://localhost:8080/",
          "height": 115
        },
        "outputId": "db782567-018f-4bc3-ae85-3eb64407ab19"
      },
      "source": [
        "from utils import generate_translation_bpe\n",
        "\n",
        "batch = next(iter(test_loader))\n",
        "for idx in [1,2]:\n",
        "    src = batch.src[:, idx:idx+1]\n",
        "    trg = batch.trg[:, idx:idx+1]\n",
        "    generate_translation_bpe(src, trg, model2, bpe_trg)"
      ],
      "execution_count": null,
      "outputs": [
        {
          "output_type": "stream",
          "text": [
            "Original:  Meir Park is 400 metres from GATA, while Dizengoff Center is 700 metres away.\n",
            "Generated: Me Park Park is 400 metres from G GTAA, while D Denenen Center is 700 700 metres away.\n",
            "\n",
            "Original:  Rooms have a private bathroom. For your comfort, you will find bathrobes and a hairdryer.\n",
            "Generated: Rooms have a private bathroom cloor your comfort, your comfort, and a hairdryer.\n",
            "\n"
          ],
          "name": "stdout"
        }
      ]
    },
    {
      "cell_type": "code",
      "metadata": {
        "id": "d6J5POZTchty",
        "colab": {
          "base_uri": "https://localhost:8080/",
          "height": 49
        },
        "outputId": "0d1e3add-846d-4f36-86ad-6d5661786653"
      },
      "source": [
        "import tqdm\n",
        "from utils import remove_tech_tokens, trim\n",
        "original_text = []\n",
        "generated_text = []\n",
        "model2.eval()\n",
        "with torch.no_grad():\n",
        "\n",
        "    for i, batch in tqdm.tqdm(enumerate(test_loader)):\n",
        "\n",
        "        src = batch.src\n",
        "        trg = batch.trg\n",
        "\n",
        "        output = model2(src, trg, 0) #turn off teacher forcing\n",
        "\n",
        "        #trg = [trg sent len, batch size]\n",
        "        #output = [trg sent len, batch size, output dim]\n",
        "\n",
        "        output = output.argmax(dim=-1)\n",
        "        \n",
        "        original_text.extend([trim(bpe_trg.decode(x)) for x in trg.cpu().transpose(0, 1).tolist()])\n",
        "        generated_text.extend([trim(bpe_trg.decode(x)) for x in output[1:].cpu().transpose(0, 1).tolist()])\n",
        "\n",
        "from utils import flatten\n",
        "\n",
        "original_text = flatten(original_text)\n",
        "generated_text = flatten(generated_text)\n",
        "\n",
        "from nltk.translate.bleu_score import corpus_bleu\n",
        "\n",
        "corpus_bleu([[text] for text in original_text], generated_text) * 100"
      ],
      "execution_count": null,
      "outputs": [
        {
          "output_type": "stream",
          "text": [
            "79it [00:10,  7.69it/s]\n"
          ],
          "name": "stderr"
        },
        {
          "output_type": "execute_result",
          "data": {
            "text/plain": [
              "73.7101113537702"
            ]
          },
          "metadata": {
            "tags": []
          },
          "execution_count": 85
        }
      ]
    },
    {
      "cell_type": "code",
      "metadata": {
        "id": "RDshSKDmB7lg"
      },
      "source": [
        "enc2 = Encoder(INPUT_DIM, ENC_EMB_DIM, HID_DIM, N_LAYERS, ENC_DROPOUT)\n",
        "dec2 = Decoder(OUTPUT_DIM, DEC_EMB_DIM, HID_DIM, N_LAYERS, DEC_DROPOUT)\n"
      ],
      "execution_count": null,
      "outputs": []
    },
    {
      "cell_type": "code",
      "metadata": {
        "id": "eD9-UfXQVBeC",
        "colab": {
          "base_uri": "https://localhost:8080/",
          "height": 561
        },
        "outputId": "b2d1a24b-a48d-4366-970f-b187d516cc9b"
      },
      "source": [
        "attention = Attention(HID_DIM, HID_DIM, VOCAB_SIZE)\n",
        "enc2.load_state_dict(torch.load('enclm_model.pt'))\n",
        "dec2.load_state_dict(torch.load('declm_model.pt'))\n",
        "model2 = Seq2Seq(enc2, dec2, device, attention)\n",
        "optimizer2 = torch.optim.Adam(model2.parameters())\n",
        "\n",
        "train_history = []\n",
        "valid_history = []\n",
        "\n",
        "model2.to(device)\n",
        "for epoch in range(N_EPOCHS):\n",
        "    \n",
        "    start_time = time.time()\n",
        "    \n",
        "    train_loss = train(model2, train_loader, optimizer2, criterion, CLIP, train_history, valid_history)\n",
        "    valid_loss = evaluate(model2, valid_loader, criterion)\n",
        "    \n",
        "    end_time = time.time()\n",
        "    \n",
        "    epoch_mins, epoch_secs = epoch_time(start_time, end_time)\n",
        "    \n",
        "    if valid_loss < best_valid_loss:\n",
        "        best_valid_loss = valid_loss\n",
        "        torch.save(model.state_dict(), 'att_model.pt')\n",
        "    \n",
        "    train_history.append(train_loss)\n",
        "    valid_history.append(valid_loss)\n",
        "    print(f'Epoch: {epoch+1:02} | Time: {epoch_mins}m {epoch_secs}s')\n",
        "    print(f'\\tTrain Loss: {train_loss:.3f} | Train PPL: {math.exp(train_loss):7.3f}')\n",
        "    print(f'\\t Val. Loss: {valid_loss:.3f} |  Val. PPL: {math.exp(valid_loss):7.3f}')"
      ],
      "execution_count": null,
      "outputs": [
        {
          "output_type": "display_data",
          "data": {
            "image/png": "[encoded data removed]",
            "text/plain": [
              "<Figure size 864x576 with 2 Axes>"
            ]
          },
          "metadata": {
            "tags": []
          }
        },
        {
          "output_type": "stream",
          "text": [
            "Epoch: 05 | Time: 9m 6s\n",
            "\tTrain Loss: 1.723 | Train PPL:   5.604\n",
            "\t Val. Loss: 4.325 |  Val. PPL:  75.593\n"
          ],
          "name": "stdout"
        }
      ]
    },
    {
      "cell_type": "code",
      "metadata": {
        "id": "qrlb886SWVF6",
        "colab": {
          "base_uri": "https://localhost:8080/",
          "height": 115
        },
        "outputId": "119bf49e-133c-4ce6-fca1-8946273637af"
      },
      "source": [
        "from utils import generate_translation_bpe\n",
        "\n",
        "batch = next(iter(test_loader))\n",
        "for idx in [1,2]:\n",
        "    src = batch.src[:, idx:idx+1]\n",
        "    trg = batch.trg[:, idx:idx+1]\n",
        "    generate_translation_bpe(src, trg, model2, bpe_trg)"
      ],
      "execution_count": null,
      "outputs": [
        {
          "output_type": "stream",
          "text": [
            "Original:  Empuriabrava is 15 minutes' drive, while Figueres is 20 km away.\n",
            "Generated: Enjooo is 15 minutes’ walk away, while Foo is 20 km away.\n",
            "\n",
            "Original:  Rooms at Al Khayam Castle are air conditioned and include minibar and a TV set.\n",
            "Generated: Rooms at Alloo are air conditioned and include barbecue and a TV.\n",
            "\n"
          ],
          "name": "stdout"
        }
      ]
    },
    {
      "cell_type": "code",
      "metadata": {
        "id": "n3oCTGddWsFy",
        "colab": {
          "base_uri": "https://localhost:8080/",
          "height": 49
        },
        "outputId": "8a2d9f2e-6f43-459e-a0f9-478bebb7986e"
      },
      "source": [
        "import tqdm\n",
        "from utils import remove_tech_tokens, trim\n",
        "original_text = []\n",
        "generated_text = []\n",
        "model2.eval()\n",
        "with torch.no_grad():\n",
        "\n",
        "    for i, batch in tqdm.tqdm(enumerate(test_loader)):\n",
        "\n",
        "        src = batch.src\n",
        "        trg = batch.trg\n",
        "\n",
        "        output = model2(src, trg, 0) #turn off teacher forcing\n",
        "\n",
        "        #trg = [trg sent len, batch size]\n",
        "        #output = [trg sent len, batch size, output dim]\n",
        "\n",
        "        output = output.argmax(dim=-1)\n",
        "        \n",
        "        original_text.extend([trim(bpe_trg.decode(x)) for x in trg.cpu().transpose(0, 1).tolist()])\n",
        "        generated_text.extend([trim(bpe_trg.decode(x)) for x in output[1:].cpu().transpose(0, 1).tolist()])\n",
        "\n",
        "from utils import flatten\n",
        "\n",
        "original_text = flatten(original_text)\n",
        "generated_text = flatten(generated_text)\n",
        "\n",
        "from nltk.translate.bleu_score import corpus_bleu\n",
        "\n",
        "corpus_bleu([[text] for text in original_text], generated_text) * 100"
      ],
      "execution_count": null,
      "outputs": [
        {
          "output_type": "stream",
          "text": [
            "79it [00:10,  7.53it/s]\n"
          ],
          "name": "stderr"
        },
        {
          "output_type": "execute_result",
          "data": {
            "text/plain": [
              "68.60039881869547"
            ]
          },
          "metadata": {
            "tags": []
          },
          "execution_count": 89
        }
      ]
    },
    {
      "cell_type": "code",
      "metadata": {
        "id": "t8v3JCnhWvvc"
      },
      "source": [
        ""
      ],
      "execution_count": null,
      "outputs": []
    },
    {
      "cell_type": "code",
      "metadata": {
        "id": "Du9ZtB1nW1r6"
      },
      "source": [
        "from nltk.translate.bleu_score import corpus_bleu\n",
        "\n",
        "corpus_bleu([[text] for text in original_text], generated_text) * 100"
      ],
      "execution_count": null,
      "outputs": []
    },
    {
      "cell_type": "code",
      "metadata": {
        "id": "7wW1BAwod12n"
      },
      "source": [
        ""
      ],
      "execution_count": null,
      "outputs": []
    }
  ]
}